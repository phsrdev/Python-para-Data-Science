{
 "cells": [
  {
   "cell_type": "markdown",
   "metadata": {},
   "source": [
    "# <font color=green>1. MEU PRIMEIRO SCRAPING"
   ]
  },
  {
   "cell_type": "markdown",
   "metadata": {},
   "source": [
    "# 1.1. Introdução"
   ]
  },
  {
   "cell_type": "markdown",
   "metadata": {},
   "source": [
    "## *Web Scraping* é o termo utilizado para definir a prática de coletar automaticamente informações na Internet. Isto é feito, geralmente, por meio de programas que simulam a navegação humana na Web."
   ]
  },
  {
   "cell_type": "markdown",
   "metadata": {},
   "source": [
    "# 1.2. Ambiente e bibliotecas\n",
    "### Utilizaremos em nosso treinamento o navegador Google Chrome"
   ]
  },
  {
   "cell_type": "code",
   "execution_count": 1,
   "metadata": {
    "colab": {},
    "colab_type": "code",
    "id": "e9pXIMIWByAp"
   },
   "outputs": [
    {
     "name": "stdout",
     "output_type": "stream",
     "text": [
      "BeautifulSoup -> 4.7.1\n",
      "urllib -> 3.7\n",
      "pandas -> 0.24.2\n"
     ]
    }
   ],
   "source": [
    "import bs4\n",
    "import urllib.request as urllib_request\n",
    "import pandas\n",
    "\n",
    "print(\"BeautifulSoup ->\", bs4.__version__)\n",
    "print(\"urllib ->\", urllib_request.__version__)\n",
    "print(\"pandas ->\", pandas.__version__)"
   ]
  },
  {
   "cell_type": "markdown",
   "metadata": {},
   "source": [
    "# 1.3. Meu primeiro scraping"
   ]
  },
  {
   "cell_type": "code",
   "execution_count": 223,
   "metadata": {},
   "outputs": [
    {
     "name": "stdout",
     "output_type": "stream",
     "text": [
      "Hello World!!!\n",
      "Web Scraping é o termo utilizado para definir a prática de coletar automaticamente informações na Internet. Isto é feito, geralmente, por meio de programas que simulam a navegação humana na Web.\n"
     ]
    }
   ],
   "source": [
    "from urllib.request import urlopen\n",
    "from bs4 import BeautifulSoup\n",
    "\n",
    "url = 'https://alura-site-scraping.herokuapp.com/hello-world.php'\n",
    "\n",
    "response = urlopen(url)\n",
    "html = response.read()\n",
    "\n",
    "soup = BeautifulSoup(html, 'html.parser')\n",
    "\n",
    "print(soup.find('h1', id=\"hello-world\").get_text())\n",
    "print(soup.find('p').get_text())"
   ]
  },
  {
   "cell_type": "markdown",
   "metadata": {},
   "source": [
    "---\n",
    "# <font color=green>2. OBTENDO E TRATANDO O CONTEÚDO DE UM HTML"
   ]
  },
  {
   "cell_type": "markdown",
   "metadata": {},
   "source": [
    "# 2.1. Entendendo a web"
   ]
  },
  {
   "cell_type": "markdown",
   "metadata": {},
   "source": [
    "<img src=\"./web/web.png\" width=\"700\">"
   ]
  },
  {
   "cell_type": "markdown",
   "metadata": {},
   "source": [
    "# 2.2. Obtendo o conteúdo HTML de um site"
   ]
  },
  {
   "cell_type": "markdown",
   "metadata": {},
   "source": [
    "# urllib.request\n",
    "## https://docs.python.org/3/library/urllib.html"
   ]
  },
  {
   "cell_type": "code",
   "execution_count": 3,
   "metadata": {
    "colab": {
     "base_uri": "https://localhost:8080/",
     "height": 54
    },
    "colab_type": "code",
    "id": "c1pKGnTpgvFU",
    "outputId": "b6b7e32d-4c3e-4f52-a8ba-0b1cbfe15ea4"
   },
   "outputs": [
    {
     "data": {
      "text/plain": [
       "b'<!DOCTYPE html>\\r\\n<html lang=\"pt-br\">\\r\\n<head>\\r\\n    <meta charset=\"utf-8\">\\r\\n    <meta name=\"viewport\" content=\"width=device-width, initial-scale=1, shrink-to-fit=no\">\\r\\n\\r\\n    <title>Alura Motors</title>\\r\\n\\r\\n\\t<style>\\r\\n\\t\\t/*Regra para a animacao*/\\r\\n\\t\\t@keyframes spin {\\r\\n\\t\\t\\t0% { transform: rotate(0deg); }\\r\\n\\t\\t\\t100% { transform: rotate(360deg); }\\r\\n\\t\\t}\\r\\n\\t\\t/*Mudando o tamanho do icone de resposta*/\\r\\n\\t\\tdiv.glyphicon {\\r\\n\\t\\t\\tcolor:#6B8E23;\\r\\n\\t\\t\\tfont-size: 38px;\\r\\n\\t\\t}\\r\\n\\t\\t/*Classe que mostra a animacao \\'spin\\'*/\\r\\n\\t\\t.loader {\\r\\n\\t\\t\\tborder: 16px solid #f3f3f3;\\r\\n\\t\\t\\tborder-radius: 50%;\\r\\n\\t\\t\\tborder-top: 16px solid #3498db;\\r\\n\\t\\t\\twidth: 80px;\\r\\n\\t\\t\\theight: 80px;\\r\\n\\t\\t\\t-webkit-animation: spin 2s linear infinite;\\r\\n\\t\\t\\tanimation: spin 2s linear infinite;\\r\\n\\t\\t}\\r\\n\\t</style>\\r\\n\\t<link rel=\"stylesheet\" href=\"https://maxcdn.bootstrapcdn.com/bootstrap/3.3.7/css/bootstrap.min.css\" integrity=\"sha384-BVYiiSIFeK1dGmJRAkycuHAHRg32OmUcww7on3RYdg4Va+PmSTsz/K68vbdEjh4u\" crossorigin=\"anonymous\">\\r\\n\\t<link rel=\"stylesheet\" href=\"css/styles.css\" media=\"all\">\\r\\n\\r\\n\\t<script src=\"https://code.jquery.com/jquery-1.12.4.js\"></script>\\r\\n\\t<script src=\"https://maxcdn.bootstrapcdn.com/bootstrap/3.3.7/js/bootstrap.min.js\" integrity=\"sha384-Tc5IQib027qvyjSMfHjOMaLkfuWVxZxUPnCJA7l2mCWNIpG9mGCD8wGNIcPD7Txa\" crossorigin=\"anonymous\"></script>\\r\\n\\t<script type=\"text/javascript\" src=\"js/index.js\"></script>\\r\\n\\t<script>\\r\\n\\t\\trequisitar(\"https://alura-scraping.herokuapp.com/produtos?_page=\"+1+\"&_limit=10\")\\r\\n\\t</script>\\r\\n\\r\\n</head>\\r\\n<body cz-shortcut-listen=\"true\">\\r\\n    <noscript>You need to enable JavaScript to run this app.</noscript>\\r\\n\\r\\n\\t<div class=\"modal fade\" data-backdrop=\"static\" id=\"loadingModal\" tabindex=\"-1\" role=\"dialog\" aria-labelledby=\"loadingModal_label\">\\r\\n\\t\\t<div class=\"modal-dialog\" role=\"document\">\\r\\n\\t\\t\\t<div class=\"modal-content\">\\r\\n\\t\\t\\t\\t<div class=\"modal-header\">\\r\\n\\t\\t\\t\\t\\t<h5 class=\"modal-title\" id=\"loadingModal_label\">\\r\\n\\t\\t\\t\\t\\t\\t<span class=\"glyphicon glyphicon-refresh\"></span>Aguarde...\\r\\n\\t\\t\\t\\t\\t</h5>\\r\\n\\t\\t\\t\\t</div>\\r\\n\\t\\t\\t\\t<div class=\"modal-body\">\\r\\n\\t\\t\\t\\t\\t<div class=\\'alert\\' role=\\'alert\\'>\\r\\n\\t\\t\\t\\t\\t\\t<center>\\r\\n\\t\\t\\t\\t\\t\\t\\t<div class=\"loader\" id=\"loader\"></div><br>\\r\\n\\t\\t\\t\\t\\t\\t\\t<h4><b id=\"loadingModal_content\"></b></h4>\\r\\n\\t\\t\\t\\t\\t\\t</center>\\r\\n\\t\\t\\t\\t\\t</div>\\r\\n\\t\\t\\t\\t</div>\\r\\n\\t\\t\\t</div>\\r\\n\\t\\t</div>\\r\\n\\t</div>\\r\\n\\r\\n    <div id=\"root\">\\r\\n\\t\\t<header>\\r\\n\\t\\t\\t<nav class=\"navbar navbar-inverse\" style=\"margin-bottom: 0;\">\\r\\n\\t\\t\\t\\t<div class=\"container\" style=\"margin-bottom: -20px;\">\\r\\n\\t\\t\\t\\t\\t<div class=\"navbar\">\\r\\n\\t\\t\\t\\t\\t\\t<a href=\"./index.php\" class=\"navbar-brand\" title=\"Alura Motors\">\\r\\n\\t\\t\\t\\t\\t\\t\\t<img src=\"img/alura-logo.svg\" class=\"d-inline-block align-top\" alt=\"Alura\">Motors\\r\\n\\t\\t\\t\\t\\t\\t</a>\\r\\n\\t\\t\\t\\t\\t\\t<ul class=\"nav navbar-nav\" style=\"margin-top: 35px;\">\\r\\n\\t\\t\\t\\t\\t\\t\\t<li><a href=\"./hello-world.php\">Hello World</a></li>\\r\\n\\t\\t\\t\\t\\t\\t\\t<li><a href=\"./index.php\">An\\xc3\\xbancios</a></li>\\r\\n\\t\\t\\t\\t\\t\\t</ul>\\r\\n\\t\\t\\t\\t\\t</div>\\r\\n\\t\\t\\t\\t</div>\\r\\n\\t\\t\\t</nav>\\r\\n\\t\\t</header>\\r\\n\\r\\n\\t\\t<div class=\"container\">\\r\\n\\t\\t\\t<h1 class=\"sub-header\">Ve\\xc3\\xadculos de Luxo Novos e Usados - Todas as Marcas</h1>\\r\\n\\t\\t\\t<div class=\"row\">\\r\\n\\t\\t\\t\\t<div class=\"col-md-12\">\\r\\n\\t\\t\\t\\t\\t<div class=\"container\" style=\"width: 100%\">\\r\\n\\t\\t\\t\\t\\t\\t<div class=\"type-select\">246 ve\\xc3\\xadculos encontrados</div>\\r\\n\\t\\t\\t\\t\\t\\t\\t<div class=\"container-pagination\" style=\"float: right\">\\r\\n\\t\\t\\t\\t\\t\\t\\t\\t<span class=\"info-pages\">P\\xc3\\xa1gina 1 de 25</span>\\r\\n\\t\\t\\t\\t\\t\\t\\t</div>\\r\\n\\t\\t\\t\\t\\t\\t</div>\\r\\n\\t\\t\\t\\t\\t\\t<div id=\"container-cards\" style=\"height: 100%\">\\r\\n\\t\\t\\t\\t\\t\\t\\t\\r\\n                <div class=\"well card\">\\r\\n                    <div class=\"col-md-3 image-card\">\\r\\n                        <img width=\"220\" height=\"155\" alt=\"Foto\" src=\"https://caelum-online-public.s3.amazonaws.com/1381-scraping/01/img-cars/lamborghini-aventador/lamborghini-aventador-2932196__340.jpg\">\\r\\n                    </div>\\r\\n                    <div class=\"col-md-6 body-card\">\\r\\n                        <p class=\"txt-name inline\">LAMBORGHINI AVENTADOR</p>\\r\\n                            <p class=\"txt-category badge badge-secondary inline\">USADO</p>\\r\\n                            \\r\\n                        <p class=\"txt-motor\">Motor 1.8 16v</p>\\r\\n                        <p class=\"txt-description\">Ano 1993 - 55.286 km</p>\\r\\n                        <ul class=\"lst-items\">\\r\\n                            <li class=\"txt-items\">\\xe2\\x96\\xba 4 X 4</li>\\r\\n                            <li class=\"txt-items\">\\xe2\\x96\\xba C\\xc3\\xa2mera de estacionamento</li>\\r\\n                            <li class=\"txt-items\">\\xe2\\x96\\xba Controle de tra\\xc3\\xa7\\xc3\\xa3o</li>\\r\\n                            <li class=\"txt-items\">\\xe2\\x96\\xba Sensor de estacionamento</li>\\r\\n                            <li class=\"txt-items\">...</li>\\r\\n                        </ul>\\r\\n                        <p class=\"txt-location\">Belo Horizonte - MG</p>\\r\\n                    </div>\\r\\n                    <div class=\"col-md-3 value-card\">\\r\\n                        <div class=\"value\">\\r\\n                            <p class=\"txt-value\">R$ 338.000</p>\\r\\n                        </div>\\r\\n                    </div>\\r\\n                </div>\\r\\n                <div class=\"well card\">\\r\\n                    <div class=\"col-md-3 image-card\">\\r\\n                        <img width=\"220\" height=\"155\" alt=\"Foto\" src=\"https://caelum-online-public.s3.amazonaws.com/1381-scraping/01/img-cars/bmw-m2/bmw-m2-2970882__340.jpg\">\\r\\n                    </div>\\r\\n                    <div class=\"col-md-6 body-card\">\\r\\n                        <p class=\"txt-name inline\">BMW M2</p>\\r\\n                            <p class=\"txt-category badge badge-secondary inline\">USADO</p>\\r\\n                            \\r\\n                        <p class=\"txt-motor\">Motor 3.0 32v</p>\\r\\n                        <p class=\"txt-description\">Ano 2018 - 83.447 km</p>\\r\\n                        <ul class=\"lst-items\">\\r\\n                            <li class=\"txt-items\">\\xe2\\x96\\xba C\\xc3\\xa2mera de estacionamento</li>\\r\\n                            <li class=\"txt-items\">\\xe2\\x96\\xba Controle de estabilidade</li>\\r\\n                            <li class=\"txt-items\">\\xe2\\x96\\xba Travas el\\xc3\\xa9tricas</li>\\r\\n                            <li class=\"txt-items\">\\xe2\\x96\\xba Freios ABS</li>\\r\\n                            <li class=\"txt-items\">...</li>\\r\\n                        </ul>\\r\\n                        <p class=\"txt-location\">Belo Horizonte - MG</p>\\r\\n                    </div>\\r\\n                    <div class=\"col-md-3 value-card\">\\r\\n                        <div class=\"value\">\\r\\n                            <p class=\"txt-value\">R$ 346.000</p>\\r\\n                        </div>\\r\\n                    </div>\\r\\n                </div>\\r\\n                <div class=\"well card\">\\r\\n                    <div class=\"col-md-3 image-card\">\\r\\n                        <img width=\"220\" height=\"155\" alt=\"Foto\" src=\"https://caelum-online-public.s3.amazonaws.com/1381-scraping/01/img-cars/alfa/alfa-1823056__340.jpg\">\\r\\n                    </div>\\r\\n                    <div class=\"col-md-6 body-card\">\\r\\n                        <p class=\"txt-name inline\">ALFA</p>\\r\\n                            <p class=\"txt-category badge badge-secondary inline\">USADO</p>\\r\\n                            \\r\\n                        <p class=\"txt-motor\">Motor 1.8 16v</p>\\r\\n                        <p class=\"txt-description\">Ano 2004 - 19.722 km</p>\\r\\n                        <ul class=\"lst-items\">\\r\\n                            <li class=\"txt-items\">\\xe2\\x96\\xba Central multim\\xc3\\xaddia</li>\\r\\n                            <li class=\"txt-items\">\\xe2\\x96\\xba Bancos de couro</li>\\r\\n                            <li class=\"txt-items\">\\xe2\\x96\\xba Rodas de liga</li>\\r\\n                            <li class=\"txt-items\">\\xe2\\x96\\xba C\\xc3\\xa2mera de estacionamento</li>\\r\\n                            <li class=\"txt-items\">...</li>\\r\\n                        </ul>\\r\\n                        <p class=\"txt-location\">Rio de Janeiro - RJ</p>\\r\\n                    </div>\\r\\n                    <div class=\"col-md-3 value-card\">\\r\\n                        <div class=\"value\">\\r\\n                            <p class=\"txt-value\">R$ 480.000</p>\\r\\n                        </div>\\r\\n                    </div>\\r\\n                </div>\\r\\n                <div class=\"well card\">\\r\\n                    <div class=\"col-md-3 image-card\">\\r\\n                        <img width=\"220\" height=\"155\" alt=\"Foto\" src=\"https://caelum-online-public.s3.amazonaws.com/1381-scraping/01/img-cars/puech/puech-4055386__340.jpg\">\\r\\n                    </div>\\r\\n                    <div class=\"col-md-6 body-card\">\\r\\n                        <p class=\"txt-name inline\">PUECH</p>\\r\\n                            <p class=\"txt-category badge badge-secondary inline\">USADO</p>\\r\\n                            \\r\\n                        <p class=\"txt-motor\">Motor Diesel V8</p>\\r\\n                        <p class=\"txt-description\">Ano 1992 - 34.335 km</p>\\r\\n                        <ul class=\"lst-items\">\\r\\n                            <li class=\"txt-items\">\\xe2\\x96\\xba Bancos de couro</li>\\r\\n                            <li class=\"txt-items\">\\xe2\\x96\\xba Freios ABS</li>\\r\\n                            <li class=\"txt-items\">\\xe2\\x96\\xba Rodas de liga</li>\\r\\n                            <li class=\"txt-items\">\\xe2\\x96\\xba C\\xc3\\xa2mbio autom\\xc3\\xa1tico</li>\\r\\n                            <li class=\"txt-items\">...</li>\\r\\n                        </ul>\\r\\n                        <p class=\"txt-location\">S\\xc3\\xa3o Paulo - SP</p>\\r\\n                    </div>\\r\\n                    <div class=\"col-md-3 value-card\">\\r\\n                        <div class=\"value\">\\r\\n                            <p class=\"txt-value\">R$ 133.000</p>\\r\\n                        </div>\\r\\n                    </div>\\r\\n                </div>\\r\\n                <div class=\"well card\">\\r\\n                    <div class=\"col-md-3 image-card\">\\r\\n                        <img width=\"220\" height=\"155\" alt=\"Foto\" src=\"https://caelum-online-public.s3.amazonaws.com/1381-scraping/01/img-cars/lamborghini-murcielago/lamborghini-murcielago-2872974__340.jpg\">\\r\\n                    </div>\\r\\n                    <div class=\"col-md-6 body-card\">\\r\\n                        <p class=\"txt-name inline\">LAMBORGHINI MURCIELAGO</p>\\r\\n                            <p class=\"txt-category badge badge-secondary inline\">USADO</p>\\r\\n                            \\r\\n                        <p class=\"txt-motor\">Motor 1.0 8v</p>\\r\\n                        <p class=\"txt-description\">Ano 1991 - 464 km</p>\\r\\n                        <ul class=\"lst-items\">\\r\\n                            <li class=\"txt-items\">\\xe2\\x96\\xba Central multim\\xc3\\xaddia</li>\\r\\n                            <li class=\"txt-items\">\\xe2\\x96\\xba Teto panor\\xc3\\xa2mico</li>\\r\\n                            <li class=\"txt-items\">\\xe2\\x96\\xba Sensor crepuscular</li>\\r\\n                            <li class=\"txt-items\">\\xe2\\x96\\xba Piloto autom\\xc3\\xa1tico</li>\\r\\n                            <li class=\"txt-items\">...</li>\\r\\n                        </ul>\\r\\n                        <p class=\"txt-location\">Belo Horizonte - MG</p>\\r\\n                    </div>\\r\\n                    <div class=\"col-md-3 value-card\">\\r\\n                        <div class=\"value\">\\r\\n                            <p class=\"txt-value\">R$ 175.000</p>\\r\\n                        </div>\\r\\n                    </div>\\r\\n                </div>\\r\\n                <div class=\"well card\">\\r\\n                    <div class=\"col-md-3 image-card\">\\r\\n                        <img width=\"220\" height=\"155\" alt=\"Foto\" src=\"https://caelum-online-public.s3.amazonaws.com/1381-scraping/01/img-cars/aston-martin/aston-martin-2977916__340.jpg\">\\r\\n                    </div>\\r\\n                    <div class=\"col-md-6 body-card\">\\r\\n                        <p class=\"txt-name inline\">ASTON MARTIN</p>\\r\\n                            <p class=\"txt-category badge badge-secondary inline\">USADO</p>\\r\\n                            <p class=\"txt-opportunity badge badge-danger inline\">OPORTUNIDADE</p>\\r\\n                        <p class=\"txt-motor\">Motor Diesel V6</p>\\r\\n                        <p class=\"txt-description\">Ano 2004 - 50.189 km</p>\\r\\n                        <ul class=\"lst-items\">\\r\\n                            <li class=\"txt-items\">\\xe2\\x96\\xba Painel digital</li>\\r\\n                            <li class=\"txt-items\">\\xe2\\x96\\xba Controle de tra\\xc3\\xa7\\xc3\\xa3o</li>\\r\\n                            <li class=\"txt-items\">\\xe2\\x96\\xba Teto panor\\xc3\\xa2mico</li>\\r\\n                            <li class=\"txt-items\">\\xe2\\x96\\xba Central multim\\xc3\\xaddia</li>\\r\\n                            <li class=\"txt-items\">...</li>\\r\\n                        </ul>\\r\\n                        <p class=\"txt-location\">Belo Horizonte - MG</p>\\r\\n                    </div>\\r\\n                    <div class=\"col-md-3 value-card\">\\r\\n                        <div class=\"value\">\\r\\n                            <p class=\"txt-value\">R$ 239.000</p>\\r\\n                        </div>\\r\\n                    </div>\\r\\n                </div>\\r\\n                <div class=\"well card\">\\r\\n                    <div class=\"col-md-3 image-card\">\\r\\n                        <img width=\"220\" height=\"155\" alt=\"Foto\" src=\"https://caelum-online-public.s3.amazonaws.com/1381-scraping/01/img-cars/tvr/tvr-2943925__340.jpg\">\\r\\n                    </div>\\r\\n                    <div class=\"col-md-6 body-card\">\\r\\n                        <p class=\"txt-name inline\">TVR</p>\\r\\n                            <p class=\"txt-category badge badge-secondary inline\">USADO</p>\\r\\n                            \\r\\n                        <p class=\"txt-motor\">Motor 4.0 Turbo</p>\\r\\n                        <p class=\"txt-description\">Ano 2014 - 17.778 km</p>\\r\\n                        <ul class=\"lst-items\">\\r\\n                            <li class=\"txt-items\">\\xe2\\x96\\xba 4 X 4</li>\\r\\n                            <li class=\"txt-items\">\\xe2\\x96\\xba Teto panor\\xc3\\xa2mico</li>\\r\\n                            <li class=\"txt-items\">\\xe2\\x96\\xba Central multim\\xc3\\xaddia</li>\\r\\n                            <li class=\"txt-items\">\\xe2\\x96\\xba Controle de estabilidade</li>\\r\\n                            <li class=\"txt-items\">...</li>\\r\\n                        </ul>\\r\\n                        <p class=\"txt-location\">Belo Horizonte - MG</p>\\r\\n                    </div>\\r\\n                    <div class=\"col-md-3 value-card\">\\r\\n                        <div class=\"value\">\\r\\n                            <p class=\"txt-value\">R$ 115.000</p>\\r\\n                        </div>\\r\\n                    </div>\\r\\n                </div>\\r\\n                <div class=\"well card\">\\r\\n                    <div class=\"col-md-3 image-card\">\\r\\n                        <img width=\"220\" height=\"155\" alt=\"Foto\" src=\"https://caelum-online-public.s3.amazonaws.com/1381-scraping/01/img-cars/excalibur/excalibur-2916730__340.jpg\">\\r\\n                    </div>\\r\\n                    <div class=\"col-md-6 body-card\">\\r\\n                        <p class=\"txt-name inline\">EXCALIBUR</p>\\r\\n                            <p class=\"txt-category badge badge-secondary inline\">USADO</p>\\r\\n                            \\r\\n                        <p class=\"txt-motor\">Motor 3.0 32v</p>\\r\\n                        <p class=\"txt-description\">Ano 2009 - 81.251 km</p>\\r\\n                        <ul class=\"lst-items\">\\r\\n                            <li class=\"txt-items\">\\xe2\\x96\\xba Painel digital</li>\\r\\n                            <li class=\"txt-items\">\\xe2\\x96\\xba C\\xc3\\xa2mbio autom\\xc3\\xa1tico</li>\\r\\n                            <li class=\"txt-items\">\\xe2\\x96\\xba Sensor de chuva</li>\\r\\n                            <li class=\"txt-items\">\\xe2\\x96\\xba Travas el\\xc3\\xa9tricas</li>\\r\\n                            <li class=\"txt-items\">...</li>\\r\\n                        </ul>\\r\\n                        <p class=\"txt-location\">Rio de Janeiro - RJ</p>\\r\\n                    </div>\\r\\n                    <div class=\"col-md-3 value-card\">\\r\\n                        <div class=\"value\">\\r\\n                            <p class=\"txt-value\">R$ 114.000</p>\\r\\n                        </div>\\r\\n                    </div>\\r\\n                </div>\\r\\n                <div class=\"well card\">\\r\\n                    <div class=\"col-md-3 image-card\">\\r\\n                        <img width=\"220\" height=\"155\" alt=\"Foto\" src=\"https://caelum-online-public.s3.amazonaws.com/1381-scraping/01/img-cars/mclaren/mclaren-2855240__340.jpg\">\\r\\n                    </div>\\r\\n                    <div class=\"col-md-6 body-card\">\\r\\n                        <p class=\"txt-name inline\">MCLAREN</p>\\r\\n                            <p class=\"txt-category badge badge-secondary inline\">NOVO</p>\\r\\n                            \\r\\n                        <p class=\"txt-motor\">Motor Diesel</p>\\r\\n                        <p class=\"txt-description\">Ano 2019 - 0 km</p>\\r\\n                        <ul class=\"lst-items\">\\r\\n                            <li class=\"txt-items\">\\xe2\\x96\\xba Central multim\\xc3\\xaddia</li>\\r\\n                            <li class=\"txt-items\">\\xe2\\x96\\xba C\\xc3\\xa2mera de estacionamento</li>\\r\\n                            <li class=\"txt-items\">\\xe2\\x96\\xba C\\xc3\\xa2mbio autom\\xc3\\xa1tico</li>\\r\\n                            <li class=\"txt-items\">\\xe2\\x96\\xba Ar condicionado</li>\\r\\n                            <li class=\"txt-items\">...</li>\\r\\n                        </ul>\\r\\n                        <p class=\"txt-location\">S\\xc3\\xa3o Paulo - SP</p>\\r\\n                    </div>\\r\\n                    <div class=\"col-md-3 value-card\">\\r\\n                        <div class=\"value\">\\r\\n                            <p class=\"txt-value\">R$ 75.000</p>\\r\\n                        </div>\\r\\n                    </div>\\r\\n                </div>\\r\\n                <div class=\"well card\">\\r\\n                    <div class=\"col-md-3 image-card\">\\r\\n                        <img width=\"220\" height=\"155\" alt=\"Foto\" src=\"https://caelum-online-public.s3.amazonaws.com/1381-scraping/01/img-cars/toyota/toyota-3245397__340.jpg\">\\r\\n                    </div>\\r\\n                    <div class=\"col-md-6 body-card\">\\r\\n                        <p class=\"txt-name inline\">TOYOTA</p>\\r\\n                            <p class=\"txt-category badge badge-secondary inline\">USADO</p>\\r\\n                            <p class=\"txt-opportunity badge badge-danger inline\">OPORTUNIDADE</p>\\r\\n                        <p class=\"txt-motor\">Motor 4.0 Turbo</p>\\r\\n                        <p class=\"txt-description\">Ano 1999 - 12.536 km</p>\\r\\n                        <ul class=\"lst-items\">\\r\\n                            <li class=\"txt-items\">\\xe2\\x96\\xba Bancos de couro</li>\\r\\n                            <li class=\"txt-items\">\\xe2\\x96\\xba Freios ABS</li>\\r\\n                            <li class=\"txt-items\">\\xe2\\x96\\xba Piloto autom\\xc3\\xa1tico</li>\\r\\n                            <li class=\"txt-items\">\\xe2\\x96\\xba Controle de estabilidade</li>\\r\\n                            <li class=\"txt-items\">...</li>\\r\\n                        </ul>\\r\\n                        <p class=\"txt-location\">S\\xc3\\xa3o Paulo - SP</p>\\r\\n                    </div>\\r\\n                    <div class=\"col-md-3 value-card\">\\r\\n                        <div class=\"value\">\\r\\n                            <p class=\"txt-value\">R$ 117.000</p>\\r\\n                        </div>\\r\\n                    </div>\\r\\n                </div>\\t\\t\\t\\t\\t\\t</div>\\r\\n\\t\\t\\t\\t\\t\\t<div class=\"type-select\">246 ve\\xc3\\xadculos encontrados</div>\\r\\n\\t\\t\\t\\t\\t\\t\\t<div class=\"container-pagination\" style=\"float: right\">\\r\\n\\t\\t\\t\\t\\t\\t\\t\\t<span class=\"info-pages\">P\\xc3\\xa1gina 1 de 25</span>\\r\\n\\t\\t\\t\\t\\t\\t\\t</div>\\r\\n\\t\\t\\t\\t\\t\\t</div>\\r\\n\\t\\t\\t\\t\\t</div>\\r\\n\\t\\t\\t\\t</div>\\r\\n\\t\\t\\t</div>\\r\\n\\t\\t</div>\\r\\n\\r\\n\\t\\t<footer>\\r\\n\\t\\t\\t<nav class=\"navbar navbar-inverse\">\\r\\n\\t\\t\\t\\t<div class=\"container\" style=\"margin-bottom: 10px;\">\\r\\n\\t\\t\\t\\t\\t<div class=\"navbar\">\\r\\n\\t\\t\\t\\t\\t\\t<a href=\"./index.php\" class=\"navbar-brand\" title=\"Alura Motors\">\\r\\n\\t\\t\\t\\t\\t\\t\\t<img src=\"img/alura-logo.svg\" class=\"d-inline-block align-top\" alt=\"Alura\">Motors\\r\\n\\t\\t\\t\\t\\t\\t</a>\\r\\n\\t\\t\\t\\t\\t\\t<p style=\"color: #fff; text-align: center; margin-top: 40px;\">Aplica\\xc3\\xa7\\xc3\\xa3o para treinamento de web scraping</p>\\r\\n\\t\\t\\t\\t\\t</div>\\r\\n\\t\\t\\t\\t</div>\\r\\n\\t\\t\\t</nav>\\r\\n\\t\\t</footer>\\r\\n\\r\\n\\t</div>\\r\\n\\r\\n</body>\\r\\n</html>\\r\\n'"
      ]
     },
     "execution_count": 3,
     "metadata": {},
     "output_type": "execute_result"
    }
   ],
   "source": [
    "from urllib.request import urlopen\n",
    "\n",
    "url = 'https://alura-site-scraping.herokuapp.com/index.php'\n",
    "\n",
    "response = urlopen(url)\n",
    "html = response.read()\n",
    "html"
   ]
  },
  {
   "cell_type": "markdown",
   "metadata": {},
   "source": [
    "## https://docs.python.org/3/library/urllib.request.html#urllib.request.Request"
   ]
  },
  {
   "cell_type": "code",
   "execution_count": 4,
   "metadata": {},
   "outputs": [
    {
     "name": "stdout",
     "output_type": "stream",
     "text": [
      "b'<!DOCTYPE html><html\\nlang=\"pt-BR\" ><head> <script>(function(w,d,s,l,i){w[l]=w[l]||[];w[l].push({\\'gtm.start\\':\\n            new Date().getTime(),event:\\'gtm.js\\'});var f=d.getElementsByTagName(s)[0],\\n            j=d.createElement(s),dl=l!=\\'dataLayer\\'?\\'&l=\\'+l:\\'\\';j.async=true;j.src=\\n            \\'https://www.googletagmanager.com/gtm.js?id=\\'+i+dl;f.parentNode.insertBefore(j,f);\\n        })(window,document,\\'script\\',\\'dataLayer\\',\\'GTM-TN542JN\\');</script> <link\\nrel=\"canonical\" href=\"https://www.alura.com.br\"><meta\\ncharset=\"UTF-8\"><meta\\nname=\"viewport\" content=\"width=device-width,initial-scale=1,minimum-scale=1.0\"><title>Alura | Cursos online de tecnologia</title><meta\\nname=\"description\" content=\"Aprenda Programa\\xc3\\xa7\\xc3\\xa3o, Mobile, Front-end, Design, UX, Infraestrutura, Marketing Digital e Data &amp; BI com did\\xc3\\xa1tica inovadora.\"><meta\\nproperty=\"og:locale\" content=\"pt_BR\"><meta\\nproperty=\"og:description\" content=\"Aprenda Programa\\xc3\\xa7\\xc3\\xa3o, Mobile, Front-end, Design, UX, Infraestrutura, Marketing Digital e Data &amp; BI com did\\xc3\\xa1tica inovadora.\" ><meta\\nproperty=\"og:title\" content=\"Alura | Cursos online de tecnologia\"><meta\\nproperty=\"og:site_name\" content=\"Alura\"><meta\\nproperty=\"og:url\" content=\"https://www.alura.com.br/\"><meta\\nproperty=\"og:image\" content=\"https://www.alura.com.br/assets/api/share/alura.jpg\"><meta\\nproperty=\"og:image:alt\" content=\"Alura logo\"><meta\\nproperty=\"fb:app_id\" content=\"140078819399376\"><meta\\nproperty=\"og:type\" content=\"website\"><meta\\nname=\"twitter:card\" content=\"summary_large_image\"><meta\\nname=\"theme-color\" content=\"#fbcf36\"><link\\nrel=\"stylesheet\" href=\"/bundle,reset,base,colors,block/buttons,block/cardCurso,block/careers,block/categoriaBannerTarjeta,block/categoriaCard,block/categories,block/categoriesHome,block/colaboradores,block/conteudo,block/coresHomeEPlanos,block/cursoCard,block/degree-colors,block/degree,block/depoimentos,block/depoimentosAlunos,block/destaqueAlunos,block/detalhes,block/elasticMedia,block/footer-listaCarreiras,block/footer,block/form-erro,block/formContatoEmpresas,block/formacao-carreiras,block/formacoesCta,block/header,block/headerHome,block/highlighted,block/instrutores,block/listaCardCurso,block/listaCursos,block/listaGuides,block/materialEducacional,block/novosLancamentos,block/pagination,block/painelPlanos,block/parceriaBanner,block/planosEmpresas,block/planosPagamento,block/planosPagamentoOld,block/titulo-destaque,block/titulos,block/whitepaperCard.1566826582.css\"><link\\nrel=\"stylesheet\" href=\"/bundle,home/homeNova/career-colors,home/homeNova/companies,home/homeNova/features,home/homeNova/home,home/homeNova/mobile,home/homeNova/testimonies.1566826582.css\"><link\\nhref=\"https://fonts.googleapis.com/css?family=Open+Sans:300,400,400i,600,700,800\" rel=\"stylesheet\" crossorigin> <script src=\"/assets/js/facebookpixel.1566826582.js\" async></script> </head><body\\nclass=\"\">\\n<noscript>\\n<img\\nheight=\"1\" width=\"1\" style=\"display:none\" src=\"https://www.facebook.com/tr?id=1067810189950610&ev=PageView&noscript=1\"/>\\n</noscript>\\n<noscript>\\n<iframe\\nsrc=\"https://www.googletagmanager.com/ns.html?id=GTM-TN542JN\"\\nheight=\"0\" width=\"0\" style=\"display:none;visibility:hidden\"></iframe>\\n</noscript>\\n <script type=\"application/ld+json\">{\\n      \"@context\": \"http://schema.org\",\\n      \"@type\": \"BreadcrumbList\",\\n\\n      \"itemListElement\": [{\\n        \"@type\": \"ListItem\",\\n        \"position\": 1,\\n        \"item\": {\\n          \"@id\": \"https://www.alura.com.br\",\\n          \"name\": \"Alura\"\\n        }\\n      }   \\n            ]\\n    }</script> <div\\nclass=\"home\"><div\\nclass=\"home__header\"><style>@media (min-width: 1100px) {\\n\\t\\t\\t\\t.header-navegacao-cursos-lista {\\n\\t\\t\\t\\t\\tdisplay: none;\\n\\t\\t\\t\\t}\\n\\t\\t\\t\\t.header__nav {\\n\\t\\t\\t\\t\\tborder: none;\\n\\t\\t\\t\\t\\tmargin-top:10px;\\n\\t\\t\\t\\t}\\n\\t\\t\\t\\t.header {\\n\\t\\t\\t\\t\\tpadding-bottom: 0;\\n\\t\\t\\t\\t}\\n\\t\\t\\t}</style><header\\nclass=\"header--home\"><div\\nclass=\"container\"><nav\\nclass=\"header__nav--home\">\\n<a\\nhref=\"/\" class=\"header__nav__link--home header__nav__link--logo\">\\n<img\\nclass=\"header__nav__link__logo\" alt=\"Alura\"\\nsrc=\"/assets/img/home/alura-logo.1566826581.svg\">\\n</a><div\\nclass=\"header__nav__wrapper--home header__nav__wrapper--ctas--home\"><div\\nhref=\"/busca\" class=\"header-utilitario-busca header-utilitario-busca--home\" aria-label=\"Busca\">\\n<svg\\nclass=\"header-utilitario-busca-icone--home\" xmlns:xlink=\"http://www.w3.org/1999/xlink\">\\n<use\\nxlink:href=\"/svg,1566826582/header#icon-header-busca-home\"/>\\n</svg></div>\\n<a\\nhref=\"https://cursos.alura.com.br/loginForm?urlAfterLogin=https://cursos.alura.com.br/dashboard\" class=\"header__nav__link--home header__nav__link--entrar--home\">Entrar</a>\\n<a\\nhref=\"/planos-cursos-online\" class=\"header__nav__link--home header__nav__link--cta--home\">Matricule-se</a></div><div\\nclass=\"header__nav__wrapper--home header__nav__wrapper--menu header__nav__wrapper--menu--home\"><div\\nclass=\"header-barraBusca header-barraBusca--home\"><div\\nclass=\"container\"><form\\naction=\"/busca\" class=\"header-barraBusca-form\">\\n<label\\nfor=\"header-barraBusca-form-campoBusca\">Qual curso procura?</label>\\n<input\\ntype=\"search\" id=\"header-barraBusca-form-campoBusca\" name=\"query\"\\nclass=\"header-barraBusca-form-serch-input header-barra-busca--home\" placeholder=\"O que voc\\xc3\\xaa quer aprender?\">\\n<button\\nclass=\"header-barraBusca-form-submit\" type=\"submit\">Buscar</button></form></div></div><div\\nhref=\"/cursos-online-tecnologia\" class=\"nav__courses__link--home header-navegacao-cursos header-navegacao-cursos--home header__menu-options--home header__menu-allcourses--home\">\\n<svg\\nclass=\"header-navegacao-cursos-icone\" xmlns:xlink=\"http://www.w3.org/1999/xlink\">\\n<use\\nxlink:href=\"/svg,1566826582/header#icon-header-icon-arrow-home\"/>\\n</svg>\\n<span>Todos os</span>\\n<span>Cursos</span></div>\\n<a\\nhref=\"/formacoes\" class=\"nav__courses__link--home header__menu-options--home\">\\n<span>Forma\\xc3\\xa7\\xc3\\xb5es</span></a>\\n<a\\nhref=\"/empresas\" class=\"nav__courses__link--home header__menu-options--home\">\\n<span>Para</span>\\n<span>Empresas</span>\\n</a>\\n<a\\nhref=\"/como-funciona\" class=\"nav__courses__link--home header__menu-options--home\">\\n<span>Como</span>\\n<span>Funciona</span>\\n</a></div><ul\\nclass=\"header-navegacao-cursos-lista container header__menu-allcourses--home\"><li\\nclass=\"header-cursos-lista-categoria \">\\n<a\\nhref=\"/cursos-online-mobile\" class=\"unlinkify\">\\n<svg\\nclass=\"header-cursos-lista-categoria--icon\" xmlns:xlink=\"http://www.w3.org/1999/xlink\">\\n<use\\nxlink:href=\"/svg,1566826582/categorias#icon-categorias-mobile\"/>\\n</svg><div\\nclass=\"header-lista-categoria-nome--home\">\\n<span>Mobile</span></div>\\n</a></li><li\\nclass=\"header-cursos-lista-categoria \">\\n<a\\nhref=\"/cursos-online-programacao\" class=\"unlinkify\">\\n<svg\\nclass=\"header-cursos-lista-categoria--icon\" xmlns:xlink=\"http://www.w3.org/1999/xlink\">\\n<use\\nxlink:href=\"/svg,1566826582/categorias#icon-categorias-programacao\"/>\\n</svg><div\\nclass=\"header-lista-categoria-nome--home\">\\n<span>Programa\\xc3\\xa7\\xc3\\xa3o</span></div>\\n</a></li><li\\nclass=\"header-cursos-lista-categoria \">\\n<a\\nhref=\"/cursos-online-front-end\" class=\"unlinkify\">\\n<svg\\nclass=\"header-cursos-lista-categoria--icon\" xmlns:xlink=\"http://www.w3.org/1999/xlink\">\\n<use\\nxlink:href=\"/svg,1566826582/categorias#icon-categorias-front-end\"/>\\n</svg><div\\nclass=\"header-lista-categoria-nome--home\">\\n<span>Front-end</span></div>\\n</a></li><li\\nclass=\"header-cursos-lista-categoria \">\\n<a\\nhref=\"/cursos-online-infraestrutura\" class=\"unlinkify\">\\n<svg\\nclass=\"header-cursos-lista-categoria--icon\" xmlns:xlink=\"http://www.w3.org/1999/xlink\">\\n<use\\nxlink:href=\"/svg,1566826582/categorias#icon-categorias-infraestrutura\"/>\\n</svg><div\\nclass=\"header-lista-categoria-nome--home\">\\n<span>Infraestrutura</span></div>\\n</a></li><li\\nclass=\"header-cursos-lista-categoria \">\\n<a\\nhref=\"/cursos-online-design-ux\" class=\"unlinkify\">\\n<svg\\nclass=\"header-cursos-lista-categoria--icon\" xmlns:xlink=\"http://www.w3.org/1999/xlink\">\\n<use\\nxlink:href=\"/svg,1566826582/categorias#icon-categorias-design-ux\"/>\\n</svg><div\\nclass=\"header-lista-categoria-nome--home\">\\n<span>Design & UX</span></div>\\n</a></li><li\\nclass=\"header-cursos-lista-categoria \">\\n<a\\nhref=\"/cursos-online-marketing-digital\" class=\"unlinkify\">\\n<svg\\nclass=\"header-cursos-lista-categoria--icon\" xmlns:xlink=\"http://www.w3.org/1999/xlink\">\\n<use\\nxlink:href=\"/svg,1566826582/categorias#icon-categorias-marketing-digital\"/>\\n</svg><div\\nclass=\"header-lista-categoria-nome--home\">\\n<span>Marketing Digital</span></div>\\n</a></li><li\\nclass=\"header-cursos-lista-categoria \">\\n<a\\nhref=\"/cursos-online-data-science\" class=\"unlinkify\">\\n<svg\\nclass=\"header-cursos-lista-categoria--icon\" xmlns:xlink=\"http://www.w3.org/1999/xlink\">\\n<use\\nxlink:href=\"/svg,1566826582/categorias#icon-categorias-data-science\"/>\\n</svg><div\\nclass=\"header-lista-categoria-nome--home\">\\n<span>Data Science</span></div>\\n</a></li><li\\nclass=\"header-cursos-lista-categoria \">\\n<a\\nhref=\"/cursos-online-inovacao-gestao\" class=\"unlinkify\">\\n<svg\\nclass=\"header-cursos-lista-categoria--icon\" xmlns:xlink=\"http://www.w3.org/1999/xlink\">\\n<use\\nxlink:href=\"/svg,1566826582/categorias#icon-categorias-inovacao-gestao\"/>\\n</svg><div\\nclass=\"header-lista-categoria-nome--home\">\\n<span>Inova\\xc3\\xa7\\xc3\\xa3o & Gest\\xc3\\xa3o</span></div>\\n</a></li></ul></nav></div></header><div\\nclass=\"container\"><div\\nclass=\"home--background\"><div\\nclass=\"home__titles\"><h1 class=\"home__titles__main-title\">Cursos de Tecnologia e Neg\\xc3\\xb3cios Digitais</h1><p\\nclass=\"home__titles__sub-title\">Voc\\xc3\\xaa vai estudar, praticar, discutir e aprender em uma comunidade de inquietos e inovadores</p></div></div><nav\\nclass=\"categories--home\"><div\\nclass=\"categories__elements--home\"><div\\nclass=\"categories__wrapper__links--home\">\\n<a\\nclass=\"categories__link--home\" href=\"/cursos-online-mobile\"><div\\nclass=\"categories__link-wrapper--home\"><div\\nclass=\"categories__svg-wrapper--home\" style=\"background:#ffba05;\">\\n<svg\\nclass=\"pagina-categoria__svg--home categories__svg--home\" xmlns:xlink=\"http://www.w3.org/1999/xlink\">\\n<use\\nxlink:href=\"/svg,1566826582/categorias#icon-categorias-mobile\"/>\\n</svg></div><div\\nstyle=\"color:#ffba05;\">\\n<span\\nclass=\"categories__link__text\">Cursos de</span><h4 class=\"categories__link__category-name\">Mobile</h4></div></div>\\n</a><nav\\nclass=\"categories__calls--home\">\\n<a\\nhref=\"/cursos-online-mobile/ios\"\\nclass=\"categories__calls__description--home\">iOS e Swift</a><span\\nclass=\"categories__calls__description-separator\">, </span>\\n<a\\nhref=\"/cursos-online-mobile/android\"\\nclass=\"categories__calls__description--home\">Android e Kotlin</a><span\\nclass=\"categories__calls__description-separator\">, </span>\\n<a\\nhref=\"/cursos-online-mobile/multiplataforma\"\\nclass=\"categories__calls__description--home\">Ionic, React Native</a><span\\nclass=\"categories__calls__description-separator\">, </span>\\n<a\\nhref=\"/cursos-online-mobile/jogos\"\\nclass=\"categories__calls__description--home\">Jogos</a><span\\nclass=\"categories__calls__description-separator\">, </span>\\n<a\\nhref=\"/cursos-online-mobile\"\\nclass=\"categories__calls__link-see-more--home\">e mais...</a></nav></div><div\\nclass=\"categories__wrapper__links--home\">\\n<a\\nclass=\"categories__link--home\" href=\"/cursos-online-programacao\"><div\\nclass=\"categories__link-wrapper--home\"><div\\nclass=\"categories__svg-wrapper--home\" style=\"background:#00c86f;\">\\n<svg\\nclass=\"pagina-categoria__svg--home categories__svg--home\" xmlns:xlink=\"http://www.w3.org/1999/xlink\">\\n<use\\nxlink:href=\"/svg,1566826582/categorias#icon-categorias-programacao\"/>\\n</svg></div><div\\nstyle=\"color:#00c86f;\">\\n<span\\nclass=\"categories__link__text\">Cursos de</span><h4 class=\"categories__link__category-name\">Programa\\xc3\\xa7\\xc3\\xa3o</h4></div></div>\\n</a><nav\\nclass=\"categories__calls--home\">\\n<a\\nhref=\"/cursos-online-programacao/logica\"\\nclass=\"categories__calls__description--home\">L\\xc3\\xb3gica</a><span\\nclass=\"categories__calls__description-separator\">, </span>\\n<a\\nhref=\"/cursos-online-programacao/python\"\\nclass=\"categories__calls__description--home\">Python</a><span\\nclass=\"categories__calls__description-separator\">, </span>\\n<a\\nhref=\"/cursos-online-programacao/php\"\\nclass=\"categories__calls__description--home\">PHP</a><span\\nclass=\"categories__calls__description-separator\">, </span>\\n<a\\nhref=\"/cursos-online-programacao/java\"\\nclass=\"categories__calls__description--home\">Java</a><span\\nclass=\"categories__calls__description-separator\">, </span>\\n<a\\nhref=\"/cursos-online-programacao/dotnet\"\\nclass=\"categories__calls__description--home\">.NET</a><span\\nclass=\"categories__calls__description-separator\">, </span>\\n<a\\nhref=\"/cursos-online-programacao/ruby\"\\nclass=\"categories__calls__description--home\">Ruby & Rails</a><span\\nclass=\"categories__calls__description-separator\">, </span>\\n<a\\nhref=\"/cursos-online-programacao/c\"\\nclass=\"categories__calls__description--home\">C</a><span\\nclass=\"categories__calls__description-separator\">, </span>\\n<a\\nhref=\"/cursos-online-programacao/computacao\"\\nclass=\"categories__calls__description--home\">Computa\\xc3\\xa7\\xc3\\xa3o</a><span\\nclass=\"categories__calls__description-separator\">, </span>\\n<a\\nhref=\"/cursos-online-programacao/jogos\"\\nclass=\"categories__calls__description--home\">Jogos</a><span\\nclass=\"categories__calls__description-separator\">, </span>\\n<a\\nhref=\"/cursos-online-programacao\"\\nclass=\"categories__calls__link-see-more--home\">e mais...</a></nav></div><div\\nclass=\"categories__wrapper__links--home\">\\n<a\\nclass=\"categories__link--home\" href=\"/cursos-online-front-end\"><div\\nclass=\"categories__link-wrapper--home\"><div\\nclass=\"categories__svg-wrapper--home\" style=\"background:#6bd1ff;\">\\n<svg\\nclass=\"pagina-categoria__svg--home categories__svg--home\" xmlns:xlink=\"http://www.w3.org/1999/xlink\">\\n<use\\nxlink:href=\"/svg,1566826582/categorias#icon-categorias-front-end\"/>\\n</svg></div><div\\nstyle=\"color:#6bd1ff;\">\\n<span\\nclass=\"categories__link__text\">Cursos de</span><h4 class=\"categories__link__category-name\">Front-end</h4></div></div>\\n</a><nav\\nclass=\"categories__calls--home\">\\n<a\\nhref=\"/cursos-online-front-end/front-end\"\\nclass=\"categories__calls__description--home\">HTML, CSS</a><span\\nclass=\"categories__calls__description-separator\">, </span>\\n<a\\nhref=\"/cursos-online-front-end/javascript\"\\nclass=\"categories__calls__description--home\">JavaScript</a><span\\nclass=\"categories__calls__description-separator\">, </span>\\n<a\\nhref=\"/cursos-online-front-end/frameworks-mvc-em-javascript\"\\nclass=\"categories__calls__description--home\">Angular, React</a><span\\nclass=\"categories__calls__description-separator\">, </span>\\n<a\\nhref=\"/cursos-online-front-end/jquery\"\\nclass=\"categories__calls__description--home\">jQuery</a><span\\nclass=\"categories__calls__description-separator\">, </span>\\n<a\\nhref=\"/cursos-online-front-end\"\\nclass=\"categories__calls__link-see-more--home\">e mais...</a></nav></div><div\\nclass=\"categories__wrapper__links--home\">\\n<a\\nclass=\"categories__link--home\" href=\"/cursos-online-infraestrutura\"><div\\nclass=\"categories__link-wrapper--home\"><div\\nclass=\"categories__svg-wrapper--home\" style=\"background:#f16165;\">\\n<svg\\nclass=\"pagina-categoria__svg--home categories__svg--home\" xmlns:xlink=\"http://www.w3.org/1999/xlink\">\\n<use\\nxlink:href=\"/svg,1566826582/categorias#icon-categorias-infraestrutura\"/>\\n</svg></div><div\\nstyle=\"color:#f16165;\">\\n<span\\nclass=\"categories__link__text\">Cursos de</span><h4 class=\"categories__link__category-name\">Infraestrutura</h4></div></div>\\n</a><nav\\nclass=\"categories__calls--home\">\\n<a\\nhref=\"/cursos-online-infraestrutura/linux-comandos-e-processos\"\\nclass=\"categories__calls__description--home\">Linux</a><span\\nclass=\"categories__calls__description-separator\">, </span>\\n<a\\nhref=\"/cursos-online-infraestrutura/devops\"\\nclass=\"categories__calls__description--home\">DevOps e Git</a><span\\nclass=\"categories__calls__description-separator\">, </span>\\n<a\\nhref=\"/cursos-online-infraestrutura/cloud-computing\"\\nclass=\"categories__calls__description--home\">Cloud</a><span\\nclass=\"categories__calls__description-separator\">, </span>\\n<a\\nhref=\"/cursos-online-infraestrutura/internet-das-coisas\"\\nclass=\"categories__calls__description--home\">IoT</a><span\\nclass=\"categories__calls__description-separator\">, </span>\\n<a\\nhref=\"/cursos-online-infraestrutura/redes\"\\nclass=\"categories__calls__description--home\">Redes</a><span\\nclass=\"categories__calls__description-separator\">, </span>\\n<a\\nhref=\"/cursos-online-infraestrutura\"\\nclass=\"categories__calls__link-see-more--home\">e mais...</a></nav></div><div\\nclass=\"categories__wrapper__links--home\">\\n<a\\nclass=\"categories__link--home\" href=\"/cursos-online-design-ux\"><div\\nclass=\"categories__link-wrapper--home\"><div\\nclass=\"categories__svg-wrapper--home\" style=\"background:#dc6ebe;\">\\n<svg\\nclass=\"pagina-categoria__svg--home categories__svg--home\" xmlns:xlink=\"http://www.w3.org/1999/xlink\">\\n<use\\nxlink:href=\"/svg,1566826582/categorias#icon-categorias-design-ux\"/>\\n</svg></div><div\\nstyle=\"color:#dc6ebe;\">\\n<span\\nclass=\"categories__link__text\">Cursos de</span><h4 class=\"categories__link__category-name\">Design & UX</h4></div></div>\\n</a><nav\\nclass=\"categories__calls--home\">\\n<a\\nhref=\"/cursos-online-design-ux/webdesign\"\\nclass=\"categories__calls__description--home\">Photoshop e Illustrator</a><span\\nclass=\"categories__calls__description-separator\">, </span>\\n<a\\nhref=\"/cursos-online-design-ux/video\"\\nclass=\"categories__calls__description--home\">V\\xc3\\xaddeo e Motion</a><span\\nclass=\"categories__calls__description-separator\">, </span>\\n<a\\nhref=\"/cursos-online-design-ux/3d\"\\nclass=\"categories__calls__description--home\">3D</a><span\\nclass=\"categories__calls__description-separator\">, </span>\\n<a\\nhref=\"/cursos-online-design-ux/ux\"\\nclass=\"categories__calls__description--home\">Usabilidade e UX</a><span\\nclass=\"categories__calls__description-separator\">, </span>\\n<a\\nhref=\"/cursos-online-design-ux\"\\nclass=\"categories__calls__link-see-more--home\">e mais...</a></nav></div><div\\nclass=\"categories__wrapper__links--home\">\\n<a\\nclass=\"categories__link--home\" href=\"/cursos-online-marketing-digital\"><div\\nclass=\"categories__link-wrapper--home\"><div\\nclass=\"categories__svg-wrapper--home\" style=\"background:#6b5be2;\">\\n<svg\\nclass=\"pagina-categoria__svg--home categories__svg--home\" xmlns:xlink=\"http://www.w3.org/1999/xlink\">\\n<use\\nxlink:href=\"/svg,1566826582/categorias#icon-categorias-marketing-digital\"/>\\n</svg></div><div\\nstyle=\"color:#6b5be2;\">\\n<span\\nclass=\"categories__link__text\">Cursos de</span><h4 class=\"categories__link__category-name\">Marketing Digital</h4></div></div>\\n</a><nav\\nclass=\"categories__calls--home\">\\n<a\\nhref=\"/cursos-online-marketing-digital/ads\"\\nclass=\"categories__calls__description--home\">Ads</a><span\\nclass=\"categories__calls__description-separator\">, </span>\\n<a\\nhref=\"/cursos-online-marketing-digital/seo\"\\nclass=\"categories__calls__description--home\">SEO</a><span\\nclass=\"categories__calls__description-separator\">, </span>\\n<a\\nhref=\"/cursos-online-marketing-digital/e-commerce\"\\nclass=\"categories__calls__description--home\">E-commerce</a><span\\nclass=\"categories__calls__description-separator\">, </span>\\n<a\\nhref=\"/cursos-online-marketing-digital/social-media\"\\nclass=\"categories__calls__description--home\">Social Media</a><span\\nclass=\"categories__calls__description-separator\">, </span>\\n<a\\nhref=\"/cursos-online-marketing-digital/marketing-digital\"\\nclass=\"categories__calls__description--home\">Marketing</a><span\\nclass=\"categories__calls__description-separator\">, </span>\\n<a\\nhref=\"/cursos-online-marketing-digital/youtube\"\\nclass=\"categories__calls__description--home\">YouTube</a><span\\nclass=\"categories__calls__description-separator\">, </span>\\n<a\\nhref=\"/cursos-online-marketing-digital\"\\nclass=\"categories__calls__link-see-more--home\">e mais...</a></nav></div><div\\nclass=\"categories__wrapper__links--home\">\\n<a\\nclass=\"categories__link--home\" href=\"/cursos-online-data-science\"><div\\nclass=\"categories__link-wrapper--home\"><div\\nclass=\"categories__svg-wrapper--home\" style=\"background:#9cd33b;\">\\n<svg\\nclass=\"pagina-categoria__svg--home categories__svg--home\" xmlns:xlink=\"http://www.w3.org/1999/xlink\">\\n<use\\nxlink:href=\"/svg,1566826582/categorias#icon-categorias-data-science\"/>\\n</svg></div><div\\nstyle=\"color:#9cd33b;\">\\n<span\\nclass=\"categories__link__text\">Cursos de</span><h4 class=\"categories__link__category-name\">Data Science</h4></div></div>\\n</a><nav\\nclass=\"categories__calls--home\">\\n<a\\nhref=\"/cursos-online-data-science/sql\"\\nclass=\"categories__calls__description--home\">SQL</a><span\\nclass=\"categories__calls__description-separator\">, </span>\\n<a\\nhref=\"/cursos-online-data-science/nosql\"\\nclass=\"categories__calls__description--home\">NoSQL</a><span\\nclass=\"categories__calls__description-separator\">, </span>\\n<a\\nhref=\"/cursos-online-data-science/data-science\"\\nclass=\"categories__calls__description--home\">Data Science</a><span\\nclass=\"categories__calls__description-separator\">, </span>\\n<a\\nhref=\"/cursos-online-data-science/machine-learning\"\\nclass=\"categories__calls__description--home\">Machine Learning</a><span\\nclass=\"categories__calls__description-separator\">, </span>\\n<a\\nhref=\"/cursos-online-data-science/business-intelligence\"\\nclass=\"categories__calls__description--home\">BI</a><span\\nclass=\"categories__calls__description-separator\">, </span>\\n<a\\nhref=\"/cursos-online-data-science/estatistica\"\\nclass=\"categories__calls__description--home\">Estat\\xc3\\xadstica</a><span\\nclass=\"categories__calls__description-separator\">, </span>\\n<a\\nhref=\"/cursos-online-data-science/excel\"\\nclass=\"categories__calls__description--home\">Excel</a><span\\nclass=\"categories__calls__description-separator\">, </span>\\n<a\\nhref=\"/cursos-online-data-science\"\\nclass=\"categories__calls__link-see-more--home\">e mais...</a></nav></div><div\\nclass=\"categories__wrapper__links--home\">\\n<a\\nclass=\"categories__link--home\" href=\"/cursos-online-inovacao-gestao\"><div\\nclass=\"categories__link-wrapper--home\"><div\\nclass=\"categories__svg-wrapper--home\" style=\"background:#ff8c2a;\">\\n<svg\\nclass=\"pagina-categoria__svg--home categories__svg--home\" xmlns:xlink=\"http://www.w3.org/1999/xlink\">\\n<use\\nxlink:href=\"/svg,1566826582/categorias#icon-categorias-inovacao-gestao\"/>\\n</svg></div><div\\nstyle=\"color:#ff8c2a;\">\\n<span\\nclass=\"categories__link__text\">Cursos de</span><h4 class=\"categories__link__category-name\">Inova\\xc3\\xa7\\xc3\\xa3o & Gest\\xc3\\xa3o</h4></div></div>\\n</a><nav\\nclass=\"categories__calls--home\">\\n<a\\nhref=\"/cursos-online-inovacao-gestao/agilidade-e-scrum\"\\nclass=\"categories__calls__description--home\">Agilidade</a><span\\nclass=\"categories__calls__description-separator\">, </span>\\n<a\\nhref=\"/cursos-online-inovacao-gestao/transformacao-agil\"\\nclass=\"categories__calls__description--home\">Transforma\\xc3\\xa7\\xc3\\xa3o \\xc3\\x81gil</a><span\\nclass=\"categories__calls__description-separator\">, </span>\\n<a\\nhref=\"/cursos-online-inovacao-gestao/carreira-e-lideranca\"\\nclass=\"categories__calls__description--home\">Lideran\\xc3\\xa7a</a><span\\nclass=\"categories__calls__description-separator\">, </span>\\n<a\\nhref=\"/cursos-online-inovacao-gestao/startup-canvas-design-thinking\"\\nclass=\"categories__calls__description--home\">Startup</a><span\\nclass=\"categories__calls__description-separator\">, </span>\\n<a\\nhref=\"/cursos-online-inovacao-gestao\"\\nclass=\"categories__calls__link-see-more--home\">e mais...</a></nav></div></div></nav></div></div><main\\nclass=\"home__main-content\"><section\\nclass=\"features container\"><aside\\nclass=\"features__info\"><h2 class=\"features__info__title\">\\n<strong>Somos a maior plataforma brasileira</strong>\\n<span>Cursos de tecnologia com conte\\xc3\\xbado 100% em portugu\\xc3\\xaas</span></h2><ul\\nclass=\"features__info__list\"><li\\nclass=\"features__info__list__item features__info__list__item--content\"><div\\nclass=\"features__info__list__item__wrapper\"><h4 class=\"features__info__list__item__title\">O conte\\xc3\\xbado que voc\\xc3\\xaa precisa</h4><p\\nclass=\"features__info__list__item__description\">S\\xc3\\xa3o 856 cursos e novos lan\\xc3\\xa7amentos toda\\nsemana, al\\xc3\\xa9m de atualiza\\xc3\\xa7\\xc3\\xb5es e melhorias constantes.</p></div></li><li\\nclass=\"features__info__list__item features__info__list__item--practice\"><div\\nclass=\"features__info__list__item__wrapper\"><h4 class=\"features__info__list__item__title\">Conhecimento real</h4><p\\nclass=\"features__info__list__item__description\">Garantimos conhecimento com profundidade e diversidade. Aprenda com os melhores!</p></div></li><li\\nclass=\"features__info__list__item features__info__list__item--messages\"><div\\nclass=\"features__info__list__item__wrapper\"><h4 class=\"features__info__list__item__title\">Aprenda compartilhando</h4><p\\nclass=\"features__info__list__item__description\">\\nFa\\xc3\\xa7a parte de uma grande rede de apaixonados por tudo que \\xc3\\xa9 digital.</p></div></li></ul></aside><section\\nclass=\"features__video\"><div\\nclass=\"features__video-wrapper\"><div\\nclass=\"home-diferenciais-video\"><div\\nclass=\"home-diferenciais-video-wrapper\"><div\\nclass=\"elasticMedia-container\" data-src=\"//player.vimeo.com/video/227939524\">\\n<noscript>\\n<iframe\\nclass=\"elasticMedia\" src=\"//player.vimeo.com/video/227939524\" frameborder=\"0\" webkitallowfullscreen\\nmozallowfullscreen allowfullscreen></iframe>\\n</noscript></div></div></div></div>\\n<a\\nclass=\"features__video__link\" href=\"/como-funciona\">Veja como funciona</a></section></section><section\\nclass=\"careers\"><div\\nclass=\"container\"><h2 class=\"careers__title\"><div\\nclass=\"careers__title__wrapper\">\\nN\\xc3\\xa3o sabe por onde come\\xc3\\xa7ar?\\n<span>Sequ\\xc3\\xaancias de cursos organizados em <strong>Forma\\xc3\\xa7\\xc3\\xb5es</strong></span></div></h2><ul\\nclass=\"careers__list\"><style type=\"text/css\">.career-mobile-title:after {\\n\\t\\t                            \\tbackground-color:#ffba05;\\n\\t\\t                            }</style><li\\nclass=\"careers__list__item\" style=\"color:#ffba05;\"><div\\nclass=\"careers__list__item__title-wrapper\"><div\\nclass=\"categories__svg-wrapper\" style=\"background-color:#ffba05;\">\\n<svg\\nclass=\"pagina-categoria__svg svgFill-mobile categories__svg\" xmlns:xlink=\"http://www.w3.org/1999/xlink\">\\n<use\\nxlink:href=\"/svg,1566826582/categorias#icon-categorias-mobile\"/>\\n</svg></div><h3 class=\"careers__list__item__title\">Mobile</h3></div><h4 class=\"careers__list__item__sub-title career-mobile-title\">Forma\\xc3\\xa7\\xc3\\xb5es</h4><ul\\nclass=\"careers__list__item__list careers__list__item__list--formacoes\"><li\\nclass=\"careers__list__item__list__item\">\\n<a\\nclass=\"careers__list__item__list__item__link\" href=\"/formacao-android\">\\nAndroid                                            </a></li><li\\nclass=\"careers__list__item__list__item\">\\n<a\\nclass=\"careers__list__item__list__item__link\" href=\"/formacao-ios\">\\niOS                                            </a></li><li\\nclass=\"careers__list__item__list__item\">\\n<a\\nclass=\"careers__list__item__list__item__link\" href=\"/formacao-xamarin\">\\nMultiplataforma mobile Xamarin                                            </a></li><li\\nclass=\"careers__list__item__list__item\">\\n<a\\nclass=\"careers__list__item__list__item__link\" href=\"/formacao-testes-automatizados-android\">\\nTestes automatizados no Android                                            </a></li></ul></li><style type=\"text/css\">.career-programacao-title:after {\\n\\t\\t                            \\tbackground-color:#00c86f;\\n\\t\\t                            }</style><li\\nclass=\"careers__list__item\" style=\"color:#00c86f;\"><div\\nclass=\"careers__list__item__title-wrapper\"><div\\nclass=\"categories__svg-wrapper\" style=\"background-color:#00c86f;\">\\n<svg\\nclass=\"pagina-categoria__svg svgFill-programacao categories__svg\" xmlns:xlink=\"http://www.w3.org/1999/xlink\">\\n<use\\nxlink:href=\"/svg,1566826582/categorias#icon-categorias-programacao\"/>\\n</svg></div><h3 class=\"careers__list__item__title\">Programa\\xc3\\xa7\\xc3\\xa3o</h3></div><h4 class=\"careers__list__item__sub-title career-programacao-title\">Forma\\xc3\\xa7\\xc3\\xb5es</h4><ul\\nclass=\"careers__list__item__list careers__list__item__list--formacoes\"><li\\nclass=\"careers__list__item__list__item\">\\n<a\\nclass=\"careers__list__item__list__item__link\" href=\"/formacao-dotnet\">\\n.NET                                            </a></li><li\\nclass=\"careers__list__item__list__item\">\\n<a\\nclass=\"careers__list__item__list__item__link\" href=\"/formacao-certificacao-csharp\">\\nCertifica\\xc3\\xa7\\xc3\\xa3o C# Programming                                            </a></li><li\\nclass=\"careers__list__item__list__item\">\\n<a\\nclass=\"careers__list__item__list__item__link\" href=\"/formacao-certificacao-java\">\\nCertifica\\xc3\\xa7\\xc3\\xa3o Java                                            </a></li><li\\nclass=\"careers__list__item__list__item\">\\n<a\\nclass=\"careers__list__item__list__item__link\" href=\"/formacao-desenvolvedor-php\">\\nDesenvolvedor PHP                                            </a></li><li\\nclass=\"careers__list__item__list__item\">\\n<a\\nclass=\"careers__list__item__list__item__link\" href=\"/formacao-vb-net\">\\nDesenvolvedor VB.NET                                            </a></li><li\\nclass=\"careers__list__item__list__item\">\\n<a\\nclass=\"careers__list__item__list__item__link\" href=\"/formacao-expert-em-orientacao-a-objetos\">\\nExpert em Orienta\\xc3\\xa7\\xc3\\xa3o a Objetos                                            </a></li><li\\nclass=\"careers__list__item__list__item\">\\n<a\\nclass=\"careers__list__item__list__item__link\" href=\"/formacao-programacao\">\\nIniciante em Programa\\xc3\\xa7\\xc3\\xa3o                                            </a></li><li\\nclass=\"careers__list__item__list__item\">\\n<a\\nclass=\"careers__list__item__list__item__link\" href=\"/formacao-integracao-aplicacoes-java\">\\nIntegra\\xc3\\xa7\\xc3\\xa3o de Aplica\\xc3\\xa7\\xc3\\xb5es Java                                            </a></li><li\\nclass=\"careers__list__item__list__item\">\\n<a\\nclass=\"careers__list__item__list__item__link\" href=\"/formacao-java\">\\nJava                                            </a></li><li\\nclass=\"careers__list__item__list__item\">\\n<a\\nclass=\"careers__list__item__list__item__link\" href=\"/formacao-java-ee\">\\nJava EE                                            </a></li><li\\nclass=\"careers__list__item__list__item\">\\n<a\\nclass=\"careers__list__item__list__item__link\" href=\"/formacao-jogos-unity\">\\nJogos com Unity                                            </a></li><li\\nclass=\"careers__list__item__list__item\">\\n<a\\nclass=\"careers__list__item__list__item__link\" href=\"/formacao-python-web\">\\nPython Web                                            </a></li><li\\nclass=\"careers__list__item__list__item\">\\n<a\\nclass=\"careers__list__item__list__item__link\" href=\"/formacao-ruby-on-rails\">\\nRuby On Rails                                            </a></li><li\\nclass=\"careers__list__item__list__item\">\\n<a\\nclass=\"careers__list__item__list__item__link\" href=\"/formacao-wordpress\">\\nWordpress                                            </a></li></ul></li><style type=\"text/css\">.career-front-end-title:after {\\n\\t\\t                            \\tbackground-color:#6bd1ff;\\n\\t\\t                            }</style><li\\nclass=\"careers__list__item\" style=\"color:#6bd1ff;\"><div\\nclass=\"careers__list__item__title-wrapper\"><div\\nclass=\"categories__svg-wrapper\" style=\"background-color:#6bd1ff;\">\\n<svg\\nclass=\"pagina-categoria__svg svgFill-front-end categories__svg\" xmlns:xlink=\"http://www.w3.org/1999/xlink\">\\n<use\\nxlink:href=\"/svg,1566826582/categorias#icon-categorias-front-end\"/>\\n</svg></div><h3 class=\"careers__list__item__title\">Front-end</h3></div><h4 class=\"careers__list__item__sub-title career-front-end-title\">Forma\\xc3\\xa7\\xc3\\xb5es</h4><ul\\nclass=\"careers__list__item__list careers__list__item__list--formacoes\"><li\\nclass=\"careers__list__item__list__item\">\\n<a\\nclass=\"careers__list__item__list__item__link\" href=\"/formacao-acessibilidade-web\">\\nAcessibilidade Web                                            </a></li><li\\nclass=\"careers__list__item__list__item\">\\n<a\\nclass=\"careers__list__item__list__item__link\" href=\"/formacao-angular\">\\nAngular                                            </a></li><li\\nclass=\"careers__list__item__list__item\">\\n<a\\nclass=\"careers__list__item__list__item__link\" href=\"/formacao-front-end\">\\nFront-end                                            </a></li><li\\nclass=\"careers__list__item__list__item\">\\n<a\\nclass=\"careers__list__item__list__item__link\" href=\"/formacao-node-js\">\\nNode.js                                            </a></li><li\\nclass=\"careers__list__item__list__item\">\\n<a\\nclass=\"careers__list__item__list__item__link\" href=\"/formacao-react\">\\nReact                                            </a></li><li\\nclass=\"careers__list__item__list__item\">\\n<a\\nclass=\"careers__list__item__list__item__link\" href=\"/formacao-vuejs\">\\nVue.js                                            </a></li></ul></li><style type=\"text/css\">.career-infraestrutura-title:after {\\n\\t\\t                            \\tbackground-color:#f16165;\\n\\t\\t                            }</style><li\\nclass=\"careers__list__item\" style=\"color:#f16165;\"><div\\nclass=\"careers__list__item__title-wrapper\"><div\\nclass=\"categories__svg-wrapper\" style=\"background-color:#f16165;\">\\n<svg\\nclass=\"pagina-categoria__svg svgFill-infraestrutura categories__svg\" xmlns:xlink=\"http://www.w3.org/1999/xlink\">\\n<use\\nxlink:href=\"/svg,1566826582/categorias#icon-categorias-infraestrutura\"/>\\n</svg></div><h3 class=\"careers__list__item__title\">Infraestrutura</h3></div><h4 class=\"careers__list__item__sub-title career-infraestrutura-title\">Forma\\xc3\\xa7\\xc3\\xb5es</h4><ul\\nclass=\"careers__list__item__list careers__list__item__list--formacoes\"><li\\nclass=\"careers__list__item__list__item\">\\n<a\\nclass=\"careers__list__item__list__item__link\" href=\"/formacao-redes\">\\nAdministrador de Redes                                            </a></li><li\\nclass=\"careers__list__item__list__item\">\\n<a\\nclass=\"careers__list__item__list__item__link\" href=\"/formacao-amazon-web-services\">\\nAmazon Web Services                                            </a></li><li\\nclass=\"careers__list__item__list__item\">\\n<a\\nclass=\"careers__list__item__list__item__link\" href=\"/formacao-certificacao-cisco-ccna\">\\nCertifica\\xc3\\xa7\\xc3\\xa3o Cisco CCNA                                            </a></li><li\\nclass=\"careers__list__item__list__item\">\\n<a\\nclass=\"careers__list__item__list__item__link\" href=\"/formacao-certificacao-lpi-linux-essentials\">\\nCertifica\\xc3\\xa7\\xc3\\xa3o LPI Linux Essentials                                            </a></li><li\\nclass=\"careers__list__item__list__item\">\\n<a\\nclass=\"careers__list__item__list__item__link\" href=\"/formacao-devops\">\\nDevOps                                            </a></li><li\\nclass=\"careers__list__item__list__item\">\\n<a\\nclass=\"careers__list__item__list__item__link\" href=\"/formacao-internet-das-coisas-iot\">\\nInternet das Coisas                                            </a></li><li\\nclass=\"careers__list__item__list__item\">\\n<a\\nclass=\"careers__list__item__list__item__link\" href=\"/formacao-microcontroladores-eletronica-aplicada\">\\nMicrocontroladores e Eletr\\xc3\\xb4nica Aplicada                                            </a></li><li\\nclass=\"careers__list__item__list__item\">\\n<a\\nclass=\"careers__list__item__list__item__link\" href=\"/formacao-raspberry-pi\">\\nRaspberry Pi                                            </a></li><li\\nclass=\"careers__list__item__list__item\">\\n<a\\nclass=\"careers__list__item__list__item__link\" href=\"/formacao-seguranca-de-aplicacoes\">\\nSeguran\\xc3\\xa7a de aplica\\xc3\\xa7\\xc3\\xb5es                                            </a></li></ul></li><style type=\"text/css\">.career-design-ux-title:after {\\n\\t\\t                            \\tbackground-color:#dc6ebe;\\n\\t\\t                            }</style><li\\nclass=\"careers__list__item\" style=\"color:#dc6ebe;\"><div\\nclass=\"careers__list__item__title-wrapper\"><div\\nclass=\"categories__svg-wrapper\" style=\"background-color:#dc6ebe;\">\\n<svg\\nclass=\"pagina-categoria__svg svgFill-design-ux categories__svg\" xmlns:xlink=\"http://www.w3.org/1999/xlink\">\\n<use\\nxlink:href=\"/svg,1566826582/categorias#icon-categorias-design-ux\"/>\\n</svg></div><h3 class=\"careers__list__item__title\">Design & UX</h3></div><h4 class=\"careers__list__item__sub-title career-design-ux-title\">Forma\\xc3\\xa7\\xc3\\xb5es</h4><ul\\nclass=\"careers__list__item__list careers__list__item__list--formacoes\"><li\\nclass=\"careers__list__item__list__item\">\\n<a\\nclass=\"careers__list__item__list__item__link\" href=\"/formacao-design-grafico\">\\nDesign Gr\\xc3\\xa1fico                                            </a></li><li\\nclass=\"careers__list__item__list__item\">\\n<a\\nclass=\"careers__list__item__list__item__link\" href=\"/formacao-editor-video\">\\nEditor de v\\xc3\\xaddeo                                            </a></li><li\\nclass=\"careers__list__item__list__item\">\\n<a\\nclass=\"careers__list__item__list__item__link\" href=\"/formacao-motion-design\">\\nMotion Design                                            </a></li><li\\nclass=\"careers__list__item__list__item\">\\n<a\\nclass=\"careers__list__item__list__item__link\" href=\"/formacao-producao-com-photoshop\">\\nProdu\\xc3\\xa7\\xc3\\xa3o com Photoshop                                            </a></li><li\\nclass=\"careers__list__item__list__item\">\\n<a\\nclass=\"careers__list__item__list__item__link\" href=\"/formacao-unreal-engine\">\\nUnreal Engine                                            </a></li><li\\nclass=\"careers__list__item__list__item\">\\n<a\\nclass=\"careers__list__item__list__item__link\" href=\"/formacao-ux\">\\nUX Design                                            </a></li></ul></li><style type=\"text/css\">.career-data-science-title:after {\\n\\t\\t                            \\tbackground-color:#9cd33b;\\n\\t\\t                            }</style><li\\nclass=\"careers__list__item\" style=\"color:#9cd33b;\"><div\\nclass=\"careers__list__item__title-wrapper\"><div\\nclass=\"categories__svg-wrapper\" style=\"background-color:#9cd33b;\">\\n<svg\\nclass=\"pagina-categoria__svg svgFill-data-science categories__svg\" xmlns:xlink=\"http://www.w3.org/1999/xlink\">\\n<use\\nxlink:href=\"/svg,1566826582/categorias#icon-categorias-data-science\"/>\\n</svg></div><h3 class=\"careers__list__item__title\">Data Science</h3></div><h4 class=\"careers__list__item__sub-title career-data-science-title\">Forma\\xc3\\xa7\\xc3\\xb5es</h4><ul\\nclass=\"careers__list__item__list careers__list__item__list--formacoes\"><li\\nclass=\"careers__list__item__list__item\">\\n<a\\nclass=\"careers__list__item__list__item__link\" href=\"/formacao-business-intelligence-data-warehouse-pentaho\">\\nBI e Data Warehouse com Pentaho                                            </a></li><li\\nclass=\"careers__list__item__list__item\">\\n<a\\nclass=\"careers__list__item__list__item__link\" href=\"/formacao-business-intelligence-data-warehouse\">\\nBI e Data Warehouse com SQL Server e Power BI                                            </a></li><li\\nclass=\"careers__list__item__list__item\">\\n<a\\nclass=\"careers__list__item__list__item__link\" href=\"/formacao-certificacao-oracle-12c\">\\nCertifica\\xc3\\xa7\\xc3\\xa3o Oracle 12c                                            </a></li><li\\nclass=\"careers__list__item__list__item\">\\n<a\\nclass=\"careers__list__item__list__item__link\" href=\"/formacao-data-science\">\\nData Science                                            </a></li><li\\nclass=\"careers__list__item__list__item\">\\n<a\\nclass=\"careers__list__item__list__item__link\" href=\"/formacao-excel-vba\">\\nExcel VBA                                            </a></li><li\\nclass=\"careers__list__item__list__item\">\\n<a\\nclass=\"careers__list__item__list__item__link\" href=\"/formacao-machine-learning\">\\nMachine Learning                                            </a></li><li\\nclass=\"careers__list__item__list__item\">\\n<a\\nclass=\"careers__list__item__list__item__link\" href=\"/formacao-oracle-sql-plsql\">\\nOracle SQL e PL/SQL                                            </a></li><li\\nclass=\"careers__list__item__list__item\">\\n<a\\nclass=\"careers__list__item__list__item__link\" href=\"/formacao-microsoft-sql-server-2017\">\\nSQL com Microsoft SQL Server 2017                                            </a></li></ul></li><style type=\"text/css\">.career-marketing-digital-title:after {\\n\\t\\t                            \\tbackground-color:#6b5be2;\\n\\t\\t                            }</style><li\\nclass=\"careers__list__item\" style=\"color:#6b5be2;\"><div\\nclass=\"careers__list__item__title-wrapper\"><div\\nclass=\"categories__svg-wrapper\" style=\"background-color:#6b5be2;\">\\n<svg\\nclass=\"pagina-categoria__svg svgFill-marketing-digital categories__svg\" xmlns:xlink=\"http://www.w3.org/1999/xlink\">\\n<use\\nxlink:href=\"/svg,1566826582/categorias#icon-categorias-marketing-digital\"/>\\n</svg></div><h3 class=\"careers__list__item__title\">Marketing Digital</h3></div><h4 class=\"careers__list__item__sub-title career-marketing-digital-title\">Forma\\xc3\\xa7\\xc3\\xb5es</h4><ul\\nclass=\"careers__list__item__list careers__list__item__list--formacoes\"><li\\nclass=\"careers__list__item__list__item\">\\n<a\\nclass=\"careers__list__item__list__item__link\" href=\"/formacao-marketing-digital\">\\nMarketing Digital                                            </a></li><li\\nclass=\"careers__list__item__list__item\">\\n<a\\nclass=\"careers__list__item__list__item__link\" href=\"/formacao-seo\">\\nSEO                                            </a></li><li\\nclass=\"careers__list__item__list__item\">\\n<a\\nclass=\"careers__list__item__list__item__link\" href=\"/formacao-social-media\">\\nSocial Media                                            </a></li></ul></li><style type=\"text/css\">.career-inovacao-gestao-title:after {\\n\\t\\t                            \\tbackground-color:#ff8c2a;\\n\\t\\t                            }</style><li\\nclass=\"careers__list__item\" style=\"color:#ff8c2a;\"><div\\nclass=\"careers__list__item__title-wrapper\"><div\\nclass=\"categories__svg-wrapper\" style=\"background-color:#ff8c2a;\">\\n<svg\\nclass=\"pagina-categoria__svg svgFill-inovacao-gestao categories__svg\" xmlns:xlink=\"http://www.w3.org/1999/xlink\">\\n<use\\nxlink:href=\"/svg,1566826582/categorias#icon-categorias-inovacao-gestao\"/>\\n</svg></div><h3 class=\"careers__list__item__title\">Inova\\xc3\\xa7\\xc3\\xa3o & Gest\\xc3\\xa3o</h3></div><h4 class=\"careers__list__item__sub-title career-inovacao-gestao-title\">Forma\\xc3\\xa7\\xc3\\xb5es</h4><ul\\nclass=\"careers__list__item__list careers__list__item__list--formacoes\"><li\\nclass=\"careers__list__item__list__item\">\\n<a\\nclass=\"careers__list__item__list__item__link\" href=\"/formacao-business-agility\">\\nBusiness Agility                                            </a></li><li\\nclass=\"careers__list__item__list__item\">\\n<a\\nclass=\"careers__list__item__list__item__link\" href=\"/formacao-certificacao-cobit-5\">\\nCertifica\\xc3\\xa7\\xc3\\xa3o Cobit 5                                            </a></li><li\\nclass=\"careers__list__item__list__item\">\\n<a\\nclass=\"careers__list__item__list__item__link\" href=\"/formacao-certificacao-itil-foundation\">\\nCertifica\\xc3\\xa7\\xc3\\xa3o ITIL Foundation                                            </a></li><li\\nclass=\"careers__list__item__list__item\">\\n<a\\nclass=\"careers__list__item__list__item__link\" href=\"/formacao-certificacao-pmp-capm-pmi\">\\nCertifica\\xc3\\xa7\\xc3\\xa3o PMP e CAPM do PMI                                            </a></li><li\\nclass=\"careers__list__item__list__item\">\\n<a\\nclass=\"careers__list__item__list__item__link\" href=\"/formacao-curriculos\">\\nCurr\\xc3\\xadculos                                            </a></li><li\\nclass=\"careers__list__item__list__item\">\\n<a\\nclass=\"careers__list__item__list__item__link\" href=\"/formacao-desenvolvimento-pessoal\">\\nDesenvolvimento Pessoal                                            </a></li><li\\nclass=\"careers__list__item__list__item\">\\n<a\\nclass=\"careers__list__item__list__item__link\" href=\"/formacao-e-commerce\">\\nE-commerce                                            </a></li><li\\nclass=\"careers__list__item__list__item\">\\n<a\\nclass=\"careers__list__item__list__item__link\" href=\"/formacao-empreendedorismo-digital\">\\nEmpreendedorismo Digital                                            </a></li><li\\nclass=\"careers__list__item__list__item\">\\n<a\\nclass=\"careers__list__item__list__item__link\" href=\"/formacao-gerente-agil\">\\nGerente \\xc3\\x81gil                                            </a></li></ul></li></ul></div></section><section\\nclass=\"testimonies\"><div\\nclass=\"container\"><div\\nclass=\"testimonies__wrapper\"><h2 class=\"testimonies__title\">\\nExperi\\xc3\\xaancias de quem\\n<strong\\nclass=\"testimonies__title__featured\">j\\xc3\\xa1 estudou com a gente</strong></h2></div><nav\\nclass=\"testimonies__list\"><div\\nclass=\"testimonies__list__item\"><div\\nclass=\"testimony\">\\n<img\\nclass=\"testimonies__list__item__photo\" alt=\"\"\\nsrc=\"/assets/img/aluno-destaque/genilton-souza.1566826582.jpg\"><div\\nclass=\"testimonies__list__item__wrapper\"><h3 class=\"testimonies__list__item__title\">Genilton Souza</h3>\\n<span\\nclass=\"testimonies__list__item__description\">\\nSe voc\\xc3\\xaa n\\xc3\\xa3o sabe a ordem do que deve aprender e praticar para\\ndominar uma tecnologia, <strong>a forma como os cursos est\\xc3\\xa3o organizados\\ne estruturados na Alura ajuda muito</strong>.\\nAprendi C# aqui e pago minhas contas com isso hoje em dia.</span></div></div></div><div\\nclass=\"testimonies__list__item\"><div\\nclass=\"testimony\">\\n<img\\nclass=\"testimonies__list__item__photo\" alt=\"\"\\nsrc=\"/assets/img/aluno-destaque/leandro-silva.1566826582.jpg\"><div\\nclass=\"testimonies__list__item__wrapper\"><h3 class=\"testimonies__list__item__title\">Leandro da Silva</h3>\\n<span\\nclass=\"testimonies__list__item__description\">\\nPassei dois anos e meio desempregado e foi onde conheci os cursos\\nda Alura. <strong>Consegui fazer uma mudan\\xc3\\xa7a de carreira em uma \\xc3\\xa1rea muito\\ndisputada e estou muito feliz</strong>: passei em um processo seletivo\\ncomo Agente de Inova\\xc3\\xa7\\xc3\\xa3o, e muito do que aprendi tanto para a prova\\nquanto para a etapa presencial foi gra\\xc3\\xa7as a Alura.\\n</span></div></div></div><div\\nclass=\"testimonies__list__item\"><div\\nclass=\"testimony\">\\n<img\\nclass=\"testimonies__list__item__photo\" alt=\"\"\\nsrc=\"/assets/img/aluno-destaque/nadia-oliveira.1566826582.jpg\"><div\\nclass=\"testimonies__list__item__wrapper\"><h3 class=\"testimonies__list__item__title\">N\\xc3\\xa1dia Oliveira</h3>\\n<span\\nclass=\"testimonies__list__item__description\">\\nA plataforma \\xc3\\xa9 incr\\xc3\\xadvel. Al\\xc3\\xa9m das metodologias do curso serem de alcance\\npara quem est\\xc3\\xa1 come\\xc3\\xa7ando ou quem j\\xc3\\xa1 est\\xc3\\xa1 avan\\xc3\\xa7ado em alguma tecnologia,\\nno f\\xc3\\xb3rum de d\\xc3\\xbavidas sempre algum instrutor ou aluno te responde em um\\ncurto espa\\xc3\\xa7o de tempo.\\n<strong>Na Alura, seu conhecimento \\xc3\\xa9 prioridade</strong>.\\n</span></div></div></div></nav></div></section><section\\nclass=\"companies\"><div\\nclass=\"container\"><div\\nclass=\"companies-wrapper\"><div\\nclass=\"companies__description-wrapper\">\\n<img\\nclass=\"companies__image\" src=\"/assets/img/home/homeNova/companies/foto-empresas.1566826582.jpg\" alt=\"Pessoas trabalhando na\\nAlura\"><div\\nclass=\"companies__description\"><div\\nclass=\"companies__description__title-wrapper\"><h2 class=\"companies__description__title\">Para a sua <strong>empresa</strong></h2></div><p\\nclass=\"companies__description__text\">\\nCapacite suas equipes com forma\\xc3\\xa7\\xc3\\xb5es continuadas, lan\\xc3\\xa7amentos semanais, dashboards e relat\\xc3\\xb3rios\\nde engajamento al\\xc3\\xa9m de guias de estudos customizados de acordo com sua necessidade.</p>\\n<a\\nclass=\"companies__description__link\" href=\"/empresas\">Conhe\\xc3\\xa7a os recursos</a></div></div><section\\nclass=\"companies__testimony\"><div\\nclass=\"companies__testimony__wrapper\"><p\\nclass=\"companies__testimony__text\">\\n<em>\\nO time conseguiu aprender muito e um dos diferenciais para n\\xc3\\xb3s foi a l\\xc3\\xadngua,\\ncom  conte\\xc3\\xbado de qualidade em portugu\\xc3\\xaas. Na Alura, a equipe conseguiu estudar pela plataforma\\nonline e aplicar tudo de maneira estruturada.</em></p>\\n<span\\nclass=\"companies__testimony__author\">\\n<strong\\nclass=\"companies__testimony__author__name\">Lucas Souza</strong> CTO da GetNinjas\\n</span></div></section></div><section\\nclass=\"companies__using-alura\"><div\\nclass=\"companies__using-alura__title__wrapper\"><h2 class=\"companies__using-alura__title\">\\n<strong>Empresas que j\\xc3\\xa1 contam com a gente:</strong></h2></div><ul\\nclass=\"companies__using-alura__list\"><li\\nclass=\"companies__using-alura__list__item\">\\n<img\\nclass=\"companies__using-alura__list__item__image\"\\nsrc=\"/assets/img/home/homeNova/logo-empresas/logo-empresa-amil.1566826582.svg\" alt=\"Amil\"></li><li\\nclass=\"companies__using-alura__list__item\">\\n<img\\nclass=\"companies__using-alura__list__item__image\"\\nsrc=\"/assets/img/home/homeNova/logo-empresas/logo-empresa-samsung.1566826582.svg\" alt=\"Samsung\"></li><li\\nclass=\"companies__using-alura__list__item\">\\n<img\\nclass=\"companies__using-alura__list__item__image\"\\nsrc=\"/assets/img/home/homeNova/logo-empresas/logo-empresa-santander.1566826582.svg\" alt=\"Santander\"></li><li\\nclass=\"companies__using-alura__list__item\">\\n<img\\nclass=\"companies__using-alura__list__item__image\"\\nsrc=\"/assets/img/home/homeNova/logo-empresas/logo-empresa-cielo.1566826582.svg\" alt=\"Cielo\"></li><li\\nclass=\"companies__using-alura__list__item\">\\n<img\\nclass=\"companies__using-alura__list__item__image\"\\nsrc=\"/assets/img/home/homeNova/logo-empresas/logo-empresa-algar.1566826582.svg\" alt=\"Algar\"></li><li\\nclass=\"companies__using-alura__list__item\">\\n<img\\nclass=\"companies__using-alura__list__item__image\"\\nsrc=\"/assets/img/home/homeNova/logo-empresas/logo-empresa-caixa.1566826582.svg\" alt=\"Caixa\"></li><li\\nclass=\"companies__using-alura__list__item\">\\n<img\\nclass=\"companies__using-alura__list__item__image\"\\nsrc=\"/assets/img/home/homeNova/logo-empresas/logo-empresa-globo.1566826582.svg\" alt=\"Globo.com\"></li></ul></section></div></section><section\\nclass=\"mobile\"><div\\nclass=\"container\"><div\\nclass=\"mobile__wrapper-info\"><div\\nclass=\"mobile__info mobile__info--forum\">\\nJ\\xc3\\xa1 s\\xc3\\xa3o\\n<strong>856 cursos</strong>\\ncom lan\\xc3\\xa7amentos toda semana.</div><div\\nclass=\"mobile__info mobile__info--app\">\\nAplicativos para\\n<strong>Android e iOS</strong>\\nBaixe e estude offline em qualquer lugar.</div></div><nav\\nclass=\"mobile__apps-download\">\\n<a\\nhref=\"https://play.google.com/store/apps/details?id=br.com.alura.mobi&hl=pt_BR\"\\nclass=\"mobile__apps-download__item mobile__apps-download__item--google-play\">Google\\nPlay</a>\\n<a\\nhref=\"https://itunes.apple.com/br/app/alura-cursos-online/id1225776635\"\\nclass=\"mobile__apps-download__item mobile__apps-download__item--app-store\">App\\nStore</a></nav></div></section><section\\nclass=\"planos-pagamento\" id=\"planos-cursos-online\"><h2 class=\"planos-pagamento__titulo\">\\nSabe quando voc\\xc3\\xaa pode come\\xc3\\xa7ar? <span\\nclass=\"planos-pagamento__titulo--bold\">Agora!</span></h2><div\\nclass=\"container\"><div\\nclass=\"planos-pagamento__planos \"><ul\\nclass=\"planos-pagamento__vantagens-mobile\"><li\\nclass=\"planos-pagamento__vantagem\"><div\\nclass=\"planos-pagamento__wrapper planos-pagamento__wrapper--com-descricao\">\\n<span\\nclass=\"planos-pagamento__label\">856 cursos</span><div\\nclass=\"planos-pagamento__legenda-tooltip\"><p\\nclass=\"planos-pagamento__legenda-descricao\">Cursos de programa\\xc3\\xa7\\xc3\\xa3o, design, UX, agilidade, transforma\\xc3\\xa7\\xc3\\xa3o digital, mobile, front-end, infraestrutura e mais.</p></div></div></li><li\\nclass=\"planos-pagamento__vantagem\"><div\\nclass=\"planos-pagamento__wrapper planos-pagamento__wrapper--com-descricao\">\\n<span\\nclass=\"planos-pagamento__label\">Certificado de participa\\xc3\\xa7\\xc3\\xa3o</span><div\\nclass=\"planos-pagamento__legenda-tooltip\"><p\\nclass=\"planos-pagamento__legenda-descricao\">Certificado de que assistiu o curso e finalizou as atividades</p></div></div></li><li\\nclass=\"planos-pagamento__vantagem\"><div\\nclass=\"planos-pagamento__wrapper planos-pagamento__wrapper--com-descricao\">\\n<span\\nclass=\"planos-pagamento__label\">App para Android e iPhone/iPad</span><div\\nclass=\"planos-pagamento__legenda-tooltip\"><p\\nclass=\"planos-pagamento__legenda-descricao\">Estude at\\xc3\\xa9 mesmo offline atrav\\xc3\\xa9s das nossas apps Android e iOS em smartphones e tablets</p></div></div></li><li\\nclass=\"planos-pagamento__vantagem\"><div\\nclass=\"planos-pagamento__wrapper planos-pagamento__wrapper--com-descricao\">\\n<span\\nclass=\"planos-pagamento__label\">Projeto avaliado pelos instrutores</span><div\\nclass=\"planos-pagamento__legenda-tooltip\"><p\\nclass=\"planos-pagamento__legenda-descricao\">Projeto pr\\xc3\\xa1ticos para entrega e avalia\\xc3\\xa7\\xc3\\xa3o dos professores da Alura com certificado de aprova\\xc3\\xa7\\xc3\\xa3o diferenciado</p></div></div></li><li\\nclass=\"planos-pagamento__vantagem\"><div\\nclass=\"planos-pagamento__wrapper planos-pagamento__wrapper--com-descricao\">\\n<span\\nclass=\"planos-pagamento__label\">Acesso \\xc3\\xa0 Alura Start</span><div\\nclass=\"planos-pagamento__legenda-tooltip\"><p\\nclass=\"planos-pagamento__legenda-descricao\">Cursos de introdu\\xc3\\xa7\\xc3\\xa3o a tecnologia atrav\\xc3\\xa9s de games, apps e ci\\xc3\\xaancia</p></div></div></li><li\\nclass=\"planos-pagamento__vantagem\"><div\\nclass=\"planos-pagamento__wrapper planos-pagamento__wrapper--com-descricao\">\\n<span\\nclass=\"planos-pagamento__label\">Acesso \\xc3\\xa0 Alura L\\xc3\\xadngua</span><div\\nclass=\"planos-pagamento__legenda-tooltip\"><p\\nclass=\"planos-pagamento__legenda-descricao\">Refor\\xc3\\xa7o online de ingl\\xc3\\xaas e espanhol para aprimorar seu conhecimento</p></div></div></li></ul><div\\nclass=\"planos-pagamento__plano planos-pagamento__plano--premium\"\\ndata-payment-plan  data-payment-plan-price=\"900\"><div\\nclass=\"planos-pagamento__header\"><h4 class=\"planos-pagamento__nome\">Premium</h4></div><ul\\nclass=\"planos-pagamento__vantagens\"><li\\nclass=\"planos-pagamento__vantagem\"><div\\nclass=\"planos-pagamento__wrapper planos-pagamento__wrapper--com-descricao\">\\n<span\\nclass=\"planos-pagamento__label\">856 cursos</span><div\\nclass=\"planos-pagamento__legenda-tooltip\"><p\\nclass=\"planos-pagamento__legenda-descricao\">Cursos de programa\\xc3\\xa7\\xc3\\xa3o, design, UX, agilidade, transforma\\xc3\\xa7\\xc3\\xa3o digital, mobile, front-end, infraestrutura e mais.</p></div></div><div\\nclass=\"planos-pagamento__checkmark planos-pagamento__checkmark--ativo\">\\n<svg><use\\nxlink:href=\"/svg,1566826582/planosPagamento#icon-planosPagamento-checked\" /></svg></div></li><li\\nclass=\"planos-pagamento__vantagem\"><div\\nclass=\"planos-pagamento__wrapper planos-pagamento__wrapper--com-descricao\">\\n<span\\nclass=\"planos-pagamento__label\">Certificado de participa\\xc3\\xa7\\xc3\\xa3o</span><div\\nclass=\"planos-pagamento__legenda-tooltip\"><p\\nclass=\"planos-pagamento__legenda-descricao\">Certificado de que assistiu o curso e finalizou as atividades</p></div></div><div\\nclass=\"planos-pagamento__checkmark planos-pagamento__checkmark--ativo\">\\n<svg><use\\nxlink:href=\"/svg,1566826582/planosPagamento#icon-planosPagamento-checked\" /></svg></div></li><li\\nclass=\"planos-pagamento__vantagem\"><div\\nclass=\"planos-pagamento__wrapper planos-pagamento__wrapper--com-descricao\">\\n<span\\nclass=\"planos-pagamento__label\">App para Android e iPhone/iPad</span><div\\nclass=\"planos-pagamento__legenda-tooltip\"><p\\nclass=\"planos-pagamento__legenda-descricao\">Estude at\\xc3\\xa9 mesmo offline atrav\\xc3\\xa9s das nossas apps Android e iOS em smartphones e tablets</p></div></div><div\\nclass=\"planos-pagamento__checkmark planos-pagamento__checkmark--ativo\">\\n<svg><use\\nxlink:href=\"/svg,1566826582/planosPagamento#icon-planosPagamento-checked\" /></svg></div></li><li\\nclass=\"planos-pagamento__vantagem\"><div\\nclass=\"planos-pagamento__wrapper planos-pagamento__wrapper--com-descricao\">\\n<span\\nclass=\"planos-pagamento__label\">Projeto avaliado pelos instrutores</span><div\\nclass=\"planos-pagamento__legenda-tooltip\"><p\\nclass=\"planos-pagamento__legenda-descricao\">Projeto pr\\xc3\\xa1ticos para entrega e avalia\\xc3\\xa7\\xc3\\xa3o dos professores da Alura com certificado de aprova\\xc3\\xa7\\xc3\\xa3o diferenciado</p></div></div><div\\nclass=\"planos-pagamento__checkmark \">\\n<svg><use\\nxlink:href=\"/svg,1566826582/planosPagamento#icon-planosPagamento-checked\" /></svg></div></li><li\\nclass=\"planos-pagamento__vantagem\"><div\\nclass=\"planos-pagamento__wrapper planos-pagamento__wrapper--com-descricao\">\\n<span\\nclass=\"planos-pagamento__label\">Acesso \\xc3\\xa0 Alura Start</span><div\\nclass=\"planos-pagamento__legenda-tooltip\"><p\\nclass=\"planos-pagamento__legenda-descricao\">Cursos de introdu\\xc3\\xa7\\xc3\\xa3o a tecnologia atrav\\xc3\\xa9s de games, apps e ci\\xc3\\xaancia</p></div></div><div\\nclass=\"planos-pagamento__checkmark \">\\n<svg><use\\nxlink:href=\"/svg,1566826582/planosPagamento#icon-planosPagamento-checked\" /></svg></div></li><li\\nclass=\"planos-pagamento__vantagem\"><div\\nclass=\"planos-pagamento__wrapper planos-pagamento__wrapper--com-descricao\">\\n<span\\nclass=\"planos-pagamento__label\">Acesso \\xc3\\xa0 Alura L\\xc3\\xadngua</span><div\\nclass=\"planos-pagamento__legenda-tooltip\"><p\\nclass=\"planos-pagamento__legenda-descricao\">Refor\\xc3\\xa7o online de ingl\\xc3\\xaas e espanhol para aprimorar seu conhecimento</p></div></div><div\\nclass=\"planos-pagamento__checkmark \">\\n<svg><use\\nxlink:href=\"/svg,1566826582/planosPagamento#icon-planosPagamento-checked\" /></svg></div></li></ul><div\\nclass=\"planos-pagamento__precos \">\\n<span\\nclass=\"planos-pagamento__numero-parcelas\">\\n12X\\n</span><div\\nclass=\"planos-pagamento__preco-parcela\\n\">\\n<span\\nclass=\"planos-pagamento__valor-parcela\">R$75</div><div\\nclass=\"planos-pagamento__preco-vista\">\\n<span\\nclass=\"planos-pagamento__label-vista\">\\xc3\\xa0 vista</span>\\n<span\\nclass=\"planos-pagamento__valor-vista\">R$900</span></div></div><a\\nclass=\"planos-pagamento__cta\" href=\"/compra/premium/\">\\nMatricule-se\\n</a></div><div\\nclass=\"planos-pagamento__plano planos-pagamento__plano--premiumplus\"\\ndata-payment-plan  data-payment-plan-price=\"1.200\"><div\\nclass=\"planos-pagamento__header\"><h4 class=\"planos-pagamento__nome\">Premium Plus</h4></div><ul\\nclass=\"planos-pagamento__vantagens\"><li\\nclass=\"planos-pagamento__vantagem\"><div\\nclass=\"planos-pagamento__wrapper planos-pagamento__wrapper--com-descricao\">\\n<span\\nclass=\"planos-pagamento__label\">856 cursos</span><div\\nclass=\"planos-pagamento__legenda-tooltip\"><p\\nclass=\"planos-pagamento__legenda-descricao\">Cursos de programa\\xc3\\xa7\\xc3\\xa3o, design, UX, agilidade, transforma\\xc3\\xa7\\xc3\\xa3o digital, mobile, front-end, infraestrutura e mais.</p></div></div><div\\nclass=\"planos-pagamento__checkmark planos-pagamento__checkmark--ativo\">\\n<svg><use\\nxlink:href=\"/svg,1566826582/planosPagamento#icon-planosPagamento-checked\" /></svg></div></li><li\\nclass=\"planos-pagamento__vantagem\"><div\\nclass=\"planos-pagamento__wrapper planos-pagamento__wrapper--com-descricao\">\\n<span\\nclass=\"planos-pagamento__label\">Certificado de participa\\xc3\\xa7\\xc3\\xa3o</span><div\\nclass=\"planos-pagamento__legenda-tooltip\"><p\\nclass=\"planos-pagamento__legenda-descricao\">Certificado de que assistiu o curso e finalizou as atividades</p></div></div><div\\nclass=\"planos-pagamento__checkmark planos-pagamento__checkmark--ativo\">\\n<svg><use\\nxlink:href=\"/svg,1566826582/planosPagamento#icon-planosPagamento-checked\" /></svg></div></li><li\\nclass=\"planos-pagamento__vantagem\"><div\\nclass=\"planos-pagamento__wrapper planos-pagamento__wrapper--com-descricao\">\\n<span\\nclass=\"planos-pagamento__label\">App para Android e iPhone/iPad</span><div\\nclass=\"planos-pagamento__legenda-tooltip\"><p\\nclass=\"planos-pagamento__legenda-descricao\">Estude at\\xc3\\xa9 mesmo offline atrav\\xc3\\xa9s das nossas apps Android e iOS em smartphones e tablets</p></div></div><div\\nclass=\"planos-pagamento__checkmark planos-pagamento__checkmark--ativo\">\\n<svg><use\\nxlink:href=\"/svg,1566826582/planosPagamento#icon-planosPagamento-checked\" /></svg></div></li><li\\nclass=\"planos-pagamento__vantagem\"><div\\nclass=\"planos-pagamento__wrapper planos-pagamento__wrapper--com-descricao\">\\n<span\\nclass=\"planos-pagamento__label\">Projeto avaliado pelos instrutores</span><div\\nclass=\"planos-pagamento__legenda-tooltip\"><p\\nclass=\"planos-pagamento__legenda-descricao\">Projeto pr\\xc3\\xa1ticos para entrega e avalia\\xc3\\xa7\\xc3\\xa3o dos professores da Alura com certificado de aprova\\xc3\\xa7\\xc3\\xa3o diferenciado</p></div></div><div\\nclass=\"planos-pagamento__checkmark planos-pagamento__checkmark--ativo\">\\n<svg><use\\nxlink:href=\"/svg,1566826582/planosPagamento#icon-planosPagamento-checked\" /></svg></div></li><li\\nclass=\"planos-pagamento__vantagem\"><div\\nclass=\"planos-pagamento__wrapper planos-pagamento__wrapper--com-descricao\">\\n<span\\nclass=\"planos-pagamento__label\">Acesso \\xc3\\xa0 Alura Start</span><div\\nclass=\"planos-pagamento__legenda-tooltip\"><p\\nclass=\"planos-pagamento__legenda-descricao\">Cursos de introdu\\xc3\\xa7\\xc3\\xa3o a tecnologia atrav\\xc3\\xa9s de games, apps e ci\\xc3\\xaancia</p></div></div><div\\nclass=\"planos-pagamento__checkmark planos-pagamento__checkmark--ativo\">\\n<svg><use\\nxlink:href=\"/svg,1566826582/planosPagamento#icon-planosPagamento-checked\" /></svg></div></li><li\\nclass=\"planos-pagamento__vantagem\"><div\\nclass=\"planos-pagamento__wrapper planos-pagamento__wrapper--com-descricao\">\\n<span\\nclass=\"planos-pagamento__label\">Acesso \\xc3\\xa0 Alura L\\xc3\\xadngua</span><div\\nclass=\"planos-pagamento__legenda-tooltip\"><p\\nclass=\"planos-pagamento__legenda-descricao\">Refor\\xc3\\xa7o online de ingl\\xc3\\xaas e espanhol para aprimorar seu conhecimento</p></div></div><div\\nclass=\"planos-pagamento__checkmark \">\\n<svg><use\\nxlink:href=\"/svg,1566826582/planosPagamento#icon-planosPagamento-checked\" /></svg></div></li></ul><div\\nclass=\"planos-pagamento__precos \">\\n<span\\nclass=\"planos-pagamento__numero-parcelas\">\\n12X\\n</span><div\\nclass=\"planos-pagamento__preco-parcela\\n\">\\n<span\\nclass=\"planos-pagamento__valor-parcela\">R$100</div><div\\nclass=\"planos-pagamento__preco-vista\">\\n<span\\nclass=\"planos-pagamento__label-vista\">\\xc3\\xa0 vista</span>\\n<span\\nclass=\"planos-pagamento__valor-vista\">R$1.200</span></div></div><a\\nclass=\"planos-pagamento__cta\" href=\"/compra/premiumplus/\">\\nMatricule-se\\n</a></div><div\\nclass=\"planos-pagamento__plano planos-pagamento__plano--max\"\\ndata-payment-plan  data-payment-plan-price=\"1.440\"><div\\nclass=\"planos-pagamento__header\"><h4 class=\"planos-pagamento__nome\">Max</h4></div><ul\\nclass=\"planos-pagamento__vantagens\"><li\\nclass=\"planos-pagamento__vantagem\"><div\\nclass=\"planos-pagamento__wrapper planos-pagamento__wrapper--com-descricao\">\\n<span\\nclass=\"planos-pagamento__label\">856 cursos</span><div\\nclass=\"planos-pagamento__legenda-tooltip\"><p\\nclass=\"planos-pagamento__legenda-descricao\">Cursos de programa\\xc3\\xa7\\xc3\\xa3o, design, UX, agilidade, transforma\\xc3\\xa7\\xc3\\xa3o digital, mobile, front-end, infraestrutura e mais.</p></div></div><div\\nclass=\"planos-pagamento__checkmark planos-pagamento__checkmark--ativo\">\\n<svg><use\\nxlink:href=\"/svg,1566826582/planosPagamento#icon-planosPagamento-checked\" /></svg></div></li><li\\nclass=\"planos-pagamento__vantagem\"><div\\nclass=\"planos-pagamento__wrapper planos-pagamento__wrapper--com-descricao\">\\n<span\\nclass=\"planos-pagamento__label\">Certificado de participa\\xc3\\xa7\\xc3\\xa3o</span><div\\nclass=\"planos-pagamento__legenda-tooltip\"><p\\nclass=\"planos-pagamento__legenda-descricao\">Certificado de que assistiu o curso e finalizou as atividades</p></div></div><div\\nclass=\"planos-pagamento__checkmark planos-pagamento__checkmark--ativo\">\\n<svg><use\\nxlink:href=\"/svg,1566826582/planosPagamento#icon-planosPagamento-checked\" /></svg></div></li><li\\nclass=\"planos-pagamento__vantagem\"><div\\nclass=\"planos-pagamento__wrapper planos-pagamento__wrapper--com-descricao\">\\n<span\\nclass=\"planos-pagamento__label\">App para Android e iPhone/iPad</span><div\\nclass=\"planos-pagamento__legenda-tooltip\"><p\\nclass=\"planos-pagamento__legenda-descricao\">Estude at\\xc3\\xa9 mesmo offline atrav\\xc3\\xa9s das nossas apps Android e iOS em smartphones e tablets</p></div></div><div\\nclass=\"planos-pagamento__checkmark planos-pagamento__checkmark--ativo\">\\n<svg><use\\nxlink:href=\"/svg,1566826582/planosPagamento#icon-planosPagamento-checked\" /></svg></div></li><li\\nclass=\"planos-pagamento__vantagem\"><div\\nclass=\"planos-pagamento__wrapper planos-pagamento__wrapper--com-descricao\">\\n<span\\nclass=\"planos-pagamento__label\">Projeto avaliado pelos instrutores</span><div\\nclass=\"planos-pagamento__legenda-tooltip\"><p\\nclass=\"planos-pagamento__legenda-descricao\">Projeto pr\\xc3\\xa1ticos para entrega e avalia\\xc3\\xa7\\xc3\\xa3o dos professores da Alura com certificado de aprova\\xc3\\xa7\\xc3\\xa3o diferenciado</p></div></div><div\\nclass=\"planos-pagamento__checkmark planos-pagamento__checkmark--ativo\">\\n<svg><use\\nxlink:href=\"/svg,1566826582/planosPagamento#icon-planosPagamento-checked\" /></svg></div></li><li\\nclass=\"planos-pagamento__vantagem\"><div\\nclass=\"planos-pagamento__wrapper planos-pagamento__wrapper--com-descricao\">\\n<span\\nclass=\"planos-pagamento__label\">Acesso \\xc3\\xa0 Alura Start</span><div\\nclass=\"planos-pagamento__legenda-tooltip\"><p\\nclass=\"planos-pagamento__legenda-descricao\">Cursos de introdu\\xc3\\xa7\\xc3\\xa3o a tecnologia atrav\\xc3\\xa9s de games, apps e ci\\xc3\\xaancia</p></div></div><div\\nclass=\"planos-pagamento__checkmark planos-pagamento__checkmark--ativo\">\\n<svg><use\\nxlink:href=\"/svg,1566826582/planosPagamento#icon-planosPagamento-checked\" /></svg></div></li><li\\nclass=\"planos-pagamento__vantagem\"><div\\nclass=\"planos-pagamento__wrapper planos-pagamento__wrapper--com-descricao\">\\n<span\\nclass=\"planos-pagamento__label\">Acesso \\xc3\\xa0 Alura L\\xc3\\xadngua</span><div\\nclass=\"planos-pagamento__legenda-tooltip\"><p\\nclass=\"planos-pagamento__legenda-descricao\">Refor\\xc3\\xa7o online de ingl\\xc3\\xaas e espanhol para aprimorar seu conhecimento</p></div></div><div\\nclass=\"planos-pagamento__checkmark planos-pagamento__checkmark--ativo\">\\n<svg><use\\nxlink:href=\"/svg,1566826582/planosPagamento#icon-planosPagamento-checked\" /></svg></div></li></ul><div\\nclass=\"planos-pagamento__precos \">\\n<span\\nclass=\"planos-pagamento__numero-parcelas\">\\n12X\\n</span><div\\nclass=\"planos-pagamento__preco-parcela\\n\">\\n<span\\nclass=\"planos-pagamento__valor-parcela\">R$120</div><div\\nclass=\"planos-pagamento__preco-vista\">\\n<span\\nclass=\"planos-pagamento__label-vista\">\\xc3\\xa0 vista</span>\\n<span\\nclass=\"planos-pagamento__valor-vista\">R$1.440</span></div></div><a\\nclass=\"planos-pagamento__cta\" href=\"/compra/max/\">\\nMatricule-se\\n</a></div></div></div><div\\nclass=\"planosPagamento-vantagens\"><div\\nclass=\"container\"><div\\nclass=\"planosPagamento-vantagens-vantagem acesso\">\\n<svg><use\\nxlink:href=\"/svg,1566826582/planosPagamento#icon-planosPagamento-acesso\"/></svg>\\n<span>Acesso por 1 ano<span></div><div\\nclass=\"planosPagamento-vantagens-vantagem horas\">\\n<svg><use\\nxlink:href=\"/svg,1566826582/planosPagamento#icon-planosPagamento-24h\"/></svg>\\n<span>Estude 24h/dia onde e quando quiser</span></div><div\\nclass=\"planosPagamento-vantagens-vantagem novos\">\\n<svg><use\\nxlink:href=\"/svg,1566826582/planosPagamento#icon-planosPagamento-cursos\"/></svg>\\n<span>Novos cursos toda semana</span></div></div></div></section> <script src=\"/assets/js/planosPagamentoOld.1566826582.js\"></script> </main></div>\\n <script>if (navigator.userAgent.indexOf(\\'Safari\\') > 1 && navigator.userAgent.indexOf(\\'Edge\\') < 0)\\n\\t\\t\\tdocument.documentElement.className += \\' home-fundo-animado\\'</script> <script src=\"/assets/js/home/categoriaCard.1566826582.js\"></script> <footer\\nclass=\"footer\"><div\\nclass=\"container\"><div\\nclass=\"footer-navegue\"><ul\\nclass=\"footer-navegue-lista\"><li\\nclass=\"footer-navegue-lista-link\"><a\\nhref=\"/planos-cursos-online\" gtm-data=\\'footer_primeira_secao_053\\'>Planos</a></li><li\\nclass=\"footer-navegue-lista-link\"><a\\nhref=\"/cursos-online-tecnologia\" gtm-data=\\'footer_primeira_secao_054\\'>Todos os cursos</a></li><li\\nclass=\"footer-navegue-lista-link\"><a\\nhref=\"/guias\">Guias de empresas</a></li><li\\nclass=\"footer-navegue-lista-link\"><a\\nhref=\"/instrutores\" gtm-data=\\'footer_primeira_secao_056\\'>Instrutores</a></li><li\\nclass=\"footer-navegue-lista-link\"><a\\nhref=\"/quero-ser-instrutor\" gtm-data=\\'footer_primeira_secao_057\\'>Como virar instrutor</a></li><li\\nclass=\"footer-navegue-lista-link\"><a\\nhref=\"/artigos\" gtm-data=\\'footer_primeira_secao_059\\'>Artigos</a></li><li\\nclass=\"footer-navegue-lista-link\"><a\\nhref=\"/politica-de-privacidade\" gtm-data=\\'footer_primeira_secao_061\\'>Pol\\xc3\\xadtica de Privacidade</a></li><li\\nclass=\"footer-navegue-lista-link\"><a\\nhref=\"/termos-de-uso\" gtm-data=\\'footer_primeira_secao_062\\'>Termos de Uso</a></li><li\\nclass=\"footer-navegue-lista-link\"><a\\nhref=\"/sobre\" gtm-data=\\'footer_primeira_secao_063\\'>Sobre n\\xc3\\xb3s</a></li><li\\nclass=\"footer-navegue-lista-link\"><a\\nhref=\"https://suporte.alura.com.br/\" gtm-data=\\'footer_primeira_secao_064\\'>Perguntas frequentes</a></li></ul></div><div\\nclass=\"footer-column footer-column-cards\"><div\\nclass=\"footer-newsletter\"><h2 class=\"footer-newsletter-titulo\">Receba Novidades e Lan\\xc3\\xa7amentos</h2><form\\nclass=\"footer-newsletter-form\" action=\"https://cursos.alura.com.br/api/cadastra-newsletter\" method=\"POST\">\\n<input\\ntype=\"hidden\" name=\"retorno\" value=\"https://www.alura.com.br/newsletter-cadastrado\"><label\\nfor=\"email-newsletter\">Email</label>\\n<input\\ntype=\"email\" name=\"email\" class=\"footer-newsletter-input\" placeholder=\"seu email\" id=\"email-newsletter\"><button\\ntype=\"submit\" class=\"footer-newsletter-button buttonForm\">OK</button></form></div><div\\nclass=\"footer-card-hotLinks\"><h2 class=\"footer-card-hotLinks-titulo\">Nossas redes e apps</h2><div\\nclass=\"footer-card-hotLinks-info footer-card-redes\">\\n<a\\nhref=\"https://www.youtube.com/alura\" gtm-data=\\'footer_primeira_secao_065\\' class=\"footer-card-hotLinks-link\" target=\"_blank\" title=\"YouTube da Alura\">\\n<svg\\nclass=\"footer-card-hotLinks-icon footer-card-hotLinks-youtube\"><use\\nxlink:href=\"/svg,1566826582/footer#icon-footer-youtube\"/></svg>\\n<span>YouTube</span>\\n</a>\\n<a\\nhref=\"https://www.facebook.com/AluraCursosOnline/\" gtm-data=\\'footer_primeira_secao_066\\' class=\"footer-card-hotLinks-link\" target=\"_blank\" title=\"Facebook da Alura\">\\n<svg\\nclass=\"footer-card-hotLinks-icon footer-card-hotLinks-facebook\"><use\\nxlink:href=\"/svg,1566826582/footer#icon-footer-facebook\"/></svg>\\n<span>Facebook</span>\\n</a>\\n<a\\nhref=\"https://twitter.com/aluraonline\" gtm-data=\\'footer_primeira_secao_067\\' class=\"footer-card-hotLinks-link\" target=\"_blank\" title=\"Twitter da Alura\">\\n<svg\\nclass=\"footer-card-hotLinks-icon footer-card-hotLinks-twitter\"><use\\nxlink:href=\"/svg,1566826582/footer#icon-footer-twitter\"/></svg>\\n<span>Twitter</span>\\n</a>\\n<a\\nhref=\"https://hipsters.tech/\" class=\"footer-card-hotLinks-link\" gtm-data=\\'footer_primeira_secao_068\\' target=\"_blank\" title=\"Podcast Hipsters Ponto Tech\">\\n<svg\\nclass=\"footer-card-hotLinks-icon footer-card-hotLinks-hipsters\"><use\\nxlink:href=\"/svg,1566826582/footer#icon-footer-hipsters\"/></svg>\\n<span>Podcast Hipsters.tech</span>\\n</a>\\n<a\\nhref=\"https://instagram.com/aluraonline\" class=\"footer-card-hotLinks-link\" gtm-data=\\'footer_primeira_secao_073\\' target=\"_blank\" title=\"Instagram da Alura\">\\n<svg\\nclass=\"footer-card-hotLinks-icon footer-card-hotLinks-instagram\"><use\\nxlink:href=\"/svg,1566826582/footer#icon-footer-instagram\"/></svg>\\n<span>Instagram</span>\\n</a></div><div\\nclass=\"footer-card-hotLinks-info footer-card-mobile\">\\n<a\\nhref=\"https://play.google.com/store/apps/details?id=br.com.alura.mobi&hl=pt_BR\" gtm-data=\\'footer_primeira_secao_069\\' class=\"footer-card-hotLinks-link\" target=\"_blank\" title=\"Baixar na Google Play Store\">\\n<svg\\nclass=\"footer-card-hotLinks-icon footer-card-hotLinks-mobile\"><use\\nxlink:href=\"/svg,1566826582/footer#icon-footer-googleplay\"/></svg>\\n<span>Google Play Store</span>\\n</a>\\n<a\\nhref=\"https://itunes.apple.com/br/app/alura-cursos-online/id1225776635\" gtm-data=\\'footer_primeira_secao_070\\' class=\"footer-card-hotLinks-link\" target=\"_blank\" title=\"Baixar na AppStore\">\\n<svg\\nclass=\"footer-card-hotLinks-icon footer-card-hotLinks-mobile\"><use\\nxlink:href=\"/svg,1566826582/footer#icon-footer-appstore\"/></svg>\\n<span>AppStore</span>\\n</a></div></div></div><div\\nclass=\"footer-column\">\\n<a\\nclass=\"footer-card footer-card-contato\" gtm-data=\\'footer_primeira_secao_071\\' href=\"/contato\"><div\\nclass=\"footer-card-info\"><h2 class=\"footer-card-titulo\">Fale Conosco</h2><p\\nclass=\"footer-card-texto\">D\\xc3\\xbavida, cr\\xc3\\xadtica, sugest\\xc3\\xa3o ou elogio?</p><p\\nclass=\"footer-card-fakeLink\">Entre em contato!</p></div>\\n</a><a\\nclass=\"footer-card footer-card-empresa\" gtm-data=\\'footer_primeira_secao_072\\' href=\"/empresas\"><div\\nclass=\"footer-card-info\"><h2 class=\"footer-card-titulo\">Empresa? Governo?</h2><p\\nclass=\"footer-card-texto\">Planos corporativos para o seu time.</p><p\\nclass=\"footer-card-fakeLink\">Saiba mais</p></div>\\n</a></div><div\\nclass=\"footer-info\"><div\\nclass=\"footer-logos\">\\n<a\\nclass=\"footer-logos-home\" gtm-data=\\'footer_primeira_secao_050\\' href=\"/\">\\n<img\\nsrc=\"/assets/img/alura-logo.1566826581.svg\" alt=\"Alura\" class=\"footer-logo\">\\n</a>\\n<a\\nhref=\"https://www.caelum.com.br/\" gtm-data=\\'footer_primeira_secao_051\\' class=\"footer-link-caelum\"><h3 class=\"footer-powered-by\">Powered by</h3>\\n<img\\nsrc=\"/assets/img/footer/caelum-logo.1566826582.svg\" alt=\"Caelum\" class=\"footer-logo footer-caelumLogo\">\\n</a></div><div\\nclass=\"footer-cnpj\"><p>\\n<span\\nclass=\"footer-empresa-item\">AOVS Sistemas de Inform\\xc3\\xa1tica S.A</span>\\n<span\\nclass=\"footer-empresa-item\">CNPJ 05.555.382/0001-33</span></p></div></div></div></footer><section\\nclass=\"footer_categorias-formacoes\"><div\\nclass=\"container\"><div\\nclass=\"footer_categorias_wrapper\"><h2 class=\"footer_categorias_title\">Cursos</h2><div\\nclass=\"footer_categorias_categorias footer-navegue-lista-link\"><div\\nclass=\"footer_categorias_categoria\">\\n<a\\nhref=\"/cursos-online-mobile\">Cursos de Mobile</a><div\\nclass=\"footer_categorias_subcategorias\">\\n<a\\nhref=\"/cursos-online-mobile/ios\">\\niOS e Swift</a>\\n<a\\nhref=\"/cursos-online-mobile/android\">\\nAndroid e Kotlin</a>\\n<a\\nhref=\"/cursos-online-mobile/multiplataforma\">\\nIonic, React Native</a>\\n<a\\nhref=\"/cursos-online-mobile/jogos\">\\nJogos</a></div></div><div\\nclass=\"footer_categorias_categoria\">\\n<a\\nhref=\"/cursos-online-programacao\">Cursos de Programa\\xc3\\xa7\\xc3\\xa3o</a><div\\nclass=\"footer_categorias_subcategorias\">\\n<a\\nhref=\"/cursos-online-programacao/logica\">\\nL\\xc3\\xb3gica</a>\\n<a\\nhref=\"/cursos-online-programacao/python\">\\nPython</a>\\n<a\\nhref=\"/cursos-online-programacao/php\">\\nPHP</a>\\n<a\\nhref=\"/cursos-online-programacao/java\">\\nJava</a>\\n<a\\nhref=\"/cursos-online-programacao/dotnet\">\\n.NET</a>\\n<a\\nhref=\"/cursos-online-programacao/ruby\">\\nRuby & Rails</a>\\n<a\\nhref=\"/cursos-online-programacao/c\">\\nC</a>\\n<a\\nhref=\"/cursos-online-programacao/computacao\">\\nComputa\\xc3\\xa7\\xc3\\xa3o</a>\\n<a\\nhref=\"/cursos-online-programacao/jogos\">\\nJogos</a></div></div><div\\nclass=\"footer_categorias_categoria\">\\n<a\\nhref=\"/cursos-online-front-end\">Cursos de Front-end</a><div\\nclass=\"footer_categorias_subcategorias\">\\n<a\\nhref=\"/cursos-online-front-end/front-end\">\\nHTML, CSS</a>\\n<a\\nhref=\"/cursos-online-front-end/javascript\">\\nJavaScript</a>\\n<a\\nhref=\"/cursos-online-front-end/frameworks-mvc-em-javascript\">\\nAngular, React</a>\\n<a\\nhref=\"/cursos-online-front-end/jquery\">\\njQuery</a></div></div><div\\nclass=\"footer_categorias_categoria\">\\n<a\\nhref=\"/cursos-online-infraestrutura\">Cursos de Infraestrutura</a><div\\nclass=\"footer_categorias_subcategorias\">\\n<a\\nhref=\"/cursos-online-infraestrutura/linux-comandos-e-processos\">\\nLinux</a>\\n<a\\nhref=\"/cursos-online-infraestrutura/devops\">\\nDevOps e Git</a>\\n<a\\nhref=\"/cursos-online-infraestrutura/cloud-computing\">\\nCloud</a>\\n<a\\nhref=\"/cursos-online-infraestrutura/internet-das-coisas\">\\nIoT</a>\\n<a\\nhref=\"/cursos-online-infraestrutura/redes\">\\nRedes</a></div></div><div\\nclass=\"footer_categorias_categoria\">\\n<a\\nhref=\"/cursos-online-design-ux\">Cursos de Design & UX</a><div\\nclass=\"footer_categorias_subcategorias\">\\n<a\\nhref=\"/cursos-online-design-ux/webdesign\">\\nPhotoshop e Illustrator</a>\\n<a\\nhref=\"/cursos-online-design-ux/video\">\\nV\\xc3\\xaddeo e Motion</a>\\n<a\\nhref=\"/cursos-online-design-ux/3d\">\\n3D</a>\\n<a\\nhref=\"/cursos-online-design-ux/ux\">\\nUsabilidade e UX</a></div></div><div\\nclass=\"footer_categorias_categoria\">\\n<a\\nhref=\"/cursos-online-marketing-digital\">Cursos de Marketing Digital</a><div\\nclass=\"footer_categorias_subcategorias\">\\n<a\\nhref=\"/cursos-online-marketing-digital/ads\">\\nAds</a>\\n<a\\nhref=\"/cursos-online-marketing-digital/seo\">\\nSEO</a>\\n<a\\nhref=\"/cursos-online-marketing-digital/e-commerce\">\\nE-commerce</a>\\n<a\\nhref=\"/cursos-online-marketing-digital/social-media\">\\nSocial Media</a>\\n<a\\nhref=\"/cursos-online-marketing-digital/marketing-digital\">\\nMarketing</a>\\n<a\\nhref=\"/cursos-online-marketing-digital/youtube\">\\nYouTube</a></div></div><div\\nclass=\"footer_categorias_categoria\">\\n<a\\nhref=\"/cursos-online-data-science\">Cursos de Data Science</a><div\\nclass=\"footer_categorias_subcategorias\">\\n<a\\nhref=\"/cursos-online-data-science/sql\">\\nSQL</a>\\n<a\\nhref=\"/cursos-online-data-science/nosql\">\\nNoSQL</a>\\n<a\\nhref=\"/cursos-online-data-science/data-science\">\\nData Science</a>\\n<a\\nhref=\"/cursos-online-data-science/machine-learning\">\\nMachine Learning</a>\\n<a\\nhref=\"/cursos-online-data-science/business-intelligence\">\\nBI</a>\\n<a\\nhref=\"/cursos-online-data-science/estatistica\">\\nEstat\\xc3\\xadstica</a>\\n<a\\nhref=\"/cursos-online-data-science/excel\">\\nExcel</a></div></div><div\\nclass=\"footer_categorias_categoria\">\\n<a\\nhref=\"/cursos-online-inovacao-gestao\">Cursos de Inova\\xc3\\xa7\\xc3\\xa3o & Gest\\xc3\\xa3o</a><div\\nclass=\"footer_categorias_subcategorias\">\\n<a\\nhref=\"/cursos-online-inovacao-gestao/agilidade-e-scrum\">\\nAgilidade</a>\\n<a\\nhref=\"/cursos-online-inovacao-gestao/transformacao-agil\">\\nTransforma\\xc3\\xa7\\xc3\\xa3o \\xc3\\x81gil</a>\\n<a\\nhref=\"/cursos-online-inovacao-gestao/carreira-e-lideranca\">\\nLideran\\xc3\\xa7a</a>\\n<a\\nhref=\"/cursos-online-inovacao-gestao/startup-canvas-design-thinking\">\\nStartup</a></div></div></div></div></div></section><style>@media not all and (min-width: 1000px){\\n\\t\\t.grupoCaelum{\\n\\t\\t\\tdisplay: none;\\n\\t\\t}\\n\\t}\\n\\n\\t.grupoCaelum{\\n\\t\\tbackground: #fff;\\n\\t\\theight: 240px;\\n\\t\\tborder-top: 1px solid #EBEBEE;\\n\\t}\\n\\n\\t.grupoCaelum .container{\\n\\t\\tdisplay: flex;\\n\\t\\tjustify-content: space-between;\\n\\t\\talign-items: flex-start;\\n\\t\\tpadding-top: 0;\\n\\t\\tpadding-bottom: 0;\\n\\t\\theight: 100%;\\n\\t}\\n\\n\\t\\t.grupoCaelum-list{\\n\\t\\t\\tdisplay: flex;\\n\\t\\t\\tlist-style: none;\\n\\t\\t\\twidth: 60%;\\n\\t\\t\\tjustify-content: space-between;\\n\\t\\t\\talign-items: flex-start;\\n\\t\\t\\tmargin-top: 20px;\\n\\t\\t}\\n\\n\\t\\t.grupoCaelum-title{\\n\\t\\t\\twidth: 20%;\\n\\t\\t}\\n\\n\\t\\t.grupoCaelum-column {\\n\\t\\t\\tdisplay: inline-block;\\n\\t\\t\\tpadding-left: 19px;\\n\\t\\t\\twidth: 240px;\\n\\t\\t\\theight: 210px;\\n\\t\\t\\tmin-width: 160px;\\n\\t\\t}\\n\\t\\t\\t.grupoCaelum-column-title {\\n\\t\\t\\t\\tfont-size: 10px;\\n\\t\\t\\t\\tcolor: #d7e0e5;\\n\\t\\t\\t\\ttext-transform: uppercase;\\n\\t\\t\\t\\tfont-weight: 600;\\n\\t\\t\\t\\tmargin-bottom: 19px;\\n\\t\\t\\t}\\n\\n\\t\\t\\t.grupoCaelum-column-list {\\n\\t\\t\\t\\tlist-style: none;\\n\\t\\t\\t}\\n\\n\\t\\t\\t.column-item-title {\\n\\t\\t\\t\\tfont-size: 11px;\\n\\t\\t\\t\\ttext-align: center;\\n\\t\\t\\t\\tvertical-align: middle;\\n\\t\\t\\t\\tdisplay: inline-block;\\n\\t\\t\\t\\tmargin-left: 6.5px;\\n\\t\\t\\t}\\n\\n\\t\\t.grupoCaelum-column:not(:first-child) {\\n\\t\\t\\tborder-left: solid 1px #e3e9ed;\\n\\t\\t}\\n\\n\\t\\t.grupoCaelum-title {\\n\\t\\t\\tdisplay: inline-block;\\n\\t\\t\\ttext-decoration: none;\\n\\t\\t\\tcolor: #657176;\\n\\t\\t\\tletter-spacing: normal;\\n\\t\\t\\tfont-size: 18px;\\n\\t\\t\\tmargin-top: 54px;\\n\\t\\t}\\n\\n\\t.column-item-logo {\\n\\t\\twidth: 30px;\\n\\t\\theight: 30px;\\n\\t\\tvertical-align: middle;\\n\\t\\tdisplay: inline-block;\\n\\t}\\n\\n\\t.column-item {\\n\\t\\tmargin-bottom: 17px;\\n\\t}\\n\\n\\t.column-item a{\\n\\t\\ttext-decoration: none;\\n\\t\\tcolor: #657176;\\n\\t}</style><footer\\nclass=\"caelum-footer\"><div\\nclass=\"grupoCaelum\"><div\\nclass=\"container\"><p\\nclass=\"grupoCaelum-title\">Grupo Caelum</p><ul\\nclass=\"grupoCaelum-list\"><li\\nclass=\"grupoCaelum-column\"><p\\nclass=\"grupoCaelum-column-title\">Educa\\xc3\\xa7\\xc3\\xa3o</p><ul\\nclass=\"grupoCaelum-column-list\"><li\\nclass=\"column-item\">\\n<a\\ntarget=\"_blank\" href=\"https://www.caelum.com.br\">\\n<svg\\nclass=\"column-item-logo\"><use\\nxlink:href=\"/svg,1566826582/caelumFooter#icon-caelumFooter-caelum\"><span\\nclass=\"column-item-title\">Caelum</span></svg>\\n</a></li><li\\nclass=\"column-item\">\\n<a\\ntarget=\"_blank\" href=\"https://www.casadocodigo.com.br\">\\n<svg\\nclass=\"column-item-logo\"><use\\nxlink:href=\"/svg,1566826582/caelumFooter#icon-caelumFooter-cdc\"><span\\nclass=\"column-item-title\">Casa do C\\xc3\\xb3digo</span></svg>\\n</a></li></ul></li><li\\nclass=\"grupoCaelum-column\"><p\\nclass=\"grupoCaelum-column-title\">Educa\\xc3\\xa7\\xc3\\xa3o Online</p><ul\\nclass=\"grupoCaelum-column-list\"><li\\nclass=\"column-item\">\\n<a\\ntarget=\"_blank\" href=\"https://www.alura.com.br\">\\n<svg\\nclass=\"column-item-logo\"><use\\nxlink:href=\"/svg,1566826582/caelumFooter#icon-caelumFooter-alura\"><span\\nclass=\"column-item-title\">Alura</span></svg>\\n</a></li><li\\nclass=\"column-item\">\\n<a\\ntarget=\"_blank\" href=\"https://www.alurastart.com.br\">\\n<svg\\nclass=\"column-item-logo\"><use\\nxlink:href=\"/svg,1566826582/caelumFooter#icon-caelumFooter-alurastart\"><span\\nclass=\"column-item-title\">Alura Start</span></svg>\\n</a></li><li\\nclass=\"column-item\">\\n<a\\ntarget=\"_blank\" href=\"https://www.musicdot.com.br\">\\n<svg\\nclass=\"column-item-logo\"><use\\nxlink:href=\"/svg,1566826582/caelumFooter#icon-caelumFooter-musicdot\"><span\\nclass=\"column-item-title\">MusicDot</span></svg>\\n</a></li><li\\nclass=\"column-item\">\\n<a\\ntarget=\"_blank\" href=\"https://www.aluralingua.com.br\">\\n<svg\\nclass=\"column-item-logo\"><use\\nxlink:href=\"/svg,1566826582/caelumFooter#icon-caelumFooter-aluralingua\"><span\\nclass=\"column-item-title\">Alura L\\xc3\\xadngua</span></svg>\\n</a></li></ul></li><li\\nclass=\"grupoCaelum-column\"><p\\nclass=\"grupoCaelum-column-title\">Comunidade</p><ul\\nclass=\"grupoCaelum-column-list\"><li\\nclass=\"column-item\">\\n<a\\ntarget=\"_blank\" href=\"https://hipsters.tech\">\\n<svg\\nclass=\"column-item-logo\"><use\\nxlink:href=\"/svg,1566826582/caelumFooter#icon-caelumFooter-hipsterstech\"><span\\nclass=\"column-item-title\">Hipsters ponto Tech</span></svg>\\n</a></li><li\\nclass=\"column-item\">\\n<a\\ntarget=\"_blank\" href=\"https://hipsters.jobs\">\\n<svg\\nclass=\"column-item-logo\"><use\\nxlink:href=\"/svg,1566826582/caelumFooter#icon-caelumFooter-hipstersjobs\"><span\\nclass=\"column-item-title\">Hipsters ponto Jobs</span></svg>\\n</a></li><li\\nclass=\"column-item\">\\n<a\\ntarget=\"_blank\" href=\"https://www.guj.com.br\">\\n<svg\\nclass=\"column-item-logo\"><use\\nxlink:href=\"/svg,1566826582/caelumFooter#icon-caelumFooter-guj\"><span\\nclass=\"column-item-title\">GUJ</span></svg>\\n</a></li></ul></li></ul></div></div></footer> <script src=\"/assets/js/lib/svg4everybody.min.1566826582.js\" async></script> <script src=\"/assets/js/header/menu.1566826581.js\" async></script> <script src=\"/assets/js/header/busca.1566826582.js\" async></script> <script src=\"/assets/js/header/cursos.1566826581.js\" async></script> <script src=\"/assets/js/detect.1566826582.js\" async></script> <script src=\"/assets/js/video.1566826581.js\" async></script> <script>var userId = (document.cookie.match(\\'alura.userId=([^;]+)\\')||[null,null])[1];\\n  window.ga=window.ga||function(){(ga.q=ga.q||[]).push(arguments)};ga.l=+new Date;\\n\\n  \\tga(\\'create\\', \\'UA-42101548-1\\', \\'alura.com.br\\', \\'tracker0\\', {\\'siteSpeedSampleRate\\': 50});\\n\\n\\tif (userId) ga(\\'tracker0.set\\', \\'userId\\', userId);\\n\\n\\tga(\\'tracker0.require\\', \\'displayfeatures\\');\\n\\tga(\\'tracker0.send\\', \\'pageview\\');\\n  \\tga(\\'create\\', \\'UA-42101548-9\\', \\'alura.com.br\\', \\'tracker1\\', {\\'siteSpeedSampleRate\\': 50});\\n\\n\\tif (userId) ga(\\'tracker1.set\\', \\'userId\\', userId);\\n\\n\\tga(\\'tracker1.require\\', \\'displayfeatures\\');\\n\\tga(\\'tracker1.send\\', \\'pageview\\');</script> <script async src=\\'//www.google-analytics.com/analytics.js\\'></script> <script src=\"/assets/js/footer/footer.1566826581.js\" async></script> <script src=\"https://static.criteo.net/js/ld/ld.js\" async></script> <script>function criteoPush(event, data){\\n\\t\\tvar isAluno = document.cookie.match(\\'alura.userId=([^;]+)\\') != null;\\n\\t\\tif(isAluno) return;\\n\\n\\t\\twindow.criteo_q = window.criteo_q || [];\\n\\t\\t\\twindow.criteo_q.push(\\n\\t\\t\\t\\t{ event: \"setAccount\", account: 28037 },\\n\\t\\t\\t\\t{ event: \"setEmail\", email: \"\" },\\n\\t\\t\\t\\t{ event: \"setSiteType\", type: (/iPad/.test(navigator.userAgent) ? \"t\" : (/Mobile|iP(hone|od)|Android|BlackBerry|IEMobile/.test(navigator.userAgent) ? \"m\" : \"d\")) },\\n\\t\\t\\t\\t{ event: event, item: data}\\n\\t\\t\\t);\\t\\n\\t};\\n\\n\\t\\t\\tcriteoPush(\"viewHome\", \"\");\\n\\t\\t\\n\\t\\tvar criteoIdEl = document.querySelector(\\'[data-criteo-id]\\');\\n\\tif (criteoIdEl) {\\n        var products = JSON.parse(criteoIdEl.dataset.criteoId);\\n        var planos = document.querySelectorAll(\\'[data-payment-plan]\\');\\n\\n        planos.forEach(function (plano) {\\n            plano.addEventListener(\\'click\\', function (event) {\\n\\t\\t\\t\\tvar price = plano.dataset.paymentPlanPrice;\\n                var totalProducts = products.length;\\n\\t\\t\\t\\tvar productIds = \\'\\';\\n\\n                for(var i = 0; i < totalProducts; i++){\\n                    products[i][\\'price\\'] = price;\\n                    products[i][\\'quantity\\'] = 1;\\n\\t\\t\\t\\t\\tproductIds += \\',\\' + products[i][\\'id\\'];\\n                }\\n\\n\\t\\t\\t\\tproductIds = productIds.substr(1);\\n\\n\\t\\t\\t\\t// monta cookie pro Cart indicando quais cursos foram clicados\\n        \\t\\tdocument.cookie = \"criteo.productIds=\" + productIds + \"; path=/; domain=.alura.com.br\";\\n\\n\\t\\t\\t\\t// manda pro criteo\\n                criteoPush(\"viewBasket\", products);\\n            });\\n        });\\n\\n\\n\\t}</script> <script type=\"text/javascript\">_linkedin_partner_id = \"465017\";\\n\\t\\t\\twindow._linkedin_data_partner_ids = window._linkedin_data_partner_ids || [];\\n\\t\\t\\twindow._linkedin_data_partner_ids.push(_linkedin_partner_id);</script> <script type=\"text/javascript\">(function(){var s = document.getElementsByTagName(\"script\")[0];\\n\\t\\t\\tvar b = document.createElement(\"script\");\\n\\t\\t\\tb.type = \"text/javascript\";b.async = true;\\n\\t\\t\\tb.src = \"https://snap.licdn.com/li.lms-analytics/insight.min.js\";\\n\\t\\t\\ts.parentNode.insertBefore(b, s);})();</script> <noscript>\\n<img\\nheight=\"1\" width=\"1\" style=\"display:none;\" alt=\"\"\\nsrc=\"https://dc.ads.linkedin.com/collect/?pid=465017&fmt=gif\" />\\n</noscript> <script type=\"text/javascript\">!function(e,t,n){function a(){var e=t.getElementsByTagName(\"script\")[0],n=t.createElement(\"script\");n.type=\"text/javascript\",n.async=!0,n.src=\"https://beacon-v2.helpscout.net\",e.parentNode.insertBefore(n,e)}if(e.Beacon=n=function(t,n,a){e.Beacon.readyQueue.push({method:t,options:n,data:a})},n.readyQueue=[],\"complete\"===t.readyState)return a();e.attachEvent?e.attachEvent(\"onload\",a):e.addEventListener(\"load\",a,!1)}(window,document,window.Beacon||function(){});</script> <script type=\"text/javascript\">window.Beacon(\\'init\\', \\'d9889630-71d0-4274-9c81-be34a5bed21d\\')</script> </body></html>'\n"
     ]
    }
   ],
   "source": [
    "from urllib.request import Request, urlopen\n",
    "from urllib.error import URLError, HTTPError\n",
    "\n",
    "url = 'https://www.alura.com.br'\n",
    "headers = {'User-Agent': 'Mozilla/5.0 (Windows NT 10.0; Win64; x64) AppleWebKit/537.36 (KHTML, like Gecko) Chrome/76.0.3809.100 Safari/537.36'}\n",
    "\n",
    "try:\n",
    "    req = Request(url, headers = headers)\n",
    "    response = urlopen(req)\n",
    "    print(response.read())\n",
    "    \n",
    "except HTTPError as e:\n",
    "    print(e.status, e.reason)\n",
    "    \n",
    "except URLError as e:\n",
    "    print(e.reason)\n",
    "    "
   ]
  },
  {
   "cell_type": "markdown",
   "metadata": {},
   "source": [
    "# 2.3. Tratamento de string"
   ]
  },
  {
   "cell_type": "code",
   "execution_count": 5,
   "metadata": {},
   "outputs": [
    {
     "data": {
      "text/plain": [
       "b'<!DOCTYPE html>\\r\\n<html lang=\"pt-br\">\\r\\n<head>\\r\\n    <meta charset=\"utf-8\">\\r\\n    <meta name=\"viewport\" content=\"width=device-width, initial-scale=1, shrink-to-fit=no\">\\r\\n\\r\\n    <title>Alura Motors</title>\\r\\n\\r\\n\\t<style>\\r\\n\\t\\t/*Regra para a animacao*/\\r\\n\\t\\t@keyframes spin {\\r\\n\\t\\t\\t0% { transform: rotate(0deg); }\\r\\n\\t\\t\\t100% { transform: rotate(360deg); }\\r\\n\\t\\t}\\r\\n\\t\\t/*Mudando o tamanho do icone de resposta*/\\r\\n\\t\\tdiv.glyphicon {\\r\\n\\t\\t\\tcolor:#6B8E23;\\r\\n\\t\\t\\tfont-size: 38px;\\r\\n\\t\\t}\\r\\n\\t\\t/*Classe que mostra a animacao \\'spin\\'*/\\r\\n\\t\\t.loader {\\r\\n\\t\\t\\tborder: 16px solid #f3f3f3;\\r\\n\\t\\t\\tborder-radius: 50%;\\r\\n\\t\\t\\tborder-top: 16px solid #3498db;\\r\\n\\t\\t\\twidth: 80px;\\r\\n\\t\\t\\theight: 80px;\\r\\n\\t\\t\\t-webkit-animation: spin 2s linear infinite;\\r\\n\\t\\t\\tanimation: spin 2s linear infinite;\\r\\n\\t\\t}\\r\\n\\t</style>\\r\\n\\t<link rel=\"stylesheet\" href=\"https://maxcdn.bootstrapcdn.com/bootstrap/3.3.7/css/bootstrap.min.css\" integrity=\"sha384-BVYiiSIFeK1dGmJRAkycuHAHRg32OmUcww7on3RYdg4Va+PmSTsz/K68vbdEjh4u\" crossorigin=\"anonymous\">\\r\\n\\t<link rel=\"stylesheet\" href=\"css/styles.css\" media=\"all\">\\r\\n\\r\\n\\t<script src=\"https://code.jquery.com/jquery-1.12.4.js\"></script>\\r\\n\\t<script src=\"https://maxcdn.bootstrapcdn.com/bootstrap/3.3.7/js/bootstrap.min.js\" integrity=\"sha384-Tc5IQib027qvyjSMfHjOMaLkfuWVxZxUPnCJA7l2mCWNIpG9mGCD8wGNIcPD7Txa\" crossorigin=\"anonymous\"></script>\\r\\n\\t<script type=\"text/javascript\" src=\"js/index.js\"></script>\\r\\n\\t<script>\\r\\n\\t\\trequisitar(\"https://alura-scraping.herokuapp.com/produtos?_page=\"+1+\"&_limit=10\")\\r\\n\\t</script>\\r\\n\\r\\n</head>\\r\\n<body cz-shortcut-listen=\"true\">\\r\\n    <noscript>You need to enable JavaScript to run this app.</noscript>\\r\\n\\r\\n\\t<div class=\"modal fade\" data-backdrop=\"static\" id=\"loadingModal\" tabindex=\"-1\" role=\"dialog\" aria-labelledby=\"loadingModal_label\">\\r\\n\\t\\t<div class=\"modal-dialog\" role=\"document\">\\r\\n\\t\\t\\t<div class=\"modal-content\">\\r\\n\\t\\t\\t\\t<div class=\"modal-header\">\\r\\n\\t\\t\\t\\t\\t<h5 class=\"modal-title\" id=\"loadingModal_label\">\\r\\n\\t\\t\\t\\t\\t\\t<span class=\"glyphicon glyphicon-refresh\"></span>Aguarde...\\r\\n\\t\\t\\t\\t\\t</h5>\\r\\n\\t\\t\\t\\t</div>\\r\\n\\t\\t\\t\\t<div class=\"modal-body\">\\r\\n\\t\\t\\t\\t\\t<div class=\\'alert\\' role=\\'alert\\'>\\r\\n\\t\\t\\t\\t\\t\\t<center>\\r\\n\\t\\t\\t\\t\\t\\t\\t<div class=\"loader\" id=\"loader\"></div><br>\\r\\n\\t\\t\\t\\t\\t\\t\\t<h4><b id=\"loadingModal_content\"></b></h4>\\r\\n\\t\\t\\t\\t\\t\\t</center>\\r\\n\\t\\t\\t\\t\\t</div>\\r\\n\\t\\t\\t\\t</div>\\r\\n\\t\\t\\t</div>\\r\\n\\t\\t</div>\\r\\n\\t</div>\\r\\n\\r\\n    <div id=\"root\">\\r\\n\\t\\t<header>\\r\\n\\t\\t\\t<nav class=\"navbar navbar-inverse\" style=\"margin-bottom: 0;\">\\r\\n\\t\\t\\t\\t<div class=\"container\" style=\"margin-bottom: -20px;\">\\r\\n\\t\\t\\t\\t\\t<div class=\"navbar\">\\r\\n\\t\\t\\t\\t\\t\\t<a href=\"./index.php\" class=\"navbar-brand\" title=\"Alura Motors\">\\r\\n\\t\\t\\t\\t\\t\\t\\t<img src=\"img/alura-logo.svg\" class=\"d-inline-block align-top\" alt=\"Alura\">Motors\\r\\n\\t\\t\\t\\t\\t\\t</a>\\r\\n\\t\\t\\t\\t\\t\\t<ul class=\"nav navbar-nav\" style=\"margin-top: 35px;\">\\r\\n\\t\\t\\t\\t\\t\\t\\t<li><a href=\"./hello-world.php\">Hello World</a></li>\\r\\n\\t\\t\\t\\t\\t\\t\\t<li><a href=\"./index.php\">An\\xc3\\xbancios</a></li>\\r\\n\\t\\t\\t\\t\\t\\t</ul>\\r\\n\\t\\t\\t\\t\\t</div>\\r\\n\\t\\t\\t\\t</div>\\r\\n\\t\\t\\t</nav>\\r\\n\\t\\t</header>\\r\\n\\r\\n\\t\\t<div class=\"container\">\\r\\n\\t\\t\\t<h1 class=\"sub-header\">Ve\\xc3\\xadculos de Luxo Novos e Usados - Todas as Marcas</h1>\\r\\n\\t\\t\\t<div class=\"row\">\\r\\n\\t\\t\\t\\t<div class=\"col-md-12\">\\r\\n\\t\\t\\t\\t\\t<div class=\"container\" style=\"width: 100%\">\\r\\n\\t\\t\\t\\t\\t\\t<div class=\"type-select\">246 ve\\xc3\\xadculos encontrados</div>\\r\\n\\t\\t\\t\\t\\t\\t\\t<div class=\"container-pagination\" style=\"float: right\">\\r\\n\\t\\t\\t\\t\\t\\t\\t\\t<span class=\"info-pages\">P\\xc3\\xa1gina 1 de 25</span>\\r\\n\\t\\t\\t\\t\\t\\t\\t</div>\\r\\n\\t\\t\\t\\t\\t\\t</div>\\r\\n\\t\\t\\t\\t\\t\\t<div id=\"container-cards\" style=\"height: 100%\">\\r\\n\\t\\t\\t\\t\\t\\t\\t\\r\\n                <div class=\"well card\">\\r\\n                    <div class=\"col-md-3 image-card\">\\r\\n                        <img width=\"220\" height=\"155\" alt=\"Foto\" src=\"https://caelum-online-public.s3.amazonaws.com/1381-scraping/01/img-cars/lamborghini-aventador/lamborghini-aventador-2932196__340.jpg\">\\r\\n                    </div>\\r\\n                    <div class=\"col-md-6 body-card\">\\r\\n                        <p class=\"txt-name inline\">LAMBORGHINI AVENTADOR</p>\\r\\n                            <p class=\"txt-category badge badge-secondary inline\">USADO</p>\\r\\n                            \\r\\n                        <p class=\"txt-motor\">Motor 1.8 16v</p>\\r\\n                        <p class=\"txt-description\">Ano 1993 - 55.286 km</p>\\r\\n                        <ul class=\"lst-items\">\\r\\n                            <li class=\"txt-items\">\\xe2\\x96\\xba 4 X 4</li>\\r\\n                            <li class=\"txt-items\">\\xe2\\x96\\xba C\\xc3\\xa2mera de estacionamento</li>\\r\\n                            <li class=\"txt-items\">\\xe2\\x96\\xba Controle de tra\\xc3\\xa7\\xc3\\xa3o</li>\\r\\n                            <li class=\"txt-items\">\\xe2\\x96\\xba Sensor de estacionamento</li>\\r\\n                            <li class=\"txt-items\">...</li>\\r\\n                        </ul>\\r\\n                        <p class=\"txt-location\">Belo Horizonte - MG</p>\\r\\n                    </div>\\r\\n                    <div class=\"col-md-3 value-card\">\\r\\n                        <div class=\"value\">\\r\\n                            <p class=\"txt-value\">R$ 338.000</p>\\r\\n                        </div>\\r\\n                    </div>\\r\\n                </div>\\r\\n                <div class=\"well card\">\\r\\n                    <div class=\"col-md-3 image-card\">\\r\\n                        <img width=\"220\" height=\"155\" alt=\"Foto\" src=\"https://caelum-online-public.s3.amazonaws.com/1381-scraping/01/img-cars/bmw-m2/bmw-m2-2970882__340.jpg\">\\r\\n                    </div>\\r\\n                    <div class=\"col-md-6 body-card\">\\r\\n                        <p class=\"txt-name inline\">BMW M2</p>\\r\\n                            <p class=\"txt-category badge badge-secondary inline\">USADO</p>\\r\\n                            \\r\\n                        <p class=\"txt-motor\">Motor 3.0 32v</p>\\r\\n                        <p class=\"txt-description\">Ano 2018 - 83.447 km</p>\\r\\n                        <ul class=\"lst-items\">\\r\\n                            <li class=\"txt-items\">\\xe2\\x96\\xba C\\xc3\\xa2mera de estacionamento</li>\\r\\n                            <li class=\"txt-items\">\\xe2\\x96\\xba Controle de estabilidade</li>\\r\\n                            <li class=\"txt-items\">\\xe2\\x96\\xba Travas el\\xc3\\xa9tricas</li>\\r\\n                            <li class=\"txt-items\">\\xe2\\x96\\xba Freios ABS</li>\\r\\n                            <li class=\"txt-items\">...</li>\\r\\n                        </ul>\\r\\n                        <p class=\"txt-location\">Belo Horizonte - MG</p>\\r\\n                    </div>\\r\\n                    <div class=\"col-md-3 value-card\">\\r\\n                        <div class=\"value\">\\r\\n                            <p class=\"txt-value\">R$ 346.000</p>\\r\\n                        </div>\\r\\n                    </div>\\r\\n                </div>\\r\\n                <div class=\"well card\">\\r\\n                    <div class=\"col-md-3 image-card\">\\r\\n                        <img width=\"220\" height=\"155\" alt=\"Foto\" src=\"https://caelum-online-public.s3.amazonaws.com/1381-scraping/01/img-cars/alfa/alfa-1823056__340.jpg\">\\r\\n                    </div>\\r\\n                    <div class=\"col-md-6 body-card\">\\r\\n                        <p class=\"txt-name inline\">ALFA</p>\\r\\n                            <p class=\"txt-category badge badge-secondary inline\">USADO</p>\\r\\n                            \\r\\n                        <p class=\"txt-motor\">Motor 1.8 16v</p>\\r\\n                        <p class=\"txt-description\">Ano 2004 - 19.722 km</p>\\r\\n                        <ul class=\"lst-items\">\\r\\n                            <li class=\"txt-items\">\\xe2\\x96\\xba Central multim\\xc3\\xaddia</li>\\r\\n                            <li class=\"txt-items\">\\xe2\\x96\\xba Bancos de couro</li>\\r\\n                            <li class=\"txt-items\">\\xe2\\x96\\xba Rodas de liga</li>\\r\\n                            <li class=\"txt-items\">\\xe2\\x96\\xba C\\xc3\\xa2mera de estacionamento</li>\\r\\n                            <li class=\"txt-items\">...</li>\\r\\n                        </ul>\\r\\n                        <p class=\"txt-location\">Rio de Janeiro - RJ</p>\\r\\n                    </div>\\r\\n                    <div class=\"col-md-3 value-card\">\\r\\n                        <div class=\"value\">\\r\\n                            <p class=\"txt-value\">R$ 480.000</p>\\r\\n                        </div>\\r\\n                    </div>\\r\\n                </div>\\r\\n                <div class=\"well card\">\\r\\n                    <div class=\"col-md-3 image-card\">\\r\\n                        <img width=\"220\" height=\"155\" alt=\"Foto\" src=\"https://caelum-online-public.s3.amazonaws.com/1381-scraping/01/img-cars/puech/puech-4055386__340.jpg\">\\r\\n                    </div>\\r\\n                    <div class=\"col-md-6 body-card\">\\r\\n                        <p class=\"txt-name inline\">PUECH</p>\\r\\n                            <p class=\"txt-category badge badge-secondary inline\">USADO</p>\\r\\n                            \\r\\n                        <p class=\"txt-motor\">Motor Diesel V8</p>\\r\\n                        <p class=\"txt-description\">Ano 1992 - 34.335 km</p>\\r\\n                        <ul class=\"lst-items\">\\r\\n                            <li class=\"txt-items\">\\xe2\\x96\\xba Bancos de couro</li>\\r\\n                            <li class=\"txt-items\">\\xe2\\x96\\xba Freios ABS</li>\\r\\n                            <li class=\"txt-items\">\\xe2\\x96\\xba Rodas de liga</li>\\r\\n                            <li class=\"txt-items\">\\xe2\\x96\\xba C\\xc3\\xa2mbio autom\\xc3\\xa1tico</li>\\r\\n                            <li class=\"txt-items\">...</li>\\r\\n                        </ul>\\r\\n                        <p class=\"txt-location\">S\\xc3\\xa3o Paulo - SP</p>\\r\\n                    </div>\\r\\n                    <div class=\"col-md-3 value-card\">\\r\\n                        <div class=\"value\">\\r\\n                            <p class=\"txt-value\">R$ 133.000</p>\\r\\n                        </div>\\r\\n                    </div>\\r\\n                </div>\\r\\n                <div class=\"well card\">\\r\\n                    <div class=\"col-md-3 image-card\">\\r\\n                        <img width=\"220\" height=\"155\" alt=\"Foto\" src=\"https://caelum-online-public.s3.amazonaws.com/1381-scraping/01/img-cars/lamborghini-murcielago/lamborghini-murcielago-2872974__340.jpg\">\\r\\n                    </div>\\r\\n                    <div class=\"col-md-6 body-card\">\\r\\n                        <p class=\"txt-name inline\">LAMBORGHINI MURCIELAGO</p>\\r\\n                            <p class=\"txt-category badge badge-secondary inline\">USADO</p>\\r\\n                            \\r\\n                        <p class=\"txt-motor\">Motor 1.0 8v</p>\\r\\n                        <p class=\"txt-description\">Ano 1991 - 464 km</p>\\r\\n                        <ul class=\"lst-items\">\\r\\n                            <li class=\"txt-items\">\\xe2\\x96\\xba Central multim\\xc3\\xaddia</li>\\r\\n                            <li class=\"txt-items\">\\xe2\\x96\\xba Teto panor\\xc3\\xa2mico</li>\\r\\n                            <li class=\"txt-items\">\\xe2\\x96\\xba Sensor crepuscular</li>\\r\\n                            <li class=\"txt-items\">\\xe2\\x96\\xba Piloto autom\\xc3\\xa1tico</li>\\r\\n                            <li class=\"txt-items\">...</li>\\r\\n                        </ul>\\r\\n                        <p class=\"txt-location\">Belo Horizonte - MG</p>\\r\\n                    </div>\\r\\n                    <div class=\"col-md-3 value-card\">\\r\\n                        <div class=\"value\">\\r\\n                            <p class=\"txt-value\">R$ 175.000</p>\\r\\n                        </div>\\r\\n                    </div>\\r\\n                </div>\\r\\n                <div class=\"well card\">\\r\\n                    <div class=\"col-md-3 image-card\">\\r\\n                        <img width=\"220\" height=\"155\" alt=\"Foto\" src=\"https://caelum-online-public.s3.amazonaws.com/1381-scraping/01/img-cars/aston-martin/aston-martin-2977916__340.jpg\">\\r\\n                    </div>\\r\\n                    <div class=\"col-md-6 body-card\">\\r\\n                        <p class=\"txt-name inline\">ASTON MARTIN</p>\\r\\n                            <p class=\"txt-category badge badge-secondary inline\">USADO</p>\\r\\n                            <p class=\"txt-opportunity badge badge-danger inline\">OPORTUNIDADE</p>\\r\\n                        <p class=\"txt-motor\">Motor Diesel V6</p>\\r\\n                        <p class=\"txt-description\">Ano 2004 - 50.189 km</p>\\r\\n                        <ul class=\"lst-items\">\\r\\n                            <li class=\"txt-items\">\\xe2\\x96\\xba Painel digital</li>\\r\\n                            <li class=\"txt-items\">\\xe2\\x96\\xba Controle de tra\\xc3\\xa7\\xc3\\xa3o</li>\\r\\n                            <li class=\"txt-items\">\\xe2\\x96\\xba Teto panor\\xc3\\xa2mico</li>\\r\\n                            <li class=\"txt-items\">\\xe2\\x96\\xba Central multim\\xc3\\xaddia</li>\\r\\n                            <li class=\"txt-items\">...</li>\\r\\n                        </ul>\\r\\n                        <p class=\"txt-location\">Belo Horizonte - MG</p>\\r\\n                    </div>\\r\\n                    <div class=\"col-md-3 value-card\">\\r\\n                        <div class=\"value\">\\r\\n                            <p class=\"txt-value\">R$ 239.000</p>\\r\\n                        </div>\\r\\n                    </div>\\r\\n                </div>\\r\\n                <div class=\"well card\">\\r\\n                    <div class=\"col-md-3 image-card\">\\r\\n                        <img width=\"220\" height=\"155\" alt=\"Foto\" src=\"https://caelum-online-public.s3.amazonaws.com/1381-scraping/01/img-cars/tvr/tvr-2943925__340.jpg\">\\r\\n                    </div>\\r\\n                    <div class=\"col-md-6 body-card\">\\r\\n                        <p class=\"txt-name inline\">TVR</p>\\r\\n                            <p class=\"txt-category badge badge-secondary inline\">USADO</p>\\r\\n                            \\r\\n                        <p class=\"txt-motor\">Motor 4.0 Turbo</p>\\r\\n                        <p class=\"txt-description\">Ano 2014 - 17.778 km</p>\\r\\n                        <ul class=\"lst-items\">\\r\\n                            <li class=\"txt-items\">\\xe2\\x96\\xba 4 X 4</li>\\r\\n                            <li class=\"txt-items\">\\xe2\\x96\\xba Teto panor\\xc3\\xa2mico</li>\\r\\n                            <li class=\"txt-items\">\\xe2\\x96\\xba Central multim\\xc3\\xaddia</li>\\r\\n                            <li class=\"txt-items\">\\xe2\\x96\\xba Controle de estabilidade</li>\\r\\n                            <li class=\"txt-items\">...</li>\\r\\n                        </ul>\\r\\n                        <p class=\"txt-location\">Belo Horizonte - MG</p>\\r\\n                    </div>\\r\\n                    <div class=\"col-md-3 value-card\">\\r\\n                        <div class=\"value\">\\r\\n                            <p class=\"txt-value\">R$ 115.000</p>\\r\\n                        </div>\\r\\n                    </div>\\r\\n                </div>\\r\\n                <div class=\"well card\">\\r\\n                    <div class=\"col-md-3 image-card\">\\r\\n                        <img width=\"220\" height=\"155\" alt=\"Foto\" src=\"https://caelum-online-public.s3.amazonaws.com/1381-scraping/01/img-cars/excalibur/excalibur-2916730__340.jpg\">\\r\\n                    </div>\\r\\n                    <div class=\"col-md-6 body-card\">\\r\\n                        <p class=\"txt-name inline\">EXCALIBUR</p>\\r\\n                            <p class=\"txt-category badge badge-secondary inline\">USADO</p>\\r\\n                            \\r\\n                        <p class=\"txt-motor\">Motor 3.0 32v</p>\\r\\n                        <p class=\"txt-description\">Ano 2009 - 81.251 km</p>\\r\\n                        <ul class=\"lst-items\">\\r\\n                            <li class=\"txt-items\">\\xe2\\x96\\xba Painel digital</li>\\r\\n                            <li class=\"txt-items\">\\xe2\\x96\\xba C\\xc3\\xa2mbio autom\\xc3\\xa1tico</li>\\r\\n                            <li class=\"txt-items\">\\xe2\\x96\\xba Sensor de chuva</li>\\r\\n                            <li class=\"txt-items\">\\xe2\\x96\\xba Travas el\\xc3\\xa9tricas</li>\\r\\n                            <li class=\"txt-items\">...</li>\\r\\n                        </ul>\\r\\n                        <p class=\"txt-location\">Rio de Janeiro - RJ</p>\\r\\n                    </div>\\r\\n                    <div class=\"col-md-3 value-card\">\\r\\n                        <div class=\"value\">\\r\\n                            <p class=\"txt-value\">R$ 114.000</p>\\r\\n                        </div>\\r\\n                    </div>\\r\\n                </div>\\r\\n                <div class=\"well card\">\\r\\n                    <div class=\"col-md-3 image-card\">\\r\\n                        <img width=\"220\" height=\"155\" alt=\"Foto\" src=\"https://caelum-online-public.s3.amazonaws.com/1381-scraping/01/img-cars/mclaren/mclaren-2855240__340.jpg\">\\r\\n                    </div>\\r\\n                    <div class=\"col-md-6 body-card\">\\r\\n                        <p class=\"txt-name inline\">MCLAREN</p>\\r\\n                            <p class=\"txt-category badge badge-secondary inline\">NOVO</p>\\r\\n                            \\r\\n                        <p class=\"txt-motor\">Motor Diesel</p>\\r\\n                        <p class=\"txt-description\">Ano 2019 - 0 km</p>\\r\\n                        <ul class=\"lst-items\">\\r\\n                            <li class=\"txt-items\">\\xe2\\x96\\xba Central multim\\xc3\\xaddia</li>\\r\\n                            <li class=\"txt-items\">\\xe2\\x96\\xba C\\xc3\\xa2mera de estacionamento</li>\\r\\n                            <li class=\"txt-items\">\\xe2\\x96\\xba C\\xc3\\xa2mbio autom\\xc3\\xa1tico</li>\\r\\n                            <li class=\"txt-items\">\\xe2\\x96\\xba Ar condicionado</li>\\r\\n                            <li class=\"txt-items\">...</li>\\r\\n                        </ul>\\r\\n                        <p class=\"txt-location\">S\\xc3\\xa3o Paulo - SP</p>\\r\\n                    </div>\\r\\n                    <div class=\"col-md-3 value-card\">\\r\\n                        <div class=\"value\">\\r\\n                            <p class=\"txt-value\">R$ 75.000</p>\\r\\n                        </div>\\r\\n                    </div>\\r\\n                </div>\\r\\n                <div class=\"well card\">\\r\\n                    <div class=\"col-md-3 image-card\">\\r\\n                        <img width=\"220\" height=\"155\" alt=\"Foto\" src=\"https://caelum-online-public.s3.amazonaws.com/1381-scraping/01/img-cars/toyota/toyota-3245397__340.jpg\">\\r\\n                    </div>\\r\\n                    <div class=\"col-md-6 body-card\">\\r\\n                        <p class=\"txt-name inline\">TOYOTA</p>\\r\\n                            <p class=\"txt-category badge badge-secondary inline\">USADO</p>\\r\\n                            <p class=\"txt-opportunity badge badge-danger inline\">OPORTUNIDADE</p>\\r\\n                        <p class=\"txt-motor\">Motor 4.0 Turbo</p>\\r\\n                        <p class=\"txt-description\">Ano 1999 - 12.536 km</p>\\r\\n                        <ul class=\"lst-items\">\\r\\n                            <li class=\"txt-items\">\\xe2\\x96\\xba Bancos de couro</li>\\r\\n                            <li class=\"txt-items\">\\xe2\\x96\\xba Freios ABS</li>\\r\\n                            <li class=\"txt-items\">\\xe2\\x96\\xba Piloto autom\\xc3\\xa1tico</li>\\r\\n                            <li class=\"txt-items\">\\xe2\\x96\\xba Controle de estabilidade</li>\\r\\n                            <li class=\"txt-items\">...</li>\\r\\n                        </ul>\\r\\n                        <p class=\"txt-location\">S\\xc3\\xa3o Paulo - SP</p>\\r\\n                    </div>\\r\\n                    <div class=\"col-md-3 value-card\">\\r\\n                        <div class=\"value\">\\r\\n                            <p class=\"txt-value\">R$ 117.000</p>\\r\\n                        </div>\\r\\n                    </div>\\r\\n                </div>\\t\\t\\t\\t\\t\\t</div>\\r\\n\\t\\t\\t\\t\\t\\t<div class=\"type-select\">246 ve\\xc3\\xadculos encontrados</div>\\r\\n\\t\\t\\t\\t\\t\\t\\t<div class=\"container-pagination\" style=\"float: right\">\\r\\n\\t\\t\\t\\t\\t\\t\\t\\t<span class=\"info-pages\">P\\xc3\\xa1gina 1 de 25</span>\\r\\n\\t\\t\\t\\t\\t\\t\\t</div>\\r\\n\\t\\t\\t\\t\\t\\t</div>\\r\\n\\t\\t\\t\\t\\t</div>\\r\\n\\t\\t\\t\\t</div>\\r\\n\\t\\t\\t</div>\\r\\n\\t\\t</div>\\r\\n\\r\\n\\t\\t<footer>\\r\\n\\t\\t\\t<nav class=\"navbar navbar-inverse\">\\r\\n\\t\\t\\t\\t<div class=\"container\" style=\"margin-bottom: 10px;\">\\r\\n\\t\\t\\t\\t\\t<div class=\"navbar\">\\r\\n\\t\\t\\t\\t\\t\\t<a href=\"./index.php\" class=\"navbar-brand\" title=\"Alura Motors\">\\r\\n\\t\\t\\t\\t\\t\\t\\t<img src=\"img/alura-logo.svg\" class=\"d-inline-block align-top\" alt=\"Alura\">Motors\\r\\n\\t\\t\\t\\t\\t\\t</a>\\r\\n\\t\\t\\t\\t\\t\\t<p style=\"color: #fff; text-align: center; margin-top: 40px;\">Aplica\\xc3\\xa7\\xc3\\xa3o para treinamento de web scraping</p>\\r\\n\\t\\t\\t\\t\\t</div>\\r\\n\\t\\t\\t\\t</div>\\r\\n\\t\\t\\t</nav>\\r\\n\\t\\t</footer>\\r\\n\\r\\n\\t</div>\\r\\n\\r\\n</body>\\r\\n</html>\\r\\n'"
      ]
     },
     "execution_count": 5,
     "metadata": {},
     "output_type": "execute_result"
    }
   ],
   "source": [
    "from urllib.request import urlopen\n",
    "\n",
    "url = 'https://alura-site-scraping.herokuapp.com/index.php'\n",
    "\n",
    "response = urlopen(url)\n",
    "html = response.read()\n",
    "html"
   ]
  },
  {
   "cell_type": "markdown",
   "metadata": {},
   "source": [
    "### Convertando o tipo bytes para string"
   ]
  },
  {
   "cell_type": "code",
   "execution_count": 6,
   "metadata": {},
   "outputs": [
    {
     "data": {
      "text/plain": [
       "bytes"
      ]
     },
     "execution_count": 6,
     "metadata": {},
     "output_type": "execute_result"
    }
   ],
   "source": [
    "type(html)"
   ]
  },
  {
   "cell_type": "code",
   "execution_count": 7,
   "metadata": {},
   "outputs": [],
   "source": [
    "html = html.decode('utf-8')"
   ]
  },
  {
   "cell_type": "code",
   "execution_count": 8,
   "metadata": {},
   "outputs": [
    {
     "data": {
      "text/plain": [
       "str"
      ]
     },
     "execution_count": 8,
     "metadata": {},
     "output_type": "execute_result"
    }
   ],
   "source": [
    "type(html)"
   ]
  },
  {
   "cell_type": "code",
   "execution_count": 9,
   "metadata": {},
   "outputs": [
    {
     "data": {
      "text/plain": [
       "'<!DOCTYPE html>\\r\\n<html lang=\"pt-br\">\\r\\n<head>\\r\\n    <meta charset=\"utf-8\">\\r\\n    <meta name=\"viewport\" content=\"width=device-width, initial-scale=1, shrink-to-fit=no\">\\r\\n\\r\\n    <title>Alura Motors</title>\\r\\n\\r\\n\\t<style>\\r\\n\\t\\t/*Regra para a animacao*/\\r\\n\\t\\t@keyframes spin {\\r\\n\\t\\t\\t0% { transform: rotate(0deg); }\\r\\n\\t\\t\\t100% { transform: rotate(360deg); }\\r\\n\\t\\t}\\r\\n\\t\\t/*Mudando o tamanho do icone de resposta*/\\r\\n\\t\\tdiv.glyphicon {\\r\\n\\t\\t\\tcolor:#6B8E23;\\r\\n\\t\\t\\tfont-size: 38px;\\r\\n\\t\\t}\\r\\n\\t\\t/*Classe que mostra a animacao \\'spin\\'*/\\r\\n\\t\\t.loader {\\r\\n\\t\\t\\tborder: 16px solid #f3f3f3;\\r\\n\\t\\t\\tborder-radius: 50%;\\r\\n\\t\\t\\tborder-top: 16px solid #3498db;\\r\\n\\t\\t\\twidth: 80px;\\r\\n\\t\\t\\theight: 80px;\\r\\n\\t\\t\\t-webkit-animation: spin 2s linear infinite;\\r\\n\\t\\t\\tanimation: spin 2s linear infinite;\\r\\n\\t\\t}\\r\\n\\t</style>\\r\\n\\t<link rel=\"stylesheet\" href=\"https://maxcdn.bootstrapcdn.com/bootstrap/3.3.7/css/bootstrap.min.css\" integrity=\"sha384-BVYiiSIFeK1dGmJRAkycuHAHRg32OmUcww7on3RYdg4Va+PmSTsz/K68vbdEjh4u\" crossorigin=\"anonymous\">\\r\\n\\t<link rel=\"stylesheet\" href=\"css/styles.css\" media=\"all\">\\r\\n\\r\\n\\t<script src=\"https://code.jquery.com/jquery-1.12.4.js\"></script>\\r\\n\\t<script src=\"https://maxcdn.bootstrapcdn.com/bootstrap/3.3.7/js/bootstrap.min.js\" integrity=\"sha384-Tc5IQib027qvyjSMfHjOMaLkfuWVxZxUPnCJA7l2mCWNIpG9mGCD8wGNIcPD7Txa\" crossorigin=\"anonymous\"></script>\\r\\n\\t<script type=\"text/javascript\" src=\"js/index.js\"></script>\\r\\n\\t<script>\\r\\n\\t\\trequisitar(\"https://alura-scraping.herokuapp.com/produtos?_page=\"+1+\"&_limit=10\")\\r\\n\\t</script>\\r\\n\\r\\n</head>\\r\\n<body cz-shortcut-listen=\"true\">\\r\\n    <noscript>You need to enable JavaScript to run this app.</noscript>\\r\\n\\r\\n\\t<div class=\"modal fade\" data-backdrop=\"static\" id=\"loadingModal\" tabindex=\"-1\" role=\"dialog\" aria-labelledby=\"loadingModal_label\">\\r\\n\\t\\t<div class=\"modal-dialog\" role=\"document\">\\r\\n\\t\\t\\t<div class=\"modal-content\">\\r\\n\\t\\t\\t\\t<div class=\"modal-header\">\\r\\n\\t\\t\\t\\t\\t<h5 class=\"modal-title\" id=\"loadingModal_label\">\\r\\n\\t\\t\\t\\t\\t\\t<span class=\"glyphicon glyphicon-refresh\"></span>Aguarde...\\r\\n\\t\\t\\t\\t\\t</h5>\\r\\n\\t\\t\\t\\t</div>\\r\\n\\t\\t\\t\\t<div class=\"modal-body\">\\r\\n\\t\\t\\t\\t\\t<div class=\\'alert\\' role=\\'alert\\'>\\r\\n\\t\\t\\t\\t\\t\\t<center>\\r\\n\\t\\t\\t\\t\\t\\t\\t<div class=\"loader\" id=\"loader\"></div><br>\\r\\n\\t\\t\\t\\t\\t\\t\\t<h4><b id=\"loadingModal_content\"></b></h4>\\r\\n\\t\\t\\t\\t\\t\\t</center>\\r\\n\\t\\t\\t\\t\\t</div>\\r\\n\\t\\t\\t\\t</div>\\r\\n\\t\\t\\t</div>\\r\\n\\t\\t</div>\\r\\n\\t</div>\\r\\n\\r\\n    <div id=\"root\">\\r\\n\\t\\t<header>\\r\\n\\t\\t\\t<nav class=\"navbar navbar-inverse\" style=\"margin-bottom: 0;\">\\r\\n\\t\\t\\t\\t<div class=\"container\" style=\"margin-bottom: -20px;\">\\r\\n\\t\\t\\t\\t\\t<div class=\"navbar\">\\r\\n\\t\\t\\t\\t\\t\\t<a href=\"./index.php\" class=\"navbar-brand\" title=\"Alura Motors\">\\r\\n\\t\\t\\t\\t\\t\\t\\t<img src=\"img/alura-logo.svg\" class=\"d-inline-block align-top\" alt=\"Alura\">Motors\\r\\n\\t\\t\\t\\t\\t\\t</a>\\r\\n\\t\\t\\t\\t\\t\\t<ul class=\"nav navbar-nav\" style=\"margin-top: 35px;\">\\r\\n\\t\\t\\t\\t\\t\\t\\t<li><a href=\"./hello-world.php\">Hello World</a></li>\\r\\n\\t\\t\\t\\t\\t\\t\\t<li><a href=\"./index.php\">Anúncios</a></li>\\r\\n\\t\\t\\t\\t\\t\\t</ul>\\r\\n\\t\\t\\t\\t\\t</div>\\r\\n\\t\\t\\t\\t</div>\\r\\n\\t\\t\\t</nav>\\r\\n\\t\\t</header>\\r\\n\\r\\n\\t\\t<div class=\"container\">\\r\\n\\t\\t\\t<h1 class=\"sub-header\">Veículos de Luxo Novos e Usados - Todas as Marcas</h1>\\r\\n\\t\\t\\t<div class=\"row\">\\r\\n\\t\\t\\t\\t<div class=\"col-md-12\">\\r\\n\\t\\t\\t\\t\\t<div class=\"container\" style=\"width: 100%\">\\r\\n\\t\\t\\t\\t\\t\\t<div class=\"type-select\">246 veículos encontrados</div>\\r\\n\\t\\t\\t\\t\\t\\t\\t<div class=\"container-pagination\" style=\"float: right\">\\r\\n\\t\\t\\t\\t\\t\\t\\t\\t<span class=\"info-pages\">Página 1 de 25</span>\\r\\n\\t\\t\\t\\t\\t\\t\\t</div>\\r\\n\\t\\t\\t\\t\\t\\t</div>\\r\\n\\t\\t\\t\\t\\t\\t<div id=\"container-cards\" style=\"height: 100%\">\\r\\n\\t\\t\\t\\t\\t\\t\\t\\r\\n                <div class=\"well card\">\\r\\n                    <div class=\"col-md-3 image-card\">\\r\\n                        <img width=\"220\" height=\"155\" alt=\"Foto\" src=\"https://caelum-online-public.s3.amazonaws.com/1381-scraping/01/img-cars/lamborghini-aventador/lamborghini-aventador-2932196__340.jpg\">\\r\\n                    </div>\\r\\n                    <div class=\"col-md-6 body-card\">\\r\\n                        <p class=\"txt-name inline\">LAMBORGHINI AVENTADOR</p>\\r\\n                            <p class=\"txt-category badge badge-secondary inline\">USADO</p>\\r\\n                            \\r\\n                        <p class=\"txt-motor\">Motor 1.8 16v</p>\\r\\n                        <p class=\"txt-description\">Ano 1993 - 55.286 km</p>\\r\\n                        <ul class=\"lst-items\">\\r\\n                            <li class=\"txt-items\">► 4 X 4</li>\\r\\n                            <li class=\"txt-items\">► Câmera de estacionamento</li>\\r\\n                            <li class=\"txt-items\">► Controle de tração</li>\\r\\n                            <li class=\"txt-items\">► Sensor de estacionamento</li>\\r\\n                            <li class=\"txt-items\">...</li>\\r\\n                        </ul>\\r\\n                        <p class=\"txt-location\">Belo Horizonte - MG</p>\\r\\n                    </div>\\r\\n                    <div class=\"col-md-3 value-card\">\\r\\n                        <div class=\"value\">\\r\\n                            <p class=\"txt-value\">R$ 338.000</p>\\r\\n                        </div>\\r\\n                    </div>\\r\\n                </div>\\r\\n                <div class=\"well card\">\\r\\n                    <div class=\"col-md-3 image-card\">\\r\\n                        <img width=\"220\" height=\"155\" alt=\"Foto\" src=\"https://caelum-online-public.s3.amazonaws.com/1381-scraping/01/img-cars/bmw-m2/bmw-m2-2970882__340.jpg\">\\r\\n                    </div>\\r\\n                    <div class=\"col-md-6 body-card\">\\r\\n                        <p class=\"txt-name inline\">BMW M2</p>\\r\\n                            <p class=\"txt-category badge badge-secondary inline\">USADO</p>\\r\\n                            \\r\\n                        <p class=\"txt-motor\">Motor 3.0 32v</p>\\r\\n                        <p class=\"txt-description\">Ano 2018 - 83.447 km</p>\\r\\n                        <ul class=\"lst-items\">\\r\\n                            <li class=\"txt-items\">► Câmera de estacionamento</li>\\r\\n                            <li class=\"txt-items\">► Controle de estabilidade</li>\\r\\n                            <li class=\"txt-items\">► Travas elétricas</li>\\r\\n                            <li class=\"txt-items\">► Freios ABS</li>\\r\\n                            <li class=\"txt-items\">...</li>\\r\\n                        </ul>\\r\\n                        <p class=\"txt-location\">Belo Horizonte - MG</p>\\r\\n                    </div>\\r\\n                    <div class=\"col-md-3 value-card\">\\r\\n                        <div class=\"value\">\\r\\n                            <p class=\"txt-value\">R$ 346.000</p>\\r\\n                        </div>\\r\\n                    </div>\\r\\n                </div>\\r\\n                <div class=\"well card\">\\r\\n                    <div class=\"col-md-3 image-card\">\\r\\n                        <img width=\"220\" height=\"155\" alt=\"Foto\" src=\"https://caelum-online-public.s3.amazonaws.com/1381-scraping/01/img-cars/alfa/alfa-1823056__340.jpg\">\\r\\n                    </div>\\r\\n                    <div class=\"col-md-6 body-card\">\\r\\n                        <p class=\"txt-name inline\">ALFA</p>\\r\\n                            <p class=\"txt-category badge badge-secondary inline\">USADO</p>\\r\\n                            \\r\\n                        <p class=\"txt-motor\">Motor 1.8 16v</p>\\r\\n                        <p class=\"txt-description\">Ano 2004 - 19.722 km</p>\\r\\n                        <ul class=\"lst-items\">\\r\\n                            <li class=\"txt-items\">► Central multimídia</li>\\r\\n                            <li class=\"txt-items\">► Bancos de couro</li>\\r\\n                            <li class=\"txt-items\">► Rodas de liga</li>\\r\\n                            <li class=\"txt-items\">► Câmera de estacionamento</li>\\r\\n                            <li class=\"txt-items\">...</li>\\r\\n                        </ul>\\r\\n                        <p class=\"txt-location\">Rio de Janeiro - RJ</p>\\r\\n                    </div>\\r\\n                    <div class=\"col-md-3 value-card\">\\r\\n                        <div class=\"value\">\\r\\n                            <p class=\"txt-value\">R$ 480.000</p>\\r\\n                        </div>\\r\\n                    </div>\\r\\n                </div>\\r\\n                <div class=\"well card\">\\r\\n                    <div class=\"col-md-3 image-card\">\\r\\n                        <img width=\"220\" height=\"155\" alt=\"Foto\" src=\"https://caelum-online-public.s3.amazonaws.com/1381-scraping/01/img-cars/puech/puech-4055386__340.jpg\">\\r\\n                    </div>\\r\\n                    <div class=\"col-md-6 body-card\">\\r\\n                        <p class=\"txt-name inline\">PUECH</p>\\r\\n                            <p class=\"txt-category badge badge-secondary inline\">USADO</p>\\r\\n                            \\r\\n                        <p class=\"txt-motor\">Motor Diesel V8</p>\\r\\n                        <p class=\"txt-description\">Ano 1992 - 34.335 km</p>\\r\\n                        <ul class=\"lst-items\">\\r\\n                            <li class=\"txt-items\">► Bancos de couro</li>\\r\\n                            <li class=\"txt-items\">► Freios ABS</li>\\r\\n                            <li class=\"txt-items\">► Rodas de liga</li>\\r\\n                            <li class=\"txt-items\">► Câmbio automático</li>\\r\\n                            <li class=\"txt-items\">...</li>\\r\\n                        </ul>\\r\\n                        <p class=\"txt-location\">São Paulo - SP</p>\\r\\n                    </div>\\r\\n                    <div class=\"col-md-3 value-card\">\\r\\n                        <div class=\"value\">\\r\\n                            <p class=\"txt-value\">R$ 133.000</p>\\r\\n                        </div>\\r\\n                    </div>\\r\\n                </div>\\r\\n                <div class=\"well card\">\\r\\n                    <div class=\"col-md-3 image-card\">\\r\\n                        <img width=\"220\" height=\"155\" alt=\"Foto\" src=\"https://caelum-online-public.s3.amazonaws.com/1381-scraping/01/img-cars/lamborghini-murcielago/lamborghini-murcielago-2872974__340.jpg\">\\r\\n                    </div>\\r\\n                    <div class=\"col-md-6 body-card\">\\r\\n                        <p class=\"txt-name inline\">LAMBORGHINI MURCIELAGO</p>\\r\\n                            <p class=\"txt-category badge badge-secondary inline\">USADO</p>\\r\\n                            \\r\\n                        <p class=\"txt-motor\">Motor 1.0 8v</p>\\r\\n                        <p class=\"txt-description\">Ano 1991 - 464 km</p>\\r\\n                        <ul class=\"lst-items\">\\r\\n                            <li class=\"txt-items\">► Central multimídia</li>\\r\\n                            <li class=\"txt-items\">► Teto panorâmico</li>\\r\\n                            <li class=\"txt-items\">► Sensor crepuscular</li>\\r\\n                            <li class=\"txt-items\">► Piloto automático</li>\\r\\n                            <li class=\"txt-items\">...</li>\\r\\n                        </ul>\\r\\n                        <p class=\"txt-location\">Belo Horizonte - MG</p>\\r\\n                    </div>\\r\\n                    <div class=\"col-md-3 value-card\">\\r\\n                        <div class=\"value\">\\r\\n                            <p class=\"txt-value\">R$ 175.000</p>\\r\\n                        </div>\\r\\n                    </div>\\r\\n                </div>\\r\\n                <div class=\"well card\">\\r\\n                    <div class=\"col-md-3 image-card\">\\r\\n                        <img width=\"220\" height=\"155\" alt=\"Foto\" src=\"https://caelum-online-public.s3.amazonaws.com/1381-scraping/01/img-cars/aston-martin/aston-martin-2977916__340.jpg\">\\r\\n                    </div>\\r\\n                    <div class=\"col-md-6 body-card\">\\r\\n                        <p class=\"txt-name inline\">ASTON MARTIN</p>\\r\\n                            <p class=\"txt-category badge badge-secondary inline\">USADO</p>\\r\\n                            <p class=\"txt-opportunity badge badge-danger inline\">OPORTUNIDADE</p>\\r\\n                        <p class=\"txt-motor\">Motor Diesel V6</p>\\r\\n                        <p class=\"txt-description\">Ano 2004 - 50.189 km</p>\\r\\n                        <ul class=\"lst-items\">\\r\\n                            <li class=\"txt-items\">► Painel digital</li>\\r\\n                            <li class=\"txt-items\">► Controle de tração</li>\\r\\n                            <li class=\"txt-items\">► Teto panorâmico</li>\\r\\n                            <li class=\"txt-items\">► Central multimídia</li>\\r\\n                            <li class=\"txt-items\">...</li>\\r\\n                        </ul>\\r\\n                        <p class=\"txt-location\">Belo Horizonte - MG</p>\\r\\n                    </div>\\r\\n                    <div class=\"col-md-3 value-card\">\\r\\n                        <div class=\"value\">\\r\\n                            <p class=\"txt-value\">R$ 239.000</p>\\r\\n                        </div>\\r\\n                    </div>\\r\\n                </div>\\r\\n                <div class=\"well card\">\\r\\n                    <div class=\"col-md-3 image-card\">\\r\\n                        <img width=\"220\" height=\"155\" alt=\"Foto\" src=\"https://caelum-online-public.s3.amazonaws.com/1381-scraping/01/img-cars/tvr/tvr-2943925__340.jpg\">\\r\\n                    </div>\\r\\n                    <div class=\"col-md-6 body-card\">\\r\\n                        <p class=\"txt-name inline\">TVR</p>\\r\\n                            <p class=\"txt-category badge badge-secondary inline\">USADO</p>\\r\\n                            \\r\\n                        <p class=\"txt-motor\">Motor 4.0 Turbo</p>\\r\\n                        <p class=\"txt-description\">Ano 2014 - 17.778 km</p>\\r\\n                        <ul class=\"lst-items\">\\r\\n                            <li class=\"txt-items\">► 4 X 4</li>\\r\\n                            <li class=\"txt-items\">► Teto panorâmico</li>\\r\\n                            <li class=\"txt-items\">► Central multimídia</li>\\r\\n                            <li class=\"txt-items\">► Controle de estabilidade</li>\\r\\n                            <li class=\"txt-items\">...</li>\\r\\n                        </ul>\\r\\n                        <p class=\"txt-location\">Belo Horizonte - MG</p>\\r\\n                    </div>\\r\\n                    <div class=\"col-md-3 value-card\">\\r\\n                        <div class=\"value\">\\r\\n                            <p class=\"txt-value\">R$ 115.000</p>\\r\\n                        </div>\\r\\n                    </div>\\r\\n                </div>\\r\\n                <div class=\"well card\">\\r\\n                    <div class=\"col-md-3 image-card\">\\r\\n                        <img width=\"220\" height=\"155\" alt=\"Foto\" src=\"https://caelum-online-public.s3.amazonaws.com/1381-scraping/01/img-cars/excalibur/excalibur-2916730__340.jpg\">\\r\\n                    </div>\\r\\n                    <div class=\"col-md-6 body-card\">\\r\\n                        <p class=\"txt-name inline\">EXCALIBUR</p>\\r\\n                            <p class=\"txt-category badge badge-secondary inline\">USADO</p>\\r\\n                            \\r\\n                        <p class=\"txt-motor\">Motor 3.0 32v</p>\\r\\n                        <p class=\"txt-description\">Ano 2009 - 81.251 km</p>\\r\\n                        <ul class=\"lst-items\">\\r\\n                            <li class=\"txt-items\">► Painel digital</li>\\r\\n                            <li class=\"txt-items\">► Câmbio automático</li>\\r\\n                            <li class=\"txt-items\">► Sensor de chuva</li>\\r\\n                            <li class=\"txt-items\">► Travas elétricas</li>\\r\\n                            <li class=\"txt-items\">...</li>\\r\\n                        </ul>\\r\\n                        <p class=\"txt-location\">Rio de Janeiro - RJ</p>\\r\\n                    </div>\\r\\n                    <div class=\"col-md-3 value-card\">\\r\\n                        <div class=\"value\">\\r\\n                            <p class=\"txt-value\">R$ 114.000</p>\\r\\n                        </div>\\r\\n                    </div>\\r\\n                </div>\\r\\n                <div class=\"well card\">\\r\\n                    <div class=\"col-md-3 image-card\">\\r\\n                        <img width=\"220\" height=\"155\" alt=\"Foto\" src=\"https://caelum-online-public.s3.amazonaws.com/1381-scraping/01/img-cars/mclaren/mclaren-2855240__340.jpg\">\\r\\n                    </div>\\r\\n                    <div class=\"col-md-6 body-card\">\\r\\n                        <p class=\"txt-name inline\">MCLAREN</p>\\r\\n                            <p class=\"txt-category badge badge-secondary inline\">NOVO</p>\\r\\n                            \\r\\n                        <p class=\"txt-motor\">Motor Diesel</p>\\r\\n                        <p class=\"txt-description\">Ano 2019 - 0 km</p>\\r\\n                        <ul class=\"lst-items\">\\r\\n                            <li class=\"txt-items\">► Central multimídia</li>\\r\\n                            <li class=\"txt-items\">► Câmera de estacionamento</li>\\r\\n                            <li class=\"txt-items\">► Câmbio automático</li>\\r\\n                            <li class=\"txt-items\">► Ar condicionado</li>\\r\\n                            <li class=\"txt-items\">...</li>\\r\\n                        </ul>\\r\\n                        <p class=\"txt-location\">São Paulo - SP</p>\\r\\n                    </div>\\r\\n                    <div class=\"col-md-3 value-card\">\\r\\n                        <div class=\"value\">\\r\\n                            <p class=\"txt-value\">R$ 75.000</p>\\r\\n                        </div>\\r\\n                    </div>\\r\\n                </div>\\r\\n                <div class=\"well card\">\\r\\n                    <div class=\"col-md-3 image-card\">\\r\\n                        <img width=\"220\" height=\"155\" alt=\"Foto\" src=\"https://caelum-online-public.s3.amazonaws.com/1381-scraping/01/img-cars/toyota/toyota-3245397__340.jpg\">\\r\\n                    </div>\\r\\n                    <div class=\"col-md-6 body-card\">\\r\\n                        <p class=\"txt-name inline\">TOYOTA</p>\\r\\n                            <p class=\"txt-category badge badge-secondary inline\">USADO</p>\\r\\n                            <p class=\"txt-opportunity badge badge-danger inline\">OPORTUNIDADE</p>\\r\\n                        <p class=\"txt-motor\">Motor 4.0 Turbo</p>\\r\\n                        <p class=\"txt-description\">Ano 1999 - 12.536 km</p>\\r\\n                        <ul class=\"lst-items\">\\r\\n                            <li class=\"txt-items\">► Bancos de couro</li>\\r\\n                            <li class=\"txt-items\">► Freios ABS</li>\\r\\n                            <li class=\"txt-items\">► Piloto automático</li>\\r\\n                            <li class=\"txt-items\">► Controle de estabilidade</li>\\r\\n                            <li class=\"txt-items\">...</li>\\r\\n                        </ul>\\r\\n                        <p class=\"txt-location\">São Paulo - SP</p>\\r\\n                    </div>\\r\\n                    <div class=\"col-md-3 value-card\">\\r\\n                        <div class=\"value\">\\r\\n                            <p class=\"txt-value\">R$ 117.000</p>\\r\\n                        </div>\\r\\n                    </div>\\r\\n                </div>\\t\\t\\t\\t\\t\\t</div>\\r\\n\\t\\t\\t\\t\\t\\t<div class=\"type-select\">246 veículos encontrados</div>\\r\\n\\t\\t\\t\\t\\t\\t\\t<div class=\"container-pagination\" style=\"float: right\">\\r\\n\\t\\t\\t\\t\\t\\t\\t\\t<span class=\"info-pages\">Página 1 de 25</span>\\r\\n\\t\\t\\t\\t\\t\\t\\t</div>\\r\\n\\t\\t\\t\\t\\t\\t</div>\\r\\n\\t\\t\\t\\t\\t</div>\\r\\n\\t\\t\\t\\t</div>\\r\\n\\t\\t\\t</div>\\r\\n\\t\\t</div>\\r\\n\\r\\n\\t\\t<footer>\\r\\n\\t\\t\\t<nav class=\"navbar navbar-inverse\">\\r\\n\\t\\t\\t\\t<div class=\"container\" style=\"margin-bottom: 10px;\">\\r\\n\\t\\t\\t\\t\\t<div class=\"navbar\">\\r\\n\\t\\t\\t\\t\\t\\t<a href=\"./index.php\" class=\"navbar-brand\" title=\"Alura Motors\">\\r\\n\\t\\t\\t\\t\\t\\t\\t<img src=\"img/alura-logo.svg\" class=\"d-inline-block align-top\" alt=\"Alura\">Motors\\r\\n\\t\\t\\t\\t\\t\\t</a>\\r\\n\\t\\t\\t\\t\\t\\t<p style=\"color: #fff; text-align: center; margin-top: 40px;\">Aplicação para treinamento de web scraping</p>\\r\\n\\t\\t\\t\\t\\t</div>\\r\\n\\t\\t\\t\\t</div>\\r\\n\\t\\t\\t</nav>\\r\\n\\t\\t</footer>\\r\\n\\r\\n\\t</div>\\r\\n\\r\\n</body>\\r\\n</html>\\r\\n'"
      ]
     },
     "execution_count": 9,
     "metadata": {},
     "output_type": "execute_result"
    }
   ],
   "source": [
    "html"
   ]
  },
  {
   "cell_type": "markdown",
   "metadata": {},
   "source": [
    "### Eliminando os caracteres de tabulação, quebra de linha etc."
   ]
  },
  {
   "cell_type": "code",
   "execution_count": 10,
   "metadata": {},
   "outputs": [
    {
     "data": {
      "text/plain": [
       "['<!DOCTYPE',\n",
       " 'html>',\n",
       " '<html',\n",
       " 'lang=\"pt-br\">',\n",
       " '<head>',\n",
       " '<meta',\n",
       " 'charset=\"utf-8\">',\n",
       " '<meta',\n",
       " 'name=\"viewport\"',\n",
       " 'content=\"width=device-width,',\n",
       " 'initial-scale=1,',\n",
       " 'shrink-to-fit=no\">',\n",
       " '<title>Alura',\n",
       " 'Motors</title>',\n",
       " '<style>',\n",
       " '/*Regra',\n",
       " 'para',\n",
       " 'a',\n",
       " 'animacao*/',\n",
       " '@keyframes',\n",
       " 'spin',\n",
       " '{',\n",
       " '0%',\n",
       " '{',\n",
       " 'transform:',\n",
       " 'rotate(0deg);',\n",
       " '}',\n",
       " '100%',\n",
       " '{',\n",
       " 'transform:',\n",
       " 'rotate(360deg);',\n",
       " '}',\n",
       " '}',\n",
       " '/*Mudando',\n",
       " 'o',\n",
       " 'tamanho',\n",
       " 'do',\n",
       " 'icone',\n",
       " 'de',\n",
       " 'resposta*/',\n",
       " 'div.glyphicon',\n",
       " '{',\n",
       " 'color:#6B8E23;',\n",
       " 'font-size:',\n",
       " '38px;',\n",
       " '}',\n",
       " '/*Classe',\n",
       " 'que',\n",
       " 'mostra',\n",
       " 'a',\n",
       " 'animacao',\n",
       " \"'spin'*/\",\n",
       " '.loader',\n",
       " '{',\n",
       " 'border:',\n",
       " '16px',\n",
       " 'solid',\n",
       " '#f3f3f3;',\n",
       " 'border-radius:',\n",
       " '50%;',\n",
       " 'border-top:',\n",
       " '16px',\n",
       " 'solid',\n",
       " '#3498db;',\n",
       " 'width:',\n",
       " '80px;',\n",
       " 'height:',\n",
       " '80px;',\n",
       " '-webkit-animation:',\n",
       " 'spin',\n",
       " '2s',\n",
       " 'linear',\n",
       " 'infinite;',\n",
       " 'animation:',\n",
       " 'spin',\n",
       " '2s',\n",
       " 'linear',\n",
       " 'infinite;',\n",
       " '}',\n",
       " '</style>',\n",
       " '<link',\n",
       " 'rel=\"stylesheet\"',\n",
       " 'href=\"https://maxcdn.bootstrapcdn.com/bootstrap/3.3.7/css/bootstrap.min.css\"',\n",
       " 'integrity=\"sha384-BVYiiSIFeK1dGmJRAkycuHAHRg32OmUcww7on3RYdg4Va+PmSTsz/K68vbdEjh4u\"',\n",
       " 'crossorigin=\"anonymous\">',\n",
       " '<link',\n",
       " 'rel=\"stylesheet\"',\n",
       " 'href=\"css/styles.css\"',\n",
       " 'media=\"all\">',\n",
       " '<script',\n",
       " 'src=\"https://code.jquery.com/jquery-1.12.4.js\"></script>',\n",
       " '<script',\n",
       " 'src=\"https://maxcdn.bootstrapcdn.com/bootstrap/3.3.7/js/bootstrap.min.js\"',\n",
       " 'integrity=\"sha384-Tc5IQib027qvyjSMfHjOMaLkfuWVxZxUPnCJA7l2mCWNIpG9mGCD8wGNIcPD7Txa\"',\n",
       " 'crossorigin=\"anonymous\"></script>',\n",
       " '<script',\n",
       " 'type=\"text/javascript\"',\n",
       " 'src=\"js/index.js\"></script>',\n",
       " '<script>',\n",
       " 'requisitar(\"https://alura-scraping.herokuapp.com/produtos?_page=\"+1+\"&_limit=10\")',\n",
       " '</script>',\n",
       " '</head>',\n",
       " '<body',\n",
       " 'cz-shortcut-listen=\"true\">',\n",
       " '<noscript>You',\n",
       " 'need',\n",
       " 'to',\n",
       " 'enable',\n",
       " 'JavaScript',\n",
       " 'to',\n",
       " 'run',\n",
       " 'this',\n",
       " 'app.</noscript>',\n",
       " '<div',\n",
       " 'class=\"modal',\n",
       " 'fade\"',\n",
       " 'data-backdrop=\"static\"',\n",
       " 'id=\"loadingModal\"',\n",
       " 'tabindex=\"-1\"',\n",
       " 'role=\"dialog\"',\n",
       " 'aria-labelledby=\"loadingModal_label\">',\n",
       " '<div',\n",
       " 'class=\"modal-dialog\"',\n",
       " 'role=\"document\">',\n",
       " '<div',\n",
       " 'class=\"modal-content\">',\n",
       " '<div',\n",
       " 'class=\"modal-header\">',\n",
       " '<h5',\n",
       " 'class=\"modal-title\"',\n",
       " 'id=\"loadingModal_label\">',\n",
       " '<span',\n",
       " 'class=\"glyphicon',\n",
       " 'glyphicon-refresh\"></span>Aguarde...',\n",
       " '</h5>',\n",
       " '</div>',\n",
       " '<div',\n",
       " 'class=\"modal-body\">',\n",
       " '<div',\n",
       " \"class='alert'\",\n",
       " \"role='alert'>\",\n",
       " '<center>',\n",
       " '<div',\n",
       " 'class=\"loader\"',\n",
       " 'id=\"loader\"></div><br>',\n",
       " '<h4><b',\n",
       " 'id=\"loadingModal_content\"></b></h4>',\n",
       " '</center>',\n",
       " '</div>',\n",
       " '</div>',\n",
       " '</div>',\n",
       " '</div>',\n",
       " '</div>',\n",
       " '<div',\n",
       " 'id=\"root\">',\n",
       " '<header>',\n",
       " '<nav',\n",
       " 'class=\"navbar',\n",
       " 'navbar-inverse\"',\n",
       " 'style=\"margin-bottom:',\n",
       " '0;\">',\n",
       " '<div',\n",
       " 'class=\"container\"',\n",
       " 'style=\"margin-bottom:',\n",
       " '-20px;\">',\n",
       " '<div',\n",
       " 'class=\"navbar\">',\n",
       " '<a',\n",
       " 'href=\"./index.php\"',\n",
       " 'class=\"navbar-brand\"',\n",
       " 'title=\"Alura',\n",
       " 'Motors\">',\n",
       " '<img',\n",
       " 'src=\"img/alura-logo.svg\"',\n",
       " 'class=\"d-inline-block',\n",
       " 'align-top\"',\n",
       " 'alt=\"Alura\">Motors',\n",
       " '</a>',\n",
       " '<ul',\n",
       " 'class=\"nav',\n",
       " 'navbar-nav\"',\n",
       " 'style=\"margin-top:',\n",
       " '35px;\">',\n",
       " '<li><a',\n",
       " 'href=\"./hello-world.php\">Hello',\n",
       " 'World</a></li>',\n",
       " '<li><a',\n",
       " 'href=\"./index.php\">Anúncios</a></li>',\n",
       " '</ul>',\n",
       " '</div>',\n",
       " '</div>',\n",
       " '</nav>',\n",
       " '</header>',\n",
       " '<div',\n",
       " 'class=\"container\">',\n",
       " '<h1',\n",
       " 'class=\"sub-header\">Veículos',\n",
       " 'de',\n",
       " 'Luxo',\n",
       " 'Novos',\n",
       " 'e',\n",
       " 'Usados',\n",
       " '-',\n",
       " 'Todas',\n",
       " 'as',\n",
       " 'Marcas</h1>',\n",
       " '<div',\n",
       " 'class=\"row\">',\n",
       " '<div',\n",
       " 'class=\"col-md-12\">',\n",
       " '<div',\n",
       " 'class=\"container\"',\n",
       " 'style=\"width:',\n",
       " '100%\">',\n",
       " '<div',\n",
       " 'class=\"type-select\">246',\n",
       " 'veículos',\n",
       " 'encontrados</div>',\n",
       " '<div',\n",
       " 'class=\"container-pagination\"',\n",
       " 'style=\"float:',\n",
       " 'right\">',\n",
       " '<span',\n",
       " 'class=\"info-pages\">Página',\n",
       " '1',\n",
       " 'de',\n",
       " '25</span>',\n",
       " '</div>',\n",
       " '</div>',\n",
       " '<div',\n",
       " 'id=\"container-cards\"',\n",
       " 'style=\"height:',\n",
       " '100%\">',\n",
       " '<div',\n",
       " 'class=\"well',\n",
       " 'card\">',\n",
       " '<div',\n",
       " 'class=\"col-md-3',\n",
       " 'image-card\">',\n",
       " '<img',\n",
       " 'width=\"220\"',\n",
       " 'height=\"155\"',\n",
       " 'alt=\"Foto\"',\n",
       " 'src=\"https://caelum-online-public.s3.amazonaws.com/1381-scraping/01/img-cars/lamborghini-aventador/lamborghini-aventador-2932196__340.jpg\">',\n",
       " '</div>',\n",
       " '<div',\n",
       " 'class=\"col-md-6',\n",
       " 'body-card\">',\n",
       " '<p',\n",
       " 'class=\"txt-name',\n",
       " 'inline\">LAMBORGHINI',\n",
       " 'AVENTADOR</p>',\n",
       " '<p',\n",
       " 'class=\"txt-category',\n",
       " 'badge',\n",
       " 'badge-secondary',\n",
       " 'inline\">USADO</p>',\n",
       " '<p',\n",
       " 'class=\"txt-motor\">Motor',\n",
       " '1.8',\n",
       " '16v</p>',\n",
       " '<p',\n",
       " 'class=\"txt-description\">Ano',\n",
       " '1993',\n",
       " '-',\n",
       " '55.286',\n",
       " 'km</p>',\n",
       " '<ul',\n",
       " 'class=\"lst-items\">',\n",
       " '<li',\n",
       " 'class=\"txt-items\">►',\n",
       " '4',\n",
       " 'X',\n",
       " '4</li>',\n",
       " '<li',\n",
       " 'class=\"txt-items\">►',\n",
       " 'Câmera',\n",
       " 'de',\n",
       " 'estacionamento</li>',\n",
       " '<li',\n",
       " 'class=\"txt-items\">►',\n",
       " 'Controle',\n",
       " 'de',\n",
       " 'tração</li>',\n",
       " '<li',\n",
       " 'class=\"txt-items\">►',\n",
       " 'Sensor',\n",
       " 'de',\n",
       " 'estacionamento</li>',\n",
       " '<li',\n",
       " 'class=\"txt-items\">...</li>',\n",
       " '</ul>',\n",
       " '<p',\n",
       " 'class=\"txt-location\">Belo',\n",
       " 'Horizonte',\n",
       " '-',\n",
       " 'MG</p>',\n",
       " '</div>',\n",
       " '<div',\n",
       " 'class=\"col-md-3',\n",
       " 'value-card\">',\n",
       " '<div',\n",
       " 'class=\"value\">',\n",
       " '<p',\n",
       " 'class=\"txt-value\">R$',\n",
       " '338.000</p>',\n",
       " '</div>',\n",
       " '</div>',\n",
       " '</div>',\n",
       " '<div',\n",
       " 'class=\"well',\n",
       " 'card\">',\n",
       " '<div',\n",
       " 'class=\"col-md-3',\n",
       " 'image-card\">',\n",
       " '<img',\n",
       " 'width=\"220\"',\n",
       " 'height=\"155\"',\n",
       " 'alt=\"Foto\"',\n",
       " 'src=\"https://caelum-online-public.s3.amazonaws.com/1381-scraping/01/img-cars/bmw-m2/bmw-m2-2970882__340.jpg\">',\n",
       " '</div>',\n",
       " '<div',\n",
       " 'class=\"col-md-6',\n",
       " 'body-card\">',\n",
       " '<p',\n",
       " 'class=\"txt-name',\n",
       " 'inline\">BMW',\n",
       " 'M2</p>',\n",
       " '<p',\n",
       " 'class=\"txt-category',\n",
       " 'badge',\n",
       " 'badge-secondary',\n",
       " 'inline\">USADO</p>',\n",
       " '<p',\n",
       " 'class=\"txt-motor\">Motor',\n",
       " '3.0',\n",
       " '32v</p>',\n",
       " '<p',\n",
       " 'class=\"txt-description\">Ano',\n",
       " '2018',\n",
       " '-',\n",
       " '83.447',\n",
       " 'km</p>',\n",
       " '<ul',\n",
       " 'class=\"lst-items\">',\n",
       " '<li',\n",
       " 'class=\"txt-items\">►',\n",
       " 'Câmera',\n",
       " 'de',\n",
       " 'estacionamento</li>',\n",
       " '<li',\n",
       " 'class=\"txt-items\">►',\n",
       " 'Controle',\n",
       " 'de',\n",
       " 'estabilidade</li>',\n",
       " '<li',\n",
       " 'class=\"txt-items\">►',\n",
       " 'Travas',\n",
       " 'elétricas</li>',\n",
       " '<li',\n",
       " 'class=\"txt-items\">►',\n",
       " 'Freios',\n",
       " 'ABS</li>',\n",
       " '<li',\n",
       " 'class=\"txt-items\">...</li>',\n",
       " '</ul>',\n",
       " '<p',\n",
       " 'class=\"txt-location\">Belo',\n",
       " 'Horizonte',\n",
       " '-',\n",
       " 'MG</p>',\n",
       " '</div>',\n",
       " '<div',\n",
       " 'class=\"col-md-3',\n",
       " 'value-card\">',\n",
       " '<div',\n",
       " 'class=\"value\">',\n",
       " '<p',\n",
       " 'class=\"txt-value\">R$',\n",
       " '346.000</p>',\n",
       " '</div>',\n",
       " '</div>',\n",
       " '</div>',\n",
       " '<div',\n",
       " 'class=\"well',\n",
       " 'card\">',\n",
       " '<div',\n",
       " 'class=\"col-md-3',\n",
       " 'image-card\">',\n",
       " '<img',\n",
       " 'width=\"220\"',\n",
       " 'height=\"155\"',\n",
       " 'alt=\"Foto\"',\n",
       " 'src=\"https://caelum-online-public.s3.amazonaws.com/1381-scraping/01/img-cars/alfa/alfa-1823056__340.jpg\">',\n",
       " '</div>',\n",
       " '<div',\n",
       " 'class=\"col-md-6',\n",
       " 'body-card\">',\n",
       " '<p',\n",
       " 'class=\"txt-name',\n",
       " 'inline\">ALFA</p>',\n",
       " '<p',\n",
       " 'class=\"txt-category',\n",
       " 'badge',\n",
       " 'badge-secondary',\n",
       " 'inline\">USADO</p>',\n",
       " '<p',\n",
       " 'class=\"txt-motor\">Motor',\n",
       " '1.8',\n",
       " '16v</p>',\n",
       " '<p',\n",
       " 'class=\"txt-description\">Ano',\n",
       " '2004',\n",
       " '-',\n",
       " '19.722',\n",
       " 'km</p>',\n",
       " '<ul',\n",
       " 'class=\"lst-items\">',\n",
       " '<li',\n",
       " 'class=\"txt-items\">►',\n",
       " 'Central',\n",
       " 'multimídia</li>',\n",
       " '<li',\n",
       " 'class=\"txt-items\">►',\n",
       " 'Bancos',\n",
       " 'de',\n",
       " 'couro</li>',\n",
       " '<li',\n",
       " 'class=\"txt-items\">►',\n",
       " 'Rodas',\n",
       " 'de',\n",
       " 'liga</li>',\n",
       " '<li',\n",
       " 'class=\"txt-items\">►',\n",
       " 'Câmera',\n",
       " 'de',\n",
       " 'estacionamento</li>',\n",
       " '<li',\n",
       " 'class=\"txt-items\">...</li>',\n",
       " '</ul>',\n",
       " '<p',\n",
       " 'class=\"txt-location\">Rio',\n",
       " 'de',\n",
       " 'Janeiro',\n",
       " '-',\n",
       " 'RJ</p>',\n",
       " '</div>',\n",
       " '<div',\n",
       " 'class=\"col-md-3',\n",
       " 'value-card\">',\n",
       " '<div',\n",
       " 'class=\"value\">',\n",
       " '<p',\n",
       " 'class=\"txt-value\">R$',\n",
       " '480.000</p>',\n",
       " '</div>',\n",
       " '</div>',\n",
       " '</div>',\n",
       " '<div',\n",
       " 'class=\"well',\n",
       " 'card\">',\n",
       " '<div',\n",
       " 'class=\"col-md-3',\n",
       " 'image-card\">',\n",
       " '<img',\n",
       " 'width=\"220\"',\n",
       " 'height=\"155\"',\n",
       " 'alt=\"Foto\"',\n",
       " 'src=\"https://caelum-online-public.s3.amazonaws.com/1381-scraping/01/img-cars/puech/puech-4055386__340.jpg\">',\n",
       " '</div>',\n",
       " '<div',\n",
       " 'class=\"col-md-6',\n",
       " 'body-card\">',\n",
       " '<p',\n",
       " 'class=\"txt-name',\n",
       " 'inline\">PUECH</p>',\n",
       " '<p',\n",
       " 'class=\"txt-category',\n",
       " 'badge',\n",
       " 'badge-secondary',\n",
       " 'inline\">USADO</p>',\n",
       " '<p',\n",
       " 'class=\"txt-motor\">Motor',\n",
       " 'Diesel',\n",
       " 'V8</p>',\n",
       " '<p',\n",
       " 'class=\"txt-description\">Ano',\n",
       " '1992',\n",
       " '-',\n",
       " '34.335',\n",
       " 'km</p>',\n",
       " '<ul',\n",
       " 'class=\"lst-items\">',\n",
       " '<li',\n",
       " 'class=\"txt-items\">►',\n",
       " 'Bancos',\n",
       " 'de',\n",
       " 'couro</li>',\n",
       " '<li',\n",
       " 'class=\"txt-items\">►',\n",
       " 'Freios',\n",
       " 'ABS</li>',\n",
       " '<li',\n",
       " 'class=\"txt-items\">►',\n",
       " 'Rodas',\n",
       " 'de',\n",
       " 'liga</li>',\n",
       " '<li',\n",
       " 'class=\"txt-items\">►',\n",
       " 'Câmbio',\n",
       " 'automático</li>',\n",
       " '<li',\n",
       " 'class=\"txt-items\">...</li>',\n",
       " '</ul>',\n",
       " '<p',\n",
       " 'class=\"txt-location\">São',\n",
       " 'Paulo',\n",
       " '-',\n",
       " 'SP</p>',\n",
       " '</div>',\n",
       " '<div',\n",
       " 'class=\"col-md-3',\n",
       " 'value-card\">',\n",
       " '<div',\n",
       " 'class=\"value\">',\n",
       " '<p',\n",
       " 'class=\"txt-value\">R$',\n",
       " '133.000</p>',\n",
       " '</div>',\n",
       " '</div>',\n",
       " '</div>',\n",
       " '<div',\n",
       " 'class=\"well',\n",
       " 'card\">',\n",
       " '<div',\n",
       " 'class=\"col-md-3',\n",
       " 'image-card\">',\n",
       " '<img',\n",
       " 'width=\"220\"',\n",
       " 'height=\"155\"',\n",
       " 'alt=\"Foto\"',\n",
       " 'src=\"https://caelum-online-public.s3.amazonaws.com/1381-scraping/01/img-cars/lamborghini-murcielago/lamborghini-murcielago-2872974__340.jpg\">',\n",
       " '</div>',\n",
       " '<div',\n",
       " 'class=\"col-md-6',\n",
       " 'body-card\">',\n",
       " '<p',\n",
       " 'class=\"txt-name',\n",
       " 'inline\">LAMBORGHINI',\n",
       " 'MURCIELAGO</p>',\n",
       " '<p',\n",
       " 'class=\"txt-category',\n",
       " 'badge',\n",
       " 'badge-secondary',\n",
       " 'inline\">USADO</p>',\n",
       " '<p',\n",
       " 'class=\"txt-motor\">Motor',\n",
       " '1.0',\n",
       " '8v</p>',\n",
       " '<p',\n",
       " 'class=\"txt-description\">Ano',\n",
       " '1991',\n",
       " '-',\n",
       " '464',\n",
       " 'km</p>',\n",
       " '<ul',\n",
       " 'class=\"lst-items\">',\n",
       " '<li',\n",
       " 'class=\"txt-items\">►',\n",
       " 'Central',\n",
       " 'multimídia</li>',\n",
       " '<li',\n",
       " 'class=\"txt-items\">►',\n",
       " 'Teto',\n",
       " 'panorâmico</li>',\n",
       " '<li',\n",
       " 'class=\"txt-items\">►',\n",
       " 'Sensor',\n",
       " 'crepuscular</li>',\n",
       " '<li',\n",
       " 'class=\"txt-items\">►',\n",
       " 'Piloto',\n",
       " 'automático</li>',\n",
       " '<li',\n",
       " 'class=\"txt-items\">...</li>',\n",
       " '</ul>',\n",
       " '<p',\n",
       " 'class=\"txt-location\">Belo',\n",
       " 'Horizonte',\n",
       " '-',\n",
       " 'MG</p>',\n",
       " '</div>',\n",
       " '<div',\n",
       " 'class=\"col-md-3',\n",
       " 'value-card\">',\n",
       " '<div',\n",
       " 'class=\"value\">',\n",
       " '<p',\n",
       " 'class=\"txt-value\">R$',\n",
       " '175.000</p>',\n",
       " '</div>',\n",
       " '</div>',\n",
       " '</div>',\n",
       " '<div',\n",
       " 'class=\"well',\n",
       " 'card\">',\n",
       " '<div',\n",
       " 'class=\"col-md-3',\n",
       " 'image-card\">',\n",
       " '<img',\n",
       " 'width=\"220\"',\n",
       " 'height=\"155\"',\n",
       " 'alt=\"Foto\"',\n",
       " 'src=\"https://caelum-online-public.s3.amazonaws.com/1381-scraping/01/img-cars/aston-martin/aston-martin-2977916__340.jpg\">',\n",
       " '</div>',\n",
       " '<div',\n",
       " 'class=\"col-md-6',\n",
       " 'body-card\">',\n",
       " '<p',\n",
       " 'class=\"txt-name',\n",
       " 'inline\">ASTON',\n",
       " 'MARTIN</p>',\n",
       " '<p',\n",
       " 'class=\"txt-category',\n",
       " 'badge',\n",
       " 'badge-secondary',\n",
       " 'inline\">USADO</p>',\n",
       " '<p',\n",
       " 'class=\"txt-opportunity',\n",
       " 'badge',\n",
       " 'badge-danger',\n",
       " 'inline\">OPORTUNIDADE</p>',\n",
       " '<p',\n",
       " 'class=\"txt-motor\">Motor',\n",
       " 'Diesel',\n",
       " 'V6</p>',\n",
       " '<p',\n",
       " 'class=\"txt-description\">Ano',\n",
       " '2004',\n",
       " '-',\n",
       " '50.189',\n",
       " 'km</p>',\n",
       " '<ul',\n",
       " 'class=\"lst-items\">',\n",
       " '<li',\n",
       " 'class=\"txt-items\">►',\n",
       " 'Painel',\n",
       " 'digital</li>',\n",
       " '<li',\n",
       " 'class=\"txt-items\">►',\n",
       " 'Controle',\n",
       " 'de',\n",
       " 'tração</li>',\n",
       " '<li',\n",
       " 'class=\"txt-items\">►',\n",
       " 'Teto',\n",
       " 'panorâmico</li>',\n",
       " '<li',\n",
       " 'class=\"txt-items\">►',\n",
       " 'Central',\n",
       " 'multimídia</li>',\n",
       " '<li',\n",
       " 'class=\"txt-items\">...</li>',\n",
       " '</ul>',\n",
       " '<p',\n",
       " 'class=\"txt-location\">Belo',\n",
       " 'Horizonte',\n",
       " '-',\n",
       " 'MG</p>',\n",
       " '</div>',\n",
       " '<div',\n",
       " 'class=\"col-md-3',\n",
       " 'value-card\">',\n",
       " '<div',\n",
       " 'class=\"value\">',\n",
       " '<p',\n",
       " 'class=\"txt-value\">R$',\n",
       " '239.000</p>',\n",
       " '</div>',\n",
       " '</div>',\n",
       " '</div>',\n",
       " '<div',\n",
       " 'class=\"well',\n",
       " 'card\">',\n",
       " '<div',\n",
       " 'class=\"col-md-3',\n",
       " 'image-card\">',\n",
       " '<img',\n",
       " 'width=\"220\"',\n",
       " 'height=\"155\"',\n",
       " 'alt=\"Foto\"',\n",
       " 'src=\"https://caelum-online-public.s3.amazonaws.com/1381-scraping/01/img-cars/tvr/tvr-2943925__340.jpg\">',\n",
       " '</div>',\n",
       " '<div',\n",
       " 'class=\"col-md-6',\n",
       " 'body-card\">',\n",
       " '<p',\n",
       " 'class=\"txt-name',\n",
       " 'inline\">TVR</p>',\n",
       " '<p',\n",
       " 'class=\"txt-category',\n",
       " 'badge',\n",
       " 'badge-secondary',\n",
       " 'inline\">USADO</p>',\n",
       " '<p',\n",
       " 'class=\"txt-motor\">Motor',\n",
       " '4.0',\n",
       " 'Turbo</p>',\n",
       " '<p',\n",
       " 'class=\"txt-description\">Ano',\n",
       " '2014',\n",
       " '-',\n",
       " '17.778',\n",
       " 'km</p>',\n",
       " '<ul',\n",
       " 'class=\"lst-items\">',\n",
       " '<li',\n",
       " 'class=\"txt-items\">►',\n",
       " '4',\n",
       " 'X',\n",
       " '4</li>',\n",
       " '<li',\n",
       " 'class=\"txt-items\">►',\n",
       " 'Teto',\n",
       " 'panorâmico</li>',\n",
       " '<li',\n",
       " 'class=\"txt-items\">►',\n",
       " 'Central',\n",
       " 'multimídia</li>',\n",
       " '<li',\n",
       " 'class=\"txt-items\">►',\n",
       " 'Controle',\n",
       " 'de',\n",
       " 'estabilidade</li>',\n",
       " '<li',\n",
       " 'class=\"txt-items\">...</li>',\n",
       " '</ul>',\n",
       " '<p',\n",
       " 'class=\"txt-location\">Belo',\n",
       " 'Horizonte',\n",
       " '-',\n",
       " 'MG</p>',\n",
       " '</div>',\n",
       " '<div',\n",
       " 'class=\"col-md-3',\n",
       " 'value-card\">',\n",
       " '<div',\n",
       " 'class=\"value\">',\n",
       " '<p',\n",
       " 'class=\"txt-value\">R$',\n",
       " '115.000</p>',\n",
       " '</div>',\n",
       " '</div>',\n",
       " '</div>',\n",
       " '<div',\n",
       " 'class=\"well',\n",
       " 'card\">',\n",
       " '<div',\n",
       " 'class=\"col-md-3',\n",
       " 'image-card\">',\n",
       " '<img',\n",
       " 'width=\"220\"',\n",
       " 'height=\"155\"',\n",
       " 'alt=\"Foto\"',\n",
       " 'src=\"https://caelum-online-public.s3.amazonaws.com/1381-scraping/01/img-cars/excalibur/excalibur-2916730__340.jpg\">',\n",
       " '</div>',\n",
       " '<div',\n",
       " 'class=\"col-md-6',\n",
       " 'body-card\">',\n",
       " '<p',\n",
       " 'class=\"txt-name',\n",
       " 'inline\">EXCALIBUR</p>',\n",
       " '<p',\n",
       " 'class=\"txt-category',\n",
       " 'badge',\n",
       " 'badge-secondary',\n",
       " 'inline\">USADO</p>',\n",
       " '<p',\n",
       " 'class=\"txt-motor\">Motor',\n",
       " '3.0',\n",
       " '32v</p>',\n",
       " '<p',\n",
       " 'class=\"txt-description\">Ano',\n",
       " '2009',\n",
       " '-',\n",
       " '81.251',\n",
       " 'km</p>',\n",
       " '<ul',\n",
       " 'class=\"lst-items\">',\n",
       " '<li',\n",
       " 'class=\"txt-items\">►',\n",
       " 'Painel',\n",
       " 'digital</li>',\n",
       " '<li',\n",
       " 'class=\"txt-items\">►',\n",
       " 'Câmbio',\n",
       " 'automático</li>',\n",
       " '<li',\n",
       " 'class=\"txt-items\">►',\n",
       " 'Sensor',\n",
       " 'de',\n",
       " 'chuva</li>',\n",
       " '<li',\n",
       " 'class=\"txt-items\">►',\n",
       " 'Travas',\n",
       " 'elétricas</li>',\n",
       " '<li',\n",
       " 'class=\"txt-items\">...</li>',\n",
       " '</ul>',\n",
       " '<p',\n",
       " 'class=\"txt-location\">Rio',\n",
       " 'de',\n",
       " 'Janeiro',\n",
       " '-',\n",
       " 'RJ</p>',\n",
       " '</div>',\n",
       " '<div',\n",
       " 'class=\"col-md-3',\n",
       " 'value-card\">',\n",
       " '<div',\n",
       " 'class=\"value\">',\n",
       " '<p',\n",
       " 'class=\"txt-value\">R$',\n",
       " '114.000</p>',\n",
       " '</div>',\n",
       " '</div>',\n",
       " '</div>',\n",
       " '<div',\n",
       " 'class=\"well',\n",
       " 'card\">',\n",
       " '<div',\n",
       " 'class=\"col-md-3',\n",
       " 'image-card\">',\n",
       " '<img',\n",
       " 'width=\"220\"',\n",
       " 'height=\"155\"',\n",
       " 'alt=\"Foto\"',\n",
       " 'src=\"https://caelum-online-public.s3.amazonaws.com/1381-scraping/01/img-cars/mclaren/mclaren-2855240__340.jpg\">',\n",
       " '</div>',\n",
       " '<div',\n",
       " 'class=\"col-md-6',\n",
       " 'body-card\">',\n",
       " '<p',\n",
       " 'class=\"txt-name',\n",
       " 'inline\">MCLAREN</p>',\n",
       " '<p',\n",
       " 'class=\"txt-category',\n",
       " 'badge',\n",
       " 'badge-secondary',\n",
       " 'inline\">NOVO</p>',\n",
       " '<p',\n",
       " 'class=\"txt-motor\">Motor',\n",
       " 'Diesel</p>',\n",
       " '<p',\n",
       " 'class=\"txt-description\">Ano',\n",
       " '2019',\n",
       " '-',\n",
       " '0',\n",
       " 'km</p>',\n",
       " '<ul',\n",
       " 'class=\"lst-items\">',\n",
       " '<li',\n",
       " 'class=\"txt-items\">►',\n",
       " 'Central',\n",
       " 'multimídia</li>',\n",
       " '<li',\n",
       " 'class=\"txt-items\">►',\n",
       " 'Câmera',\n",
       " 'de',\n",
       " 'estacionamento</li>',\n",
       " '<li',\n",
       " 'class=\"txt-items\">►',\n",
       " 'Câmbio',\n",
       " 'automático</li>',\n",
       " '<li',\n",
       " 'class=\"txt-items\">►',\n",
       " 'Ar',\n",
       " 'condicionado</li>',\n",
       " '<li',\n",
       " 'class=\"txt-items\">...</li>',\n",
       " '</ul>',\n",
       " '<p',\n",
       " 'class=\"txt-location\">São',\n",
       " 'Paulo',\n",
       " '-',\n",
       " 'SP</p>',\n",
       " '</div>',\n",
       " '<div',\n",
       " 'class=\"col-md-3',\n",
       " 'value-card\">',\n",
       " '<div',\n",
       " 'class=\"value\">',\n",
       " '<p',\n",
       " 'class=\"txt-value\">R$',\n",
       " '75.000</p>',\n",
       " '</div>',\n",
       " '</div>',\n",
       " '</div>',\n",
       " '<div',\n",
       " 'class=\"well',\n",
       " 'card\">',\n",
       " '<div',\n",
       " 'class=\"col-md-3',\n",
       " 'image-card\">',\n",
       " '<img',\n",
       " 'width=\"220\"',\n",
       " 'height=\"155\"',\n",
       " 'alt=\"Foto\"',\n",
       " 'src=\"https://caelum-online-public.s3.amazonaws.com/1381-scraping/01/img-cars/toyota/toyota-3245397__340.jpg\">',\n",
       " '</div>',\n",
       " '<div',\n",
       " 'class=\"col-md-6',\n",
       " 'body-card\">',\n",
       " '<p',\n",
       " 'class=\"txt-name',\n",
       " 'inline\">TOYOTA</p>',\n",
       " '<p',\n",
       " 'class=\"txt-category',\n",
       " 'badge',\n",
       " 'badge-secondary',\n",
       " 'inline\">USADO</p>',\n",
       " '<p',\n",
       " 'class=\"txt-opportunity',\n",
       " 'badge',\n",
       " 'badge-danger',\n",
       " 'inline\">OPORTUNIDADE</p>',\n",
       " '<p',\n",
       " 'class=\"txt-motor\">Motor',\n",
       " '4.0',\n",
       " 'Turbo</p>',\n",
       " '<p',\n",
       " 'class=\"txt-description\">Ano',\n",
       " '1999',\n",
       " '-',\n",
       " '12.536',\n",
       " 'km</p>',\n",
       " '<ul',\n",
       " 'class=\"lst-items\">',\n",
       " '<li',\n",
       " 'class=\"txt-items\">►',\n",
       " 'Bancos',\n",
       " 'de',\n",
       " 'couro</li>',\n",
       " '<li',\n",
       " 'class=\"txt-items\">►',\n",
       " 'Freios',\n",
       " 'ABS</li>',\n",
       " '<li',\n",
       " 'class=\"txt-items\">►',\n",
       " 'Piloto',\n",
       " 'automático</li>',\n",
       " '<li',\n",
       " 'class=\"txt-items\">►',\n",
       " 'Controle',\n",
       " 'de',\n",
       " 'estabilidade</li>',\n",
       " '<li',\n",
       " 'class=\"txt-items\">...</li>',\n",
       " '</ul>',\n",
       " '<p',\n",
       " 'class=\"txt-location\">São',\n",
       " 'Paulo',\n",
       " '-',\n",
       " 'SP</p>',\n",
       " '</div>',\n",
       " '<div',\n",
       " 'class=\"col-md-3',\n",
       " 'value-card\">',\n",
       " '<div',\n",
       " 'class=\"value\">',\n",
       " '<p',\n",
       " 'class=\"txt-value\">R$',\n",
       " '117.000</p>',\n",
       " '</div>',\n",
       " '</div>',\n",
       " '</div>',\n",
       " '</div>',\n",
       " '<div',\n",
       " 'class=\"type-select\">246',\n",
       " 'veículos',\n",
       " 'encontrados</div>',\n",
       " '<div',\n",
       " 'class=\"container-pagination\"',\n",
       " 'style=\"float:',\n",
       " 'right\">',\n",
       " '<span',\n",
       " 'class=\"info-pages\">Página',\n",
       " '1',\n",
       " 'de',\n",
       " '25</span>',\n",
       " '</div>',\n",
       " '</div>',\n",
       " '</div>',\n",
       " '</div>',\n",
       " '</div>',\n",
       " '</div>',\n",
       " '<footer>',\n",
       " '<nav',\n",
       " 'class=\"navbar',\n",
       " 'navbar-inverse\">',\n",
       " ...]"
      ]
     },
     "execution_count": 10,
     "metadata": {},
     "output_type": "execute_result"
    }
   ],
   "source": [
    "html.split()"
   ]
  },
  {
   "cell_type": "code",
   "execution_count": 11,
   "metadata": {
    "scrolled": true
   },
   "outputs": [
    {
     "data": {
      "text/plain": [
       "'<!DOCTYPE html> <html lang=\"pt-br\"> <head> <meta charset=\"utf-8\"> <meta name=\"viewport\" content=\"width=device-width, initial-scale=1, shrink-to-fit=no\"> <title>Alura Motors</title> <style> /*Regra para a animacao*/ @keyframes spin { 0% { transform: rotate(0deg); } 100% { transform: rotate(360deg); } } /*Mudando o tamanho do icone de resposta*/ div.glyphicon { color:#6B8E23; font-size: 38px; } /*Classe que mostra a animacao \\'spin\\'*/ .loader { border: 16px solid #f3f3f3; border-radius: 50%; border-top: 16px solid #3498db; width: 80px; height: 80px; -webkit-animation: spin 2s linear infinite; animation: spin 2s linear infinite; } </style> <link rel=\"stylesheet\" href=\"https://maxcdn.bootstrapcdn.com/bootstrap/3.3.7/css/bootstrap.min.css\" integrity=\"sha384-BVYiiSIFeK1dGmJRAkycuHAHRg32OmUcww7on3RYdg4Va+PmSTsz/K68vbdEjh4u\" crossorigin=\"anonymous\"> <link rel=\"stylesheet\" href=\"css/styles.css\" media=\"all\"> <script src=\"https://code.jquery.com/jquery-1.12.4.js\"></script> <script src=\"https://maxcdn.bootstrapcdn.com/bootstrap/3.3.7/js/bootstrap.min.js\" integrity=\"sha384-Tc5IQib027qvyjSMfHjOMaLkfuWVxZxUPnCJA7l2mCWNIpG9mGCD8wGNIcPD7Txa\" crossorigin=\"anonymous\"></script> <script type=\"text/javascript\" src=\"js/index.js\"></script> <script> requisitar(\"https://alura-scraping.herokuapp.com/produtos?_page=\"+1+\"&_limit=10\") </script> </head> <body cz-shortcut-listen=\"true\"> <noscript>You need to enable JavaScript to run this app.</noscript> <div class=\"modal fade\" data-backdrop=\"static\" id=\"loadingModal\" tabindex=\"-1\" role=\"dialog\" aria-labelledby=\"loadingModal_label\"> <div class=\"modal-dialog\" role=\"document\"> <div class=\"modal-content\"> <div class=\"modal-header\"> <h5 class=\"modal-title\" id=\"loadingModal_label\"> <span class=\"glyphicon glyphicon-refresh\"></span>Aguarde... </h5> </div> <div class=\"modal-body\"> <div class=\\'alert\\' role=\\'alert\\'> <center> <div class=\"loader\" id=\"loader\"></div><br> <h4><b id=\"loadingModal_content\"></b></h4> </center> </div> </div> </div> </div> </div> <div id=\"root\"> <header> <nav class=\"navbar navbar-inverse\" style=\"margin-bottom: 0;\"> <div class=\"container\" style=\"margin-bottom: -20px;\"> <div class=\"navbar\"> <a href=\"./index.php\" class=\"navbar-brand\" title=\"Alura Motors\"> <img src=\"img/alura-logo.svg\" class=\"d-inline-block align-top\" alt=\"Alura\">Motors </a> <ul class=\"nav navbar-nav\" style=\"margin-top: 35px;\"> <li><a href=\"./hello-world.php\">Hello World</a></li> <li><a href=\"./index.php\">Anúncios</a></li> </ul> </div> </div> </nav> </header> <div class=\"container\"> <h1 class=\"sub-header\">Veículos de Luxo Novos e Usados - Todas as Marcas</h1> <div class=\"row\"> <div class=\"col-md-12\"> <div class=\"container\" style=\"width: 100%\"> <div class=\"type-select\">246 veículos encontrados</div> <div class=\"container-pagination\" style=\"float: right\"> <span class=\"info-pages\">Página 1 de 25</span> </div> </div> <div id=\"container-cards\" style=\"height: 100%\"> <div class=\"well card\"> <div class=\"col-md-3 image-card\"> <img width=\"220\" height=\"155\" alt=\"Foto\" src=\"https://caelum-online-public.s3.amazonaws.com/1381-scraping/01/img-cars/lamborghini-aventador/lamborghini-aventador-2932196__340.jpg\"> </div> <div class=\"col-md-6 body-card\"> <p class=\"txt-name inline\">LAMBORGHINI AVENTADOR</p> <p class=\"txt-category badge badge-secondary inline\">USADO</p> <p class=\"txt-motor\">Motor 1.8 16v</p> <p class=\"txt-description\">Ano 1993 - 55.286 km</p> <ul class=\"lst-items\"> <li class=\"txt-items\">► 4 X 4</li> <li class=\"txt-items\">► Câmera de estacionamento</li> <li class=\"txt-items\">► Controle de tração</li> <li class=\"txt-items\">► Sensor de estacionamento</li> <li class=\"txt-items\">...</li> </ul> <p class=\"txt-location\">Belo Horizonte - MG</p> </div> <div class=\"col-md-3 value-card\"> <div class=\"value\"> <p class=\"txt-value\">R$ 338.000</p> </div> </div> </div> <div class=\"well card\"> <div class=\"col-md-3 image-card\"> <img width=\"220\" height=\"155\" alt=\"Foto\" src=\"https://caelum-online-public.s3.amazonaws.com/1381-scraping/01/img-cars/bmw-m2/bmw-m2-2970882__340.jpg\"> </div> <div class=\"col-md-6 body-card\"> <p class=\"txt-name inline\">BMW M2</p> <p class=\"txt-category badge badge-secondary inline\">USADO</p> <p class=\"txt-motor\">Motor 3.0 32v</p> <p class=\"txt-description\">Ano 2018 - 83.447 km</p> <ul class=\"lst-items\"> <li class=\"txt-items\">► Câmera de estacionamento</li> <li class=\"txt-items\">► Controle de estabilidade</li> <li class=\"txt-items\">► Travas elétricas</li> <li class=\"txt-items\">► Freios ABS</li> <li class=\"txt-items\">...</li> </ul> <p class=\"txt-location\">Belo Horizonte - MG</p> </div> <div class=\"col-md-3 value-card\"> <div class=\"value\"> <p class=\"txt-value\">R$ 346.000</p> </div> </div> </div> <div class=\"well card\"> <div class=\"col-md-3 image-card\"> <img width=\"220\" height=\"155\" alt=\"Foto\" src=\"https://caelum-online-public.s3.amazonaws.com/1381-scraping/01/img-cars/alfa/alfa-1823056__340.jpg\"> </div> <div class=\"col-md-6 body-card\"> <p class=\"txt-name inline\">ALFA</p> <p class=\"txt-category badge badge-secondary inline\">USADO</p> <p class=\"txt-motor\">Motor 1.8 16v</p> <p class=\"txt-description\">Ano 2004 - 19.722 km</p> <ul class=\"lst-items\"> <li class=\"txt-items\">► Central multimídia</li> <li class=\"txt-items\">► Bancos de couro</li> <li class=\"txt-items\">► Rodas de liga</li> <li class=\"txt-items\">► Câmera de estacionamento</li> <li class=\"txt-items\">...</li> </ul> <p class=\"txt-location\">Rio de Janeiro - RJ</p> </div> <div class=\"col-md-3 value-card\"> <div class=\"value\"> <p class=\"txt-value\">R$ 480.000</p> </div> </div> </div> <div class=\"well card\"> <div class=\"col-md-3 image-card\"> <img width=\"220\" height=\"155\" alt=\"Foto\" src=\"https://caelum-online-public.s3.amazonaws.com/1381-scraping/01/img-cars/puech/puech-4055386__340.jpg\"> </div> <div class=\"col-md-6 body-card\"> <p class=\"txt-name inline\">PUECH</p> <p class=\"txt-category badge badge-secondary inline\">USADO</p> <p class=\"txt-motor\">Motor Diesel V8</p> <p class=\"txt-description\">Ano 1992 - 34.335 km</p> <ul class=\"lst-items\"> <li class=\"txt-items\">► Bancos de couro</li> <li class=\"txt-items\">► Freios ABS</li> <li class=\"txt-items\">► Rodas de liga</li> <li class=\"txt-items\">► Câmbio automático</li> <li class=\"txt-items\">...</li> </ul> <p class=\"txt-location\">São Paulo - SP</p> </div> <div class=\"col-md-3 value-card\"> <div class=\"value\"> <p class=\"txt-value\">R$ 133.000</p> </div> </div> </div> <div class=\"well card\"> <div class=\"col-md-3 image-card\"> <img width=\"220\" height=\"155\" alt=\"Foto\" src=\"https://caelum-online-public.s3.amazonaws.com/1381-scraping/01/img-cars/lamborghini-murcielago/lamborghini-murcielago-2872974__340.jpg\"> </div> <div class=\"col-md-6 body-card\"> <p class=\"txt-name inline\">LAMBORGHINI MURCIELAGO</p> <p class=\"txt-category badge badge-secondary inline\">USADO</p> <p class=\"txt-motor\">Motor 1.0 8v</p> <p class=\"txt-description\">Ano 1991 - 464 km</p> <ul class=\"lst-items\"> <li class=\"txt-items\">► Central multimídia</li> <li class=\"txt-items\">► Teto panorâmico</li> <li class=\"txt-items\">► Sensor crepuscular</li> <li class=\"txt-items\">► Piloto automático</li> <li class=\"txt-items\">...</li> </ul> <p class=\"txt-location\">Belo Horizonte - MG</p> </div> <div class=\"col-md-3 value-card\"> <div class=\"value\"> <p class=\"txt-value\">R$ 175.000</p> </div> </div> </div> <div class=\"well card\"> <div class=\"col-md-3 image-card\"> <img width=\"220\" height=\"155\" alt=\"Foto\" src=\"https://caelum-online-public.s3.amazonaws.com/1381-scraping/01/img-cars/aston-martin/aston-martin-2977916__340.jpg\"> </div> <div class=\"col-md-6 body-card\"> <p class=\"txt-name inline\">ASTON MARTIN</p> <p class=\"txt-category badge badge-secondary inline\">USADO</p> <p class=\"txt-opportunity badge badge-danger inline\">OPORTUNIDADE</p> <p class=\"txt-motor\">Motor Diesel V6</p> <p class=\"txt-description\">Ano 2004 - 50.189 km</p> <ul class=\"lst-items\"> <li class=\"txt-items\">► Painel digital</li> <li class=\"txt-items\">► Controle de tração</li> <li class=\"txt-items\">► Teto panorâmico</li> <li class=\"txt-items\">► Central multimídia</li> <li class=\"txt-items\">...</li> </ul> <p class=\"txt-location\">Belo Horizonte - MG</p> </div> <div class=\"col-md-3 value-card\"> <div class=\"value\"> <p class=\"txt-value\">R$ 239.000</p> </div> </div> </div> <div class=\"well card\"> <div class=\"col-md-3 image-card\"> <img width=\"220\" height=\"155\" alt=\"Foto\" src=\"https://caelum-online-public.s3.amazonaws.com/1381-scraping/01/img-cars/tvr/tvr-2943925__340.jpg\"> </div> <div class=\"col-md-6 body-card\"> <p class=\"txt-name inline\">TVR</p> <p class=\"txt-category badge badge-secondary inline\">USADO</p> <p class=\"txt-motor\">Motor 4.0 Turbo</p> <p class=\"txt-description\">Ano 2014 - 17.778 km</p> <ul class=\"lst-items\"> <li class=\"txt-items\">► 4 X 4</li> <li class=\"txt-items\">► Teto panorâmico</li> <li class=\"txt-items\">► Central multimídia</li> <li class=\"txt-items\">► Controle de estabilidade</li> <li class=\"txt-items\">...</li> </ul> <p class=\"txt-location\">Belo Horizonte - MG</p> </div> <div class=\"col-md-3 value-card\"> <div class=\"value\"> <p class=\"txt-value\">R$ 115.000</p> </div> </div> </div> <div class=\"well card\"> <div class=\"col-md-3 image-card\"> <img width=\"220\" height=\"155\" alt=\"Foto\" src=\"https://caelum-online-public.s3.amazonaws.com/1381-scraping/01/img-cars/excalibur/excalibur-2916730__340.jpg\"> </div> <div class=\"col-md-6 body-card\"> <p class=\"txt-name inline\">EXCALIBUR</p> <p class=\"txt-category badge badge-secondary inline\">USADO</p> <p class=\"txt-motor\">Motor 3.0 32v</p> <p class=\"txt-description\">Ano 2009 - 81.251 km</p> <ul class=\"lst-items\"> <li class=\"txt-items\">► Painel digital</li> <li class=\"txt-items\">► Câmbio automático</li> <li class=\"txt-items\">► Sensor de chuva</li> <li class=\"txt-items\">► Travas elétricas</li> <li class=\"txt-items\">...</li> </ul> <p class=\"txt-location\">Rio de Janeiro - RJ</p> </div> <div class=\"col-md-3 value-card\"> <div class=\"value\"> <p class=\"txt-value\">R$ 114.000</p> </div> </div> </div> <div class=\"well card\"> <div class=\"col-md-3 image-card\"> <img width=\"220\" height=\"155\" alt=\"Foto\" src=\"https://caelum-online-public.s3.amazonaws.com/1381-scraping/01/img-cars/mclaren/mclaren-2855240__340.jpg\"> </div> <div class=\"col-md-6 body-card\"> <p class=\"txt-name inline\">MCLAREN</p> <p class=\"txt-category badge badge-secondary inline\">NOVO</p> <p class=\"txt-motor\">Motor Diesel</p> <p class=\"txt-description\">Ano 2019 - 0 km</p> <ul class=\"lst-items\"> <li class=\"txt-items\">► Central multimídia</li> <li class=\"txt-items\">► Câmera de estacionamento</li> <li class=\"txt-items\">► Câmbio automático</li> <li class=\"txt-items\">► Ar condicionado</li> <li class=\"txt-items\">...</li> </ul> <p class=\"txt-location\">São Paulo - SP</p> </div> <div class=\"col-md-3 value-card\"> <div class=\"value\"> <p class=\"txt-value\">R$ 75.000</p> </div> </div> </div> <div class=\"well card\"> <div class=\"col-md-3 image-card\"> <img width=\"220\" height=\"155\" alt=\"Foto\" src=\"https://caelum-online-public.s3.amazonaws.com/1381-scraping/01/img-cars/toyota/toyota-3245397__340.jpg\"> </div> <div class=\"col-md-6 body-card\"> <p class=\"txt-name inline\">TOYOTA</p> <p class=\"txt-category badge badge-secondary inline\">USADO</p> <p class=\"txt-opportunity badge badge-danger inline\">OPORTUNIDADE</p> <p class=\"txt-motor\">Motor 4.0 Turbo</p> <p class=\"txt-description\">Ano 1999 - 12.536 km</p> <ul class=\"lst-items\"> <li class=\"txt-items\">► Bancos de couro</li> <li class=\"txt-items\">► Freios ABS</li> <li class=\"txt-items\">► Piloto automático</li> <li class=\"txt-items\">► Controle de estabilidade</li> <li class=\"txt-items\">...</li> </ul> <p class=\"txt-location\">São Paulo - SP</p> </div> <div class=\"col-md-3 value-card\"> <div class=\"value\"> <p class=\"txt-value\">R$ 117.000</p> </div> </div> </div> </div> <div class=\"type-select\">246 veículos encontrados</div> <div class=\"container-pagination\" style=\"float: right\"> <span class=\"info-pages\">Página 1 de 25</span> </div> </div> </div> </div> </div> </div> <footer> <nav class=\"navbar navbar-inverse\"> <div class=\"container\" style=\"margin-bottom: 10px;\"> <div class=\"navbar\"> <a href=\"./index.php\" class=\"navbar-brand\" title=\"Alura Motors\"> <img src=\"img/alura-logo.svg\" class=\"d-inline-block align-top\" alt=\"Alura\">Motors </a> <p style=\"color: #fff; text-align: center; margin-top: 40px;\">Aplicação para treinamento de web scraping</p> </div> </div> </nav> </footer> </div> </body> </html>'"
      ]
     },
     "execution_count": 11,
     "metadata": {},
     "output_type": "execute_result"
    }
   ],
   "source": [
    "\" \".join(html.split())"
   ]
  },
  {
   "cell_type": "markdown",
   "metadata": {},
   "source": [
    "### Eliminando os espaços em branco entre as TAGS"
   ]
  },
  {
   "cell_type": "code",
   "execution_count": 12,
   "metadata": {
    "scrolled": true
   },
   "outputs": [
    {
     "data": {
      "text/plain": [
       "'<!DOCTYPE html><html lang=\"pt-br\"><head><meta charset=\"utf-8\"><meta name=\"viewport\" content=\"width=device-width, initial-scale=1, shrink-to-fit=no\"><title>Alura Motors</title><style> /*Regra para a animacao*/ @keyframes spin { 0% { transform: rotate(0deg); } 100% { transform: rotate(360deg); } } /*Mudando o tamanho do icone de resposta*/ div.glyphicon { color:#6B8E23; font-size: 38px; } /*Classe que mostra a animacao \\'spin\\'*/ .loader { border: 16px solid #f3f3f3; border-radius: 50%; border-top: 16px solid #3498db; width: 80px; height: 80px; -webkit-animation: spin 2s linear infinite; animation: spin 2s linear infinite; } </style><link rel=\"stylesheet\" href=\"https://maxcdn.bootstrapcdn.com/bootstrap/3.3.7/css/bootstrap.min.css\" integrity=\"sha384-BVYiiSIFeK1dGmJRAkycuHAHRg32OmUcww7on3RYdg4Va+PmSTsz/K68vbdEjh4u\" crossorigin=\"anonymous\"><link rel=\"stylesheet\" href=\"css/styles.css\" media=\"all\"><script src=\"https://code.jquery.com/jquery-1.12.4.js\"></script><script src=\"https://maxcdn.bootstrapcdn.com/bootstrap/3.3.7/js/bootstrap.min.js\" integrity=\"sha384-Tc5IQib027qvyjSMfHjOMaLkfuWVxZxUPnCJA7l2mCWNIpG9mGCD8wGNIcPD7Txa\" crossorigin=\"anonymous\"></script><script type=\"text/javascript\" src=\"js/index.js\"></script><script> requisitar(\"https://alura-scraping.herokuapp.com/produtos?_page=\"+1+\"&_limit=10\") </script></head><body cz-shortcut-listen=\"true\"><noscript>You need to enable JavaScript to run this app.</noscript><div class=\"modal fade\" data-backdrop=\"static\" id=\"loadingModal\" tabindex=\"-1\" role=\"dialog\" aria-labelledby=\"loadingModal_label\"><div class=\"modal-dialog\" role=\"document\"><div class=\"modal-content\"><div class=\"modal-header\"><h5 class=\"modal-title\" id=\"loadingModal_label\"><span class=\"glyphicon glyphicon-refresh\"></span>Aguarde... </h5></div><div class=\"modal-body\"><div class=\\'alert\\' role=\\'alert\\'><center><div class=\"loader\" id=\"loader\"></div><br><h4><b id=\"loadingModal_content\"></b></h4></center></div></div></div></div></div><div id=\"root\"><header><nav class=\"navbar navbar-inverse\" style=\"margin-bottom: 0;\"><div class=\"container\" style=\"margin-bottom: -20px;\"><div class=\"navbar\"><a href=\"./index.php\" class=\"navbar-brand\" title=\"Alura Motors\"><img src=\"img/alura-logo.svg\" class=\"d-inline-block align-top\" alt=\"Alura\">Motors </a><ul class=\"nav navbar-nav\" style=\"margin-top: 35px;\"><li><a href=\"./hello-world.php\">Hello World</a></li><li><a href=\"./index.php\">Anúncios</a></li></ul></div></div></nav></header><div class=\"container\"><h1 class=\"sub-header\">Veículos de Luxo Novos e Usados - Todas as Marcas</h1><div class=\"row\"><div class=\"col-md-12\"><div class=\"container\" style=\"width: 100%\"><div class=\"type-select\">246 veículos encontrados</div><div class=\"container-pagination\" style=\"float: right\"><span class=\"info-pages\">Página 1 de 25</span></div></div><div id=\"container-cards\" style=\"height: 100%\"><div class=\"well card\"><div class=\"col-md-3 image-card\"><img width=\"220\" height=\"155\" alt=\"Foto\" src=\"https://caelum-online-public.s3.amazonaws.com/1381-scraping/01/img-cars/lamborghini-aventador/lamborghini-aventador-2932196__340.jpg\"></div><div class=\"col-md-6 body-card\"><p class=\"txt-name inline\">LAMBORGHINI AVENTADOR</p><p class=\"txt-category badge badge-secondary inline\">USADO</p><p class=\"txt-motor\">Motor 1.8 16v</p><p class=\"txt-description\">Ano 1993 - 55.286 km</p><ul class=\"lst-items\"><li class=\"txt-items\">► 4 X 4</li><li class=\"txt-items\">► Câmera de estacionamento</li><li class=\"txt-items\">► Controle de tração</li><li class=\"txt-items\">► Sensor de estacionamento</li><li class=\"txt-items\">...</li></ul><p class=\"txt-location\">Belo Horizonte - MG</p></div><div class=\"col-md-3 value-card\"><div class=\"value\"><p class=\"txt-value\">R$ 338.000</p></div></div></div><div class=\"well card\"><div class=\"col-md-3 image-card\"><img width=\"220\" height=\"155\" alt=\"Foto\" src=\"https://caelum-online-public.s3.amazonaws.com/1381-scraping/01/img-cars/bmw-m2/bmw-m2-2970882__340.jpg\"></div><div class=\"col-md-6 body-card\"><p class=\"txt-name inline\">BMW M2</p><p class=\"txt-category badge badge-secondary inline\">USADO</p><p class=\"txt-motor\">Motor 3.0 32v</p><p class=\"txt-description\">Ano 2018 - 83.447 km</p><ul class=\"lst-items\"><li class=\"txt-items\">► Câmera de estacionamento</li><li class=\"txt-items\">► Controle de estabilidade</li><li class=\"txt-items\">► Travas elétricas</li><li class=\"txt-items\">► Freios ABS</li><li class=\"txt-items\">...</li></ul><p class=\"txt-location\">Belo Horizonte - MG</p></div><div class=\"col-md-3 value-card\"><div class=\"value\"><p class=\"txt-value\">R$ 346.000</p></div></div></div><div class=\"well card\"><div class=\"col-md-3 image-card\"><img width=\"220\" height=\"155\" alt=\"Foto\" src=\"https://caelum-online-public.s3.amazonaws.com/1381-scraping/01/img-cars/alfa/alfa-1823056__340.jpg\"></div><div class=\"col-md-6 body-card\"><p class=\"txt-name inline\">ALFA</p><p class=\"txt-category badge badge-secondary inline\">USADO</p><p class=\"txt-motor\">Motor 1.8 16v</p><p class=\"txt-description\">Ano 2004 - 19.722 km</p><ul class=\"lst-items\"><li class=\"txt-items\">► Central multimídia</li><li class=\"txt-items\">► Bancos de couro</li><li class=\"txt-items\">► Rodas de liga</li><li class=\"txt-items\">► Câmera de estacionamento</li><li class=\"txt-items\">...</li></ul><p class=\"txt-location\">Rio de Janeiro - RJ</p></div><div class=\"col-md-3 value-card\"><div class=\"value\"><p class=\"txt-value\">R$ 480.000</p></div></div></div><div class=\"well card\"><div class=\"col-md-3 image-card\"><img width=\"220\" height=\"155\" alt=\"Foto\" src=\"https://caelum-online-public.s3.amazonaws.com/1381-scraping/01/img-cars/puech/puech-4055386__340.jpg\"></div><div class=\"col-md-6 body-card\"><p class=\"txt-name inline\">PUECH</p><p class=\"txt-category badge badge-secondary inline\">USADO</p><p class=\"txt-motor\">Motor Diesel V8</p><p class=\"txt-description\">Ano 1992 - 34.335 km</p><ul class=\"lst-items\"><li class=\"txt-items\">► Bancos de couro</li><li class=\"txt-items\">► Freios ABS</li><li class=\"txt-items\">► Rodas de liga</li><li class=\"txt-items\">► Câmbio automático</li><li class=\"txt-items\">...</li></ul><p class=\"txt-location\">São Paulo - SP</p></div><div class=\"col-md-3 value-card\"><div class=\"value\"><p class=\"txt-value\">R$ 133.000</p></div></div></div><div class=\"well card\"><div class=\"col-md-3 image-card\"><img width=\"220\" height=\"155\" alt=\"Foto\" src=\"https://caelum-online-public.s3.amazonaws.com/1381-scraping/01/img-cars/lamborghini-murcielago/lamborghini-murcielago-2872974__340.jpg\"></div><div class=\"col-md-6 body-card\"><p class=\"txt-name inline\">LAMBORGHINI MURCIELAGO</p><p class=\"txt-category badge badge-secondary inline\">USADO</p><p class=\"txt-motor\">Motor 1.0 8v</p><p class=\"txt-description\">Ano 1991 - 464 km</p><ul class=\"lst-items\"><li class=\"txt-items\">► Central multimídia</li><li class=\"txt-items\">► Teto panorâmico</li><li class=\"txt-items\">► Sensor crepuscular</li><li class=\"txt-items\">► Piloto automático</li><li class=\"txt-items\">...</li></ul><p class=\"txt-location\">Belo Horizonte - MG</p></div><div class=\"col-md-3 value-card\"><div class=\"value\"><p class=\"txt-value\">R$ 175.000</p></div></div></div><div class=\"well card\"><div class=\"col-md-3 image-card\"><img width=\"220\" height=\"155\" alt=\"Foto\" src=\"https://caelum-online-public.s3.amazonaws.com/1381-scraping/01/img-cars/aston-martin/aston-martin-2977916__340.jpg\"></div><div class=\"col-md-6 body-card\"><p class=\"txt-name inline\">ASTON MARTIN</p><p class=\"txt-category badge badge-secondary inline\">USADO</p><p class=\"txt-opportunity badge badge-danger inline\">OPORTUNIDADE</p><p class=\"txt-motor\">Motor Diesel V6</p><p class=\"txt-description\">Ano 2004 - 50.189 km</p><ul class=\"lst-items\"><li class=\"txt-items\">► Painel digital</li><li class=\"txt-items\">► Controle de tração</li><li class=\"txt-items\">► Teto panorâmico</li><li class=\"txt-items\">► Central multimídia</li><li class=\"txt-items\">...</li></ul><p class=\"txt-location\">Belo Horizonte - MG</p></div><div class=\"col-md-3 value-card\"><div class=\"value\"><p class=\"txt-value\">R$ 239.000</p></div></div></div><div class=\"well card\"><div class=\"col-md-3 image-card\"><img width=\"220\" height=\"155\" alt=\"Foto\" src=\"https://caelum-online-public.s3.amazonaws.com/1381-scraping/01/img-cars/tvr/tvr-2943925__340.jpg\"></div><div class=\"col-md-6 body-card\"><p class=\"txt-name inline\">TVR</p><p class=\"txt-category badge badge-secondary inline\">USADO</p><p class=\"txt-motor\">Motor 4.0 Turbo</p><p class=\"txt-description\">Ano 2014 - 17.778 km</p><ul class=\"lst-items\"><li class=\"txt-items\">► 4 X 4</li><li class=\"txt-items\">► Teto panorâmico</li><li class=\"txt-items\">► Central multimídia</li><li class=\"txt-items\">► Controle de estabilidade</li><li class=\"txt-items\">...</li></ul><p class=\"txt-location\">Belo Horizonte - MG</p></div><div class=\"col-md-3 value-card\"><div class=\"value\"><p class=\"txt-value\">R$ 115.000</p></div></div></div><div class=\"well card\"><div class=\"col-md-3 image-card\"><img width=\"220\" height=\"155\" alt=\"Foto\" src=\"https://caelum-online-public.s3.amazonaws.com/1381-scraping/01/img-cars/excalibur/excalibur-2916730__340.jpg\"></div><div class=\"col-md-6 body-card\"><p class=\"txt-name inline\">EXCALIBUR</p><p class=\"txt-category badge badge-secondary inline\">USADO</p><p class=\"txt-motor\">Motor 3.0 32v</p><p class=\"txt-description\">Ano 2009 - 81.251 km</p><ul class=\"lst-items\"><li class=\"txt-items\">► Painel digital</li><li class=\"txt-items\">► Câmbio automático</li><li class=\"txt-items\">► Sensor de chuva</li><li class=\"txt-items\">► Travas elétricas</li><li class=\"txt-items\">...</li></ul><p class=\"txt-location\">Rio de Janeiro - RJ</p></div><div class=\"col-md-3 value-card\"><div class=\"value\"><p class=\"txt-value\">R$ 114.000</p></div></div></div><div class=\"well card\"><div class=\"col-md-3 image-card\"><img width=\"220\" height=\"155\" alt=\"Foto\" src=\"https://caelum-online-public.s3.amazonaws.com/1381-scraping/01/img-cars/mclaren/mclaren-2855240__340.jpg\"></div><div class=\"col-md-6 body-card\"><p class=\"txt-name inline\">MCLAREN</p><p class=\"txt-category badge badge-secondary inline\">NOVO</p><p class=\"txt-motor\">Motor Diesel</p><p class=\"txt-description\">Ano 2019 - 0 km</p><ul class=\"lst-items\"><li class=\"txt-items\">► Central multimídia</li><li class=\"txt-items\">► Câmera de estacionamento</li><li class=\"txt-items\">► Câmbio automático</li><li class=\"txt-items\">► Ar condicionado</li><li class=\"txt-items\">...</li></ul><p class=\"txt-location\">São Paulo - SP</p></div><div class=\"col-md-3 value-card\"><div class=\"value\"><p class=\"txt-value\">R$ 75.000</p></div></div></div><div class=\"well card\"><div class=\"col-md-3 image-card\"><img width=\"220\" height=\"155\" alt=\"Foto\" src=\"https://caelum-online-public.s3.amazonaws.com/1381-scraping/01/img-cars/toyota/toyota-3245397__340.jpg\"></div><div class=\"col-md-6 body-card\"><p class=\"txt-name inline\">TOYOTA</p><p class=\"txt-category badge badge-secondary inline\">USADO</p><p class=\"txt-opportunity badge badge-danger inline\">OPORTUNIDADE</p><p class=\"txt-motor\">Motor 4.0 Turbo</p><p class=\"txt-description\">Ano 1999 - 12.536 km</p><ul class=\"lst-items\"><li class=\"txt-items\">► Bancos de couro</li><li class=\"txt-items\">► Freios ABS</li><li class=\"txt-items\">► Piloto automático</li><li class=\"txt-items\">► Controle de estabilidade</li><li class=\"txt-items\">...</li></ul><p class=\"txt-location\">São Paulo - SP</p></div><div class=\"col-md-3 value-card\"><div class=\"value\"><p class=\"txt-value\">R$ 117.000</p></div></div></div></div><div class=\"type-select\">246 veículos encontrados</div><div class=\"container-pagination\" style=\"float: right\"><span class=\"info-pages\">Página 1 de 25</span></div></div></div></div></div></div><footer><nav class=\"navbar navbar-inverse\"><div class=\"container\" style=\"margin-bottom: 10px;\"><div class=\"navbar\"><a href=\"./index.php\" class=\"navbar-brand\" title=\"Alura Motors\"><img src=\"img/alura-logo.svg\" class=\"d-inline-block align-top\" alt=\"Alura\">Motors </a><p style=\"color: #fff; text-align: center; margin-top: 40px;\">Aplicação para treinamento de web scraping</p></div></div></nav></footer></div></body></html>'"
      ]
     },
     "execution_count": 12,
     "metadata": {},
     "output_type": "execute_result"
    }
   ],
   "source": [
    "\" \".join(html.split()).replace('> <', '><')"
   ]
  },
  {
   "cell_type": "markdown",
   "metadata": {},
   "source": [
    "### Função de tratamento de strings"
   ]
  },
  {
   "cell_type": "code",
   "execution_count": 13,
   "metadata": {},
   "outputs": [],
   "source": [
    "def trata_html(input):\n",
    "    return \" \".join(input.split()).replace('> <', '><')"
   ]
  },
  {
   "cell_type": "code",
   "execution_count": 14,
   "metadata": {},
   "outputs": [
    {
     "data": {
      "text/plain": [
       "'<!DOCTYPE html>\\r\\n<html lang=\"pt-br\">\\r\\n<head>\\r\\n    <meta charset=\"utf-8\">\\r\\n    <meta name=\"viewport\" content=\"width=device-width, initial-scale=1, shrink-to-fit=no\">\\r\\n\\r\\n    <title>Alura Motors</title>\\r\\n\\r\\n\\t<style>\\r\\n\\t\\t/*Regra para a animacao*/\\r\\n\\t\\t@keyframes spin {\\r\\n\\t\\t\\t0% { transform: rotate(0deg); }\\r\\n\\t\\t\\t100% { transform: rotate(360deg); }\\r\\n\\t\\t}\\r\\n\\t\\t/*Mudando o tamanho do icone de resposta*/\\r\\n\\t\\tdiv.glyphicon {\\r\\n\\t\\t\\tcolor:#6B8E23;\\r\\n\\t\\t\\tfont-size: 38px;\\r\\n\\t\\t}\\r\\n\\t\\t/*Classe que mostra a animacao \\'spin\\'*/\\r\\n\\t\\t.loader {\\r\\n\\t\\t\\tborder: 16px solid #f3f3f3;\\r\\n\\t\\t\\tborder-radius: 50%;\\r\\n\\t\\t\\tborder-top: 16px solid #3498db;\\r\\n\\t\\t\\twidth: 80px;\\r\\n\\t\\t\\theight: 80px;\\r\\n\\t\\t\\t-webkit-animation: spin 2s linear infinite;\\r\\n\\t\\t\\tanimation: spin 2s linear infinite;\\r\\n\\t\\t}\\r\\n\\t</style>\\r\\n\\t<link rel=\"stylesheet\" href=\"https://maxcdn.bootstrapcdn.com/bootstrap/3.3.7/css/bootstrap.min.css\" integrity=\"sha384-BVYiiSIFeK1dGmJRAkycuHAHRg32OmUcww7on3RYdg4Va+PmSTsz/K68vbdEjh4u\" crossorigin=\"anonymous\">\\r\\n\\t<link rel=\"stylesheet\" href=\"css/styles.css\" media=\"all\">\\r\\n\\r\\n\\t<script src=\"https://code.jquery.com/jquery-1.12.4.js\"></script>\\r\\n\\t<script src=\"https://maxcdn.bootstrapcdn.com/bootstrap/3.3.7/js/bootstrap.min.js\" integrity=\"sha384-Tc5IQib027qvyjSMfHjOMaLkfuWVxZxUPnCJA7l2mCWNIpG9mGCD8wGNIcPD7Txa\" crossorigin=\"anonymous\"></script>\\r\\n\\t<script type=\"text/javascript\" src=\"js/index.js\"></script>\\r\\n\\t<script>\\r\\n\\t\\trequisitar(\"https://alura-scraping.herokuapp.com/produtos?_page=\"+1+\"&_limit=10\")\\r\\n\\t</script>\\r\\n\\r\\n</head>\\r\\n<body cz-shortcut-listen=\"true\">\\r\\n    <noscript>You need to enable JavaScript to run this app.</noscript>\\r\\n\\r\\n\\t<div class=\"modal fade\" data-backdrop=\"static\" id=\"loadingModal\" tabindex=\"-1\" role=\"dialog\" aria-labelledby=\"loadingModal_label\">\\r\\n\\t\\t<div class=\"modal-dialog\" role=\"document\">\\r\\n\\t\\t\\t<div class=\"modal-content\">\\r\\n\\t\\t\\t\\t<div class=\"modal-header\">\\r\\n\\t\\t\\t\\t\\t<h5 class=\"modal-title\" id=\"loadingModal_label\">\\r\\n\\t\\t\\t\\t\\t\\t<span class=\"glyphicon glyphicon-refresh\"></span>Aguarde...\\r\\n\\t\\t\\t\\t\\t</h5>\\r\\n\\t\\t\\t\\t</div>\\r\\n\\t\\t\\t\\t<div class=\"modal-body\">\\r\\n\\t\\t\\t\\t\\t<div class=\\'alert\\' role=\\'alert\\'>\\r\\n\\t\\t\\t\\t\\t\\t<center>\\r\\n\\t\\t\\t\\t\\t\\t\\t<div class=\"loader\" id=\"loader\"></div><br>\\r\\n\\t\\t\\t\\t\\t\\t\\t<h4><b id=\"loadingModal_content\"></b></h4>\\r\\n\\t\\t\\t\\t\\t\\t</center>\\r\\n\\t\\t\\t\\t\\t</div>\\r\\n\\t\\t\\t\\t</div>\\r\\n\\t\\t\\t</div>\\r\\n\\t\\t</div>\\r\\n\\t</div>\\r\\n\\r\\n    <div id=\"root\">\\r\\n\\t\\t<header>\\r\\n\\t\\t\\t<nav class=\"navbar navbar-inverse\" style=\"margin-bottom: 0;\">\\r\\n\\t\\t\\t\\t<div class=\"container\" style=\"margin-bottom: -20px;\">\\r\\n\\t\\t\\t\\t\\t<div class=\"navbar\">\\r\\n\\t\\t\\t\\t\\t\\t<a href=\"./index.php\" class=\"navbar-brand\" title=\"Alura Motors\">\\r\\n\\t\\t\\t\\t\\t\\t\\t<img src=\"img/alura-logo.svg\" class=\"d-inline-block align-top\" alt=\"Alura\">Motors\\r\\n\\t\\t\\t\\t\\t\\t</a>\\r\\n\\t\\t\\t\\t\\t\\t<ul class=\"nav navbar-nav\" style=\"margin-top: 35px;\">\\r\\n\\t\\t\\t\\t\\t\\t\\t<li><a href=\"./hello-world.php\">Hello World</a></li>\\r\\n\\t\\t\\t\\t\\t\\t\\t<li><a href=\"./index.php\">Anúncios</a></li>\\r\\n\\t\\t\\t\\t\\t\\t</ul>\\r\\n\\t\\t\\t\\t\\t</div>\\r\\n\\t\\t\\t\\t</div>\\r\\n\\t\\t\\t</nav>\\r\\n\\t\\t</header>\\r\\n\\r\\n\\t\\t<div class=\"container\">\\r\\n\\t\\t\\t<h1 class=\"sub-header\">Veículos de Luxo Novos e Usados - Todas as Marcas</h1>\\r\\n\\t\\t\\t<div class=\"row\">\\r\\n\\t\\t\\t\\t<div class=\"col-md-12\">\\r\\n\\t\\t\\t\\t\\t<div class=\"container\" style=\"width: 100%\">\\r\\n\\t\\t\\t\\t\\t\\t<div class=\"type-select\">246 veículos encontrados</div>\\r\\n\\t\\t\\t\\t\\t\\t\\t<div class=\"container-pagination\" style=\"float: right\">\\r\\n\\t\\t\\t\\t\\t\\t\\t\\t<span class=\"info-pages\">Página 1 de 25</span>\\r\\n\\t\\t\\t\\t\\t\\t\\t</div>\\r\\n\\t\\t\\t\\t\\t\\t</div>\\r\\n\\t\\t\\t\\t\\t\\t<div id=\"container-cards\" style=\"height: 100%\">\\r\\n\\t\\t\\t\\t\\t\\t\\t\\r\\n                <div class=\"well card\">\\r\\n                    <div class=\"col-md-3 image-card\">\\r\\n                        <img width=\"220\" height=\"155\" alt=\"Foto\" src=\"https://caelum-online-public.s3.amazonaws.com/1381-scraping/01/img-cars/lamborghini-aventador/lamborghini-aventador-2932196__340.jpg\">\\r\\n                    </div>\\r\\n                    <div class=\"col-md-6 body-card\">\\r\\n                        <p class=\"txt-name inline\">LAMBORGHINI AVENTADOR</p>\\r\\n                            <p class=\"txt-category badge badge-secondary inline\">USADO</p>\\r\\n                            \\r\\n                        <p class=\"txt-motor\">Motor 1.8 16v</p>\\r\\n                        <p class=\"txt-description\">Ano 1993 - 55.286 km</p>\\r\\n                        <ul class=\"lst-items\">\\r\\n                            <li class=\"txt-items\">► 4 X 4</li>\\r\\n                            <li class=\"txt-items\">► Câmera de estacionamento</li>\\r\\n                            <li class=\"txt-items\">► Controle de tração</li>\\r\\n                            <li class=\"txt-items\">► Sensor de estacionamento</li>\\r\\n                            <li class=\"txt-items\">...</li>\\r\\n                        </ul>\\r\\n                        <p class=\"txt-location\">Belo Horizonte - MG</p>\\r\\n                    </div>\\r\\n                    <div class=\"col-md-3 value-card\">\\r\\n                        <div class=\"value\">\\r\\n                            <p class=\"txt-value\">R$ 338.000</p>\\r\\n                        </div>\\r\\n                    </div>\\r\\n                </div>\\r\\n                <div class=\"well card\">\\r\\n                    <div class=\"col-md-3 image-card\">\\r\\n                        <img width=\"220\" height=\"155\" alt=\"Foto\" src=\"https://caelum-online-public.s3.amazonaws.com/1381-scraping/01/img-cars/bmw-m2/bmw-m2-2970882__340.jpg\">\\r\\n                    </div>\\r\\n                    <div class=\"col-md-6 body-card\">\\r\\n                        <p class=\"txt-name inline\">BMW M2</p>\\r\\n                            <p class=\"txt-category badge badge-secondary inline\">USADO</p>\\r\\n                            \\r\\n                        <p class=\"txt-motor\">Motor 3.0 32v</p>\\r\\n                        <p class=\"txt-description\">Ano 2018 - 83.447 km</p>\\r\\n                        <ul class=\"lst-items\">\\r\\n                            <li class=\"txt-items\">► Câmera de estacionamento</li>\\r\\n                            <li class=\"txt-items\">► Controle de estabilidade</li>\\r\\n                            <li class=\"txt-items\">► Travas elétricas</li>\\r\\n                            <li class=\"txt-items\">► Freios ABS</li>\\r\\n                            <li class=\"txt-items\">...</li>\\r\\n                        </ul>\\r\\n                        <p class=\"txt-location\">Belo Horizonte - MG</p>\\r\\n                    </div>\\r\\n                    <div class=\"col-md-3 value-card\">\\r\\n                        <div class=\"value\">\\r\\n                            <p class=\"txt-value\">R$ 346.000</p>\\r\\n                        </div>\\r\\n                    </div>\\r\\n                </div>\\r\\n                <div class=\"well card\">\\r\\n                    <div class=\"col-md-3 image-card\">\\r\\n                        <img width=\"220\" height=\"155\" alt=\"Foto\" src=\"https://caelum-online-public.s3.amazonaws.com/1381-scraping/01/img-cars/alfa/alfa-1823056__340.jpg\">\\r\\n                    </div>\\r\\n                    <div class=\"col-md-6 body-card\">\\r\\n                        <p class=\"txt-name inline\">ALFA</p>\\r\\n                            <p class=\"txt-category badge badge-secondary inline\">USADO</p>\\r\\n                            \\r\\n                        <p class=\"txt-motor\">Motor 1.8 16v</p>\\r\\n                        <p class=\"txt-description\">Ano 2004 - 19.722 km</p>\\r\\n                        <ul class=\"lst-items\">\\r\\n                            <li class=\"txt-items\">► Central multimídia</li>\\r\\n                            <li class=\"txt-items\">► Bancos de couro</li>\\r\\n                            <li class=\"txt-items\">► Rodas de liga</li>\\r\\n                            <li class=\"txt-items\">► Câmera de estacionamento</li>\\r\\n                            <li class=\"txt-items\">...</li>\\r\\n                        </ul>\\r\\n                        <p class=\"txt-location\">Rio de Janeiro - RJ</p>\\r\\n                    </div>\\r\\n                    <div class=\"col-md-3 value-card\">\\r\\n                        <div class=\"value\">\\r\\n                            <p class=\"txt-value\">R$ 480.000</p>\\r\\n                        </div>\\r\\n                    </div>\\r\\n                </div>\\r\\n                <div class=\"well card\">\\r\\n                    <div class=\"col-md-3 image-card\">\\r\\n                        <img width=\"220\" height=\"155\" alt=\"Foto\" src=\"https://caelum-online-public.s3.amazonaws.com/1381-scraping/01/img-cars/puech/puech-4055386__340.jpg\">\\r\\n                    </div>\\r\\n                    <div class=\"col-md-6 body-card\">\\r\\n                        <p class=\"txt-name inline\">PUECH</p>\\r\\n                            <p class=\"txt-category badge badge-secondary inline\">USADO</p>\\r\\n                            \\r\\n                        <p class=\"txt-motor\">Motor Diesel V8</p>\\r\\n                        <p class=\"txt-description\">Ano 1992 - 34.335 km</p>\\r\\n                        <ul class=\"lst-items\">\\r\\n                            <li class=\"txt-items\">► Bancos de couro</li>\\r\\n                            <li class=\"txt-items\">► Freios ABS</li>\\r\\n                            <li class=\"txt-items\">► Rodas de liga</li>\\r\\n                            <li class=\"txt-items\">► Câmbio automático</li>\\r\\n                            <li class=\"txt-items\">...</li>\\r\\n                        </ul>\\r\\n                        <p class=\"txt-location\">São Paulo - SP</p>\\r\\n                    </div>\\r\\n                    <div class=\"col-md-3 value-card\">\\r\\n                        <div class=\"value\">\\r\\n                            <p class=\"txt-value\">R$ 133.000</p>\\r\\n                        </div>\\r\\n                    </div>\\r\\n                </div>\\r\\n                <div class=\"well card\">\\r\\n                    <div class=\"col-md-3 image-card\">\\r\\n                        <img width=\"220\" height=\"155\" alt=\"Foto\" src=\"https://caelum-online-public.s3.amazonaws.com/1381-scraping/01/img-cars/lamborghini-murcielago/lamborghini-murcielago-2872974__340.jpg\">\\r\\n                    </div>\\r\\n                    <div class=\"col-md-6 body-card\">\\r\\n                        <p class=\"txt-name inline\">LAMBORGHINI MURCIELAGO</p>\\r\\n                            <p class=\"txt-category badge badge-secondary inline\">USADO</p>\\r\\n                            \\r\\n                        <p class=\"txt-motor\">Motor 1.0 8v</p>\\r\\n                        <p class=\"txt-description\">Ano 1991 - 464 km</p>\\r\\n                        <ul class=\"lst-items\">\\r\\n                            <li class=\"txt-items\">► Central multimídia</li>\\r\\n                            <li class=\"txt-items\">► Teto panorâmico</li>\\r\\n                            <li class=\"txt-items\">► Sensor crepuscular</li>\\r\\n                            <li class=\"txt-items\">► Piloto automático</li>\\r\\n                            <li class=\"txt-items\">...</li>\\r\\n                        </ul>\\r\\n                        <p class=\"txt-location\">Belo Horizonte - MG</p>\\r\\n                    </div>\\r\\n                    <div class=\"col-md-3 value-card\">\\r\\n                        <div class=\"value\">\\r\\n                            <p class=\"txt-value\">R$ 175.000</p>\\r\\n                        </div>\\r\\n                    </div>\\r\\n                </div>\\r\\n                <div class=\"well card\">\\r\\n                    <div class=\"col-md-3 image-card\">\\r\\n                        <img width=\"220\" height=\"155\" alt=\"Foto\" src=\"https://caelum-online-public.s3.amazonaws.com/1381-scraping/01/img-cars/aston-martin/aston-martin-2977916__340.jpg\">\\r\\n                    </div>\\r\\n                    <div class=\"col-md-6 body-card\">\\r\\n                        <p class=\"txt-name inline\">ASTON MARTIN</p>\\r\\n                            <p class=\"txt-category badge badge-secondary inline\">USADO</p>\\r\\n                            <p class=\"txt-opportunity badge badge-danger inline\">OPORTUNIDADE</p>\\r\\n                        <p class=\"txt-motor\">Motor Diesel V6</p>\\r\\n                        <p class=\"txt-description\">Ano 2004 - 50.189 km</p>\\r\\n                        <ul class=\"lst-items\">\\r\\n                            <li class=\"txt-items\">► Painel digital</li>\\r\\n                            <li class=\"txt-items\">► Controle de tração</li>\\r\\n                            <li class=\"txt-items\">► Teto panorâmico</li>\\r\\n                            <li class=\"txt-items\">► Central multimídia</li>\\r\\n                            <li class=\"txt-items\">...</li>\\r\\n                        </ul>\\r\\n                        <p class=\"txt-location\">Belo Horizonte - MG</p>\\r\\n                    </div>\\r\\n                    <div class=\"col-md-3 value-card\">\\r\\n                        <div class=\"value\">\\r\\n                            <p class=\"txt-value\">R$ 239.000</p>\\r\\n                        </div>\\r\\n                    </div>\\r\\n                </div>\\r\\n                <div class=\"well card\">\\r\\n                    <div class=\"col-md-3 image-card\">\\r\\n                        <img width=\"220\" height=\"155\" alt=\"Foto\" src=\"https://caelum-online-public.s3.amazonaws.com/1381-scraping/01/img-cars/tvr/tvr-2943925__340.jpg\">\\r\\n                    </div>\\r\\n                    <div class=\"col-md-6 body-card\">\\r\\n                        <p class=\"txt-name inline\">TVR</p>\\r\\n                            <p class=\"txt-category badge badge-secondary inline\">USADO</p>\\r\\n                            \\r\\n                        <p class=\"txt-motor\">Motor 4.0 Turbo</p>\\r\\n                        <p class=\"txt-description\">Ano 2014 - 17.778 km</p>\\r\\n                        <ul class=\"lst-items\">\\r\\n                            <li class=\"txt-items\">► 4 X 4</li>\\r\\n                            <li class=\"txt-items\">► Teto panorâmico</li>\\r\\n                            <li class=\"txt-items\">► Central multimídia</li>\\r\\n                            <li class=\"txt-items\">► Controle de estabilidade</li>\\r\\n                            <li class=\"txt-items\">...</li>\\r\\n                        </ul>\\r\\n                        <p class=\"txt-location\">Belo Horizonte - MG</p>\\r\\n                    </div>\\r\\n                    <div class=\"col-md-3 value-card\">\\r\\n                        <div class=\"value\">\\r\\n                            <p class=\"txt-value\">R$ 115.000</p>\\r\\n                        </div>\\r\\n                    </div>\\r\\n                </div>\\r\\n                <div class=\"well card\">\\r\\n                    <div class=\"col-md-3 image-card\">\\r\\n                        <img width=\"220\" height=\"155\" alt=\"Foto\" src=\"https://caelum-online-public.s3.amazonaws.com/1381-scraping/01/img-cars/excalibur/excalibur-2916730__340.jpg\">\\r\\n                    </div>\\r\\n                    <div class=\"col-md-6 body-card\">\\r\\n                        <p class=\"txt-name inline\">EXCALIBUR</p>\\r\\n                            <p class=\"txt-category badge badge-secondary inline\">USADO</p>\\r\\n                            \\r\\n                        <p class=\"txt-motor\">Motor 3.0 32v</p>\\r\\n                        <p class=\"txt-description\">Ano 2009 - 81.251 km</p>\\r\\n                        <ul class=\"lst-items\">\\r\\n                            <li class=\"txt-items\">► Painel digital</li>\\r\\n                            <li class=\"txt-items\">► Câmbio automático</li>\\r\\n                            <li class=\"txt-items\">► Sensor de chuva</li>\\r\\n                            <li class=\"txt-items\">► Travas elétricas</li>\\r\\n                            <li class=\"txt-items\">...</li>\\r\\n                        </ul>\\r\\n                        <p class=\"txt-location\">Rio de Janeiro - RJ</p>\\r\\n                    </div>\\r\\n                    <div class=\"col-md-3 value-card\">\\r\\n                        <div class=\"value\">\\r\\n                            <p class=\"txt-value\">R$ 114.000</p>\\r\\n                        </div>\\r\\n                    </div>\\r\\n                </div>\\r\\n                <div class=\"well card\">\\r\\n                    <div class=\"col-md-3 image-card\">\\r\\n                        <img width=\"220\" height=\"155\" alt=\"Foto\" src=\"https://caelum-online-public.s3.amazonaws.com/1381-scraping/01/img-cars/mclaren/mclaren-2855240__340.jpg\">\\r\\n                    </div>\\r\\n                    <div class=\"col-md-6 body-card\">\\r\\n                        <p class=\"txt-name inline\">MCLAREN</p>\\r\\n                            <p class=\"txt-category badge badge-secondary inline\">NOVO</p>\\r\\n                            \\r\\n                        <p class=\"txt-motor\">Motor Diesel</p>\\r\\n                        <p class=\"txt-description\">Ano 2019 - 0 km</p>\\r\\n                        <ul class=\"lst-items\">\\r\\n                            <li class=\"txt-items\">► Central multimídia</li>\\r\\n                            <li class=\"txt-items\">► Câmera de estacionamento</li>\\r\\n                            <li class=\"txt-items\">► Câmbio automático</li>\\r\\n                            <li class=\"txt-items\">► Ar condicionado</li>\\r\\n                            <li class=\"txt-items\">...</li>\\r\\n                        </ul>\\r\\n                        <p class=\"txt-location\">São Paulo - SP</p>\\r\\n                    </div>\\r\\n                    <div class=\"col-md-3 value-card\">\\r\\n                        <div class=\"value\">\\r\\n                            <p class=\"txt-value\">R$ 75.000</p>\\r\\n                        </div>\\r\\n                    </div>\\r\\n                </div>\\r\\n                <div class=\"well card\">\\r\\n                    <div class=\"col-md-3 image-card\">\\r\\n                        <img width=\"220\" height=\"155\" alt=\"Foto\" src=\"https://caelum-online-public.s3.amazonaws.com/1381-scraping/01/img-cars/toyota/toyota-3245397__340.jpg\">\\r\\n                    </div>\\r\\n                    <div class=\"col-md-6 body-card\">\\r\\n                        <p class=\"txt-name inline\">TOYOTA</p>\\r\\n                            <p class=\"txt-category badge badge-secondary inline\">USADO</p>\\r\\n                            <p class=\"txt-opportunity badge badge-danger inline\">OPORTUNIDADE</p>\\r\\n                        <p class=\"txt-motor\">Motor 4.0 Turbo</p>\\r\\n                        <p class=\"txt-description\">Ano 1999 - 12.536 km</p>\\r\\n                        <ul class=\"lst-items\">\\r\\n                            <li class=\"txt-items\">► Bancos de couro</li>\\r\\n                            <li class=\"txt-items\">► Freios ABS</li>\\r\\n                            <li class=\"txt-items\">► Piloto automático</li>\\r\\n                            <li class=\"txt-items\">► Controle de estabilidade</li>\\r\\n                            <li class=\"txt-items\">...</li>\\r\\n                        </ul>\\r\\n                        <p class=\"txt-location\">São Paulo - SP</p>\\r\\n                    </div>\\r\\n                    <div class=\"col-md-3 value-card\">\\r\\n                        <div class=\"value\">\\r\\n                            <p class=\"txt-value\">R$ 117.000</p>\\r\\n                        </div>\\r\\n                    </div>\\r\\n                </div>\\t\\t\\t\\t\\t\\t</div>\\r\\n\\t\\t\\t\\t\\t\\t<div class=\"type-select\">246 veículos encontrados</div>\\r\\n\\t\\t\\t\\t\\t\\t\\t<div class=\"container-pagination\" style=\"float: right\">\\r\\n\\t\\t\\t\\t\\t\\t\\t\\t<span class=\"info-pages\">Página 1 de 25</span>\\r\\n\\t\\t\\t\\t\\t\\t\\t</div>\\r\\n\\t\\t\\t\\t\\t\\t</div>\\r\\n\\t\\t\\t\\t\\t</div>\\r\\n\\t\\t\\t\\t</div>\\r\\n\\t\\t\\t</div>\\r\\n\\t\\t</div>\\r\\n\\r\\n\\t\\t<footer>\\r\\n\\t\\t\\t<nav class=\"navbar navbar-inverse\">\\r\\n\\t\\t\\t\\t<div class=\"container\" style=\"margin-bottom: 10px;\">\\r\\n\\t\\t\\t\\t\\t<div class=\"navbar\">\\r\\n\\t\\t\\t\\t\\t\\t<a href=\"./index.php\" class=\"navbar-brand\" title=\"Alura Motors\">\\r\\n\\t\\t\\t\\t\\t\\t\\t<img src=\"img/alura-logo.svg\" class=\"d-inline-block align-top\" alt=\"Alura\">Motors\\r\\n\\t\\t\\t\\t\\t\\t</a>\\r\\n\\t\\t\\t\\t\\t\\t<p style=\"color: #fff; text-align: center; margin-top: 40px;\">Aplicação para treinamento de web scraping</p>\\r\\n\\t\\t\\t\\t\\t</div>\\r\\n\\t\\t\\t\\t</div>\\r\\n\\t\\t\\t</nav>\\r\\n\\t\\t</footer>\\r\\n\\r\\n\\t</div>\\r\\n\\r\\n</body>\\r\\n</html>\\r\\n'"
      ]
     },
     "execution_count": 14,
     "metadata": {},
     "output_type": "execute_result"
    }
   ],
   "source": [
    "html"
   ]
  },
  {
   "cell_type": "code",
   "execution_count": 15,
   "metadata": {
    "scrolled": true
   },
   "outputs": [
    {
     "data": {
      "text/plain": [
       "'<!DOCTYPE html><html lang=\"pt-br\"><head><meta charset=\"utf-8\"><meta name=\"viewport\" content=\"width=device-width, initial-scale=1, shrink-to-fit=no\"><title>Alura Motors</title><style> /*Regra para a animacao*/ @keyframes spin { 0% { transform: rotate(0deg); } 100% { transform: rotate(360deg); } } /*Mudando o tamanho do icone de resposta*/ div.glyphicon { color:#6B8E23; font-size: 38px; } /*Classe que mostra a animacao \\'spin\\'*/ .loader { border: 16px solid #f3f3f3; border-radius: 50%; border-top: 16px solid #3498db; width: 80px; height: 80px; -webkit-animation: spin 2s linear infinite; animation: spin 2s linear infinite; } </style><link rel=\"stylesheet\" href=\"https://maxcdn.bootstrapcdn.com/bootstrap/3.3.7/css/bootstrap.min.css\" integrity=\"sha384-BVYiiSIFeK1dGmJRAkycuHAHRg32OmUcww7on3RYdg4Va+PmSTsz/K68vbdEjh4u\" crossorigin=\"anonymous\"><link rel=\"stylesheet\" href=\"css/styles.css\" media=\"all\"><script src=\"https://code.jquery.com/jquery-1.12.4.js\"></script><script src=\"https://maxcdn.bootstrapcdn.com/bootstrap/3.3.7/js/bootstrap.min.js\" integrity=\"sha384-Tc5IQib027qvyjSMfHjOMaLkfuWVxZxUPnCJA7l2mCWNIpG9mGCD8wGNIcPD7Txa\" crossorigin=\"anonymous\"></script><script type=\"text/javascript\" src=\"js/index.js\"></script><script> requisitar(\"https://alura-scraping.herokuapp.com/produtos?_page=\"+1+\"&_limit=10\") </script></head><body cz-shortcut-listen=\"true\"><noscript>You need to enable JavaScript to run this app.</noscript><div class=\"modal fade\" data-backdrop=\"static\" id=\"loadingModal\" tabindex=\"-1\" role=\"dialog\" aria-labelledby=\"loadingModal_label\"><div class=\"modal-dialog\" role=\"document\"><div class=\"modal-content\"><div class=\"modal-header\"><h5 class=\"modal-title\" id=\"loadingModal_label\"><span class=\"glyphicon glyphicon-refresh\"></span>Aguarde... </h5></div><div class=\"modal-body\"><div class=\\'alert\\' role=\\'alert\\'><center><div class=\"loader\" id=\"loader\"></div><br><h4><b id=\"loadingModal_content\"></b></h4></center></div></div></div></div></div><div id=\"root\"><header><nav class=\"navbar navbar-inverse\" style=\"margin-bottom: 0;\"><div class=\"container\" style=\"margin-bottom: -20px;\"><div class=\"navbar\"><a href=\"./index.php\" class=\"navbar-brand\" title=\"Alura Motors\"><img src=\"img/alura-logo.svg\" class=\"d-inline-block align-top\" alt=\"Alura\">Motors </a><ul class=\"nav navbar-nav\" style=\"margin-top: 35px;\"><li><a href=\"./hello-world.php\">Hello World</a></li><li><a href=\"./index.php\">Anúncios</a></li></ul></div></div></nav></header><div class=\"container\"><h1 class=\"sub-header\">Veículos de Luxo Novos e Usados - Todas as Marcas</h1><div class=\"row\"><div class=\"col-md-12\"><div class=\"container\" style=\"width: 100%\"><div class=\"type-select\">246 veículos encontrados</div><div class=\"container-pagination\" style=\"float: right\"><span class=\"info-pages\">Página 1 de 25</span></div></div><div id=\"container-cards\" style=\"height: 100%\"><div class=\"well card\"><div class=\"col-md-3 image-card\"><img width=\"220\" height=\"155\" alt=\"Foto\" src=\"https://caelum-online-public.s3.amazonaws.com/1381-scraping/01/img-cars/lamborghini-aventador/lamborghini-aventador-2932196__340.jpg\"></div><div class=\"col-md-6 body-card\"><p class=\"txt-name inline\">LAMBORGHINI AVENTADOR</p><p class=\"txt-category badge badge-secondary inline\">USADO</p><p class=\"txt-motor\">Motor 1.8 16v</p><p class=\"txt-description\">Ano 1993 - 55.286 km</p><ul class=\"lst-items\"><li class=\"txt-items\">► 4 X 4</li><li class=\"txt-items\">► Câmera de estacionamento</li><li class=\"txt-items\">► Controle de tração</li><li class=\"txt-items\">► Sensor de estacionamento</li><li class=\"txt-items\">...</li></ul><p class=\"txt-location\">Belo Horizonte - MG</p></div><div class=\"col-md-3 value-card\"><div class=\"value\"><p class=\"txt-value\">R$ 338.000</p></div></div></div><div class=\"well card\"><div class=\"col-md-3 image-card\"><img width=\"220\" height=\"155\" alt=\"Foto\" src=\"https://caelum-online-public.s3.amazonaws.com/1381-scraping/01/img-cars/bmw-m2/bmw-m2-2970882__340.jpg\"></div><div class=\"col-md-6 body-card\"><p class=\"txt-name inline\">BMW M2</p><p class=\"txt-category badge badge-secondary inline\">USADO</p><p class=\"txt-motor\">Motor 3.0 32v</p><p class=\"txt-description\">Ano 2018 - 83.447 km</p><ul class=\"lst-items\"><li class=\"txt-items\">► Câmera de estacionamento</li><li class=\"txt-items\">► Controle de estabilidade</li><li class=\"txt-items\">► Travas elétricas</li><li class=\"txt-items\">► Freios ABS</li><li class=\"txt-items\">...</li></ul><p class=\"txt-location\">Belo Horizonte - MG</p></div><div class=\"col-md-3 value-card\"><div class=\"value\"><p class=\"txt-value\">R$ 346.000</p></div></div></div><div class=\"well card\"><div class=\"col-md-3 image-card\"><img width=\"220\" height=\"155\" alt=\"Foto\" src=\"https://caelum-online-public.s3.amazonaws.com/1381-scraping/01/img-cars/alfa/alfa-1823056__340.jpg\"></div><div class=\"col-md-6 body-card\"><p class=\"txt-name inline\">ALFA</p><p class=\"txt-category badge badge-secondary inline\">USADO</p><p class=\"txt-motor\">Motor 1.8 16v</p><p class=\"txt-description\">Ano 2004 - 19.722 km</p><ul class=\"lst-items\"><li class=\"txt-items\">► Central multimídia</li><li class=\"txt-items\">► Bancos de couro</li><li class=\"txt-items\">► Rodas de liga</li><li class=\"txt-items\">► Câmera de estacionamento</li><li class=\"txt-items\">...</li></ul><p class=\"txt-location\">Rio de Janeiro - RJ</p></div><div class=\"col-md-3 value-card\"><div class=\"value\"><p class=\"txt-value\">R$ 480.000</p></div></div></div><div class=\"well card\"><div class=\"col-md-3 image-card\"><img width=\"220\" height=\"155\" alt=\"Foto\" src=\"https://caelum-online-public.s3.amazonaws.com/1381-scraping/01/img-cars/puech/puech-4055386__340.jpg\"></div><div class=\"col-md-6 body-card\"><p class=\"txt-name inline\">PUECH</p><p class=\"txt-category badge badge-secondary inline\">USADO</p><p class=\"txt-motor\">Motor Diesel V8</p><p class=\"txt-description\">Ano 1992 - 34.335 km</p><ul class=\"lst-items\"><li class=\"txt-items\">► Bancos de couro</li><li class=\"txt-items\">► Freios ABS</li><li class=\"txt-items\">► Rodas de liga</li><li class=\"txt-items\">► Câmbio automático</li><li class=\"txt-items\">...</li></ul><p class=\"txt-location\">São Paulo - SP</p></div><div class=\"col-md-3 value-card\"><div class=\"value\"><p class=\"txt-value\">R$ 133.000</p></div></div></div><div class=\"well card\"><div class=\"col-md-3 image-card\"><img width=\"220\" height=\"155\" alt=\"Foto\" src=\"https://caelum-online-public.s3.amazonaws.com/1381-scraping/01/img-cars/lamborghini-murcielago/lamborghini-murcielago-2872974__340.jpg\"></div><div class=\"col-md-6 body-card\"><p class=\"txt-name inline\">LAMBORGHINI MURCIELAGO</p><p class=\"txt-category badge badge-secondary inline\">USADO</p><p class=\"txt-motor\">Motor 1.0 8v</p><p class=\"txt-description\">Ano 1991 - 464 km</p><ul class=\"lst-items\"><li class=\"txt-items\">► Central multimídia</li><li class=\"txt-items\">► Teto panorâmico</li><li class=\"txt-items\">► Sensor crepuscular</li><li class=\"txt-items\">► Piloto automático</li><li class=\"txt-items\">...</li></ul><p class=\"txt-location\">Belo Horizonte - MG</p></div><div class=\"col-md-3 value-card\"><div class=\"value\"><p class=\"txt-value\">R$ 175.000</p></div></div></div><div class=\"well card\"><div class=\"col-md-3 image-card\"><img width=\"220\" height=\"155\" alt=\"Foto\" src=\"https://caelum-online-public.s3.amazonaws.com/1381-scraping/01/img-cars/aston-martin/aston-martin-2977916__340.jpg\"></div><div class=\"col-md-6 body-card\"><p class=\"txt-name inline\">ASTON MARTIN</p><p class=\"txt-category badge badge-secondary inline\">USADO</p><p class=\"txt-opportunity badge badge-danger inline\">OPORTUNIDADE</p><p class=\"txt-motor\">Motor Diesel V6</p><p class=\"txt-description\">Ano 2004 - 50.189 km</p><ul class=\"lst-items\"><li class=\"txt-items\">► Painel digital</li><li class=\"txt-items\">► Controle de tração</li><li class=\"txt-items\">► Teto panorâmico</li><li class=\"txt-items\">► Central multimídia</li><li class=\"txt-items\">...</li></ul><p class=\"txt-location\">Belo Horizonte - MG</p></div><div class=\"col-md-3 value-card\"><div class=\"value\"><p class=\"txt-value\">R$ 239.000</p></div></div></div><div class=\"well card\"><div class=\"col-md-3 image-card\"><img width=\"220\" height=\"155\" alt=\"Foto\" src=\"https://caelum-online-public.s3.amazonaws.com/1381-scraping/01/img-cars/tvr/tvr-2943925__340.jpg\"></div><div class=\"col-md-6 body-card\"><p class=\"txt-name inline\">TVR</p><p class=\"txt-category badge badge-secondary inline\">USADO</p><p class=\"txt-motor\">Motor 4.0 Turbo</p><p class=\"txt-description\">Ano 2014 - 17.778 km</p><ul class=\"lst-items\"><li class=\"txt-items\">► 4 X 4</li><li class=\"txt-items\">► Teto panorâmico</li><li class=\"txt-items\">► Central multimídia</li><li class=\"txt-items\">► Controle de estabilidade</li><li class=\"txt-items\">...</li></ul><p class=\"txt-location\">Belo Horizonte - MG</p></div><div class=\"col-md-3 value-card\"><div class=\"value\"><p class=\"txt-value\">R$ 115.000</p></div></div></div><div class=\"well card\"><div class=\"col-md-3 image-card\"><img width=\"220\" height=\"155\" alt=\"Foto\" src=\"https://caelum-online-public.s3.amazonaws.com/1381-scraping/01/img-cars/excalibur/excalibur-2916730__340.jpg\"></div><div class=\"col-md-6 body-card\"><p class=\"txt-name inline\">EXCALIBUR</p><p class=\"txt-category badge badge-secondary inline\">USADO</p><p class=\"txt-motor\">Motor 3.0 32v</p><p class=\"txt-description\">Ano 2009 - 81.251 km</p><ul class=\"lst-items\"><li class=\"txt-items\">► Painel digital</li><li class=\"txt-items\">► Câmbio automático</li><li class=\"txt-items\">► Sensor de chuva</li><li class=\"txt-items\">► Travas elétricas</li><li class=\"txt-items\">...</li></ul><p class=\"txt-location\">Rio de Janeiro - RJ</p></div><div class=\"col-md-3 value-card\"><div class=\"value\"><p class=\"txt-value\">R$ 114.000</p></div></div></div><div class=\"well card\"><div class=\"col-md-3 image-card\"><img width=\"220\" height=\"155\" alt=\"Foto\" src=\"https://caelum-online-public.s3.amazonaws.com/1381-scraping/01/img-cars/mclaren/mclaren-2855240__340.jpg\"></div><div class=\"col-md-6 body-card\"><p class=\"txt-name inline\">MCLAREN</p><p class=\"txt-category badge badge-secondary inline\">NOVO</p><p class=\"txt-motor\">Motor Diesel</p><p class=\"txt-description\">Ano 2019 - 0 km</p><ul class=\"lst-items\"><li class=\"txt-items\">► Central multimídia</li><li class=\"txt-items\">► Câmera de estacionamento</li><li class=\"txt-items\">► Câmbio automático</li><li class=\"txt-items\">► Ar condicionado</li><li class=\"txt-items\">...</li></ul><p class=\"txt-location\">São Paulo - SP</p></div><div class=\"col-md-3 value-card\"><div class=\"value\"><p class=\"txt-value\">R$ 75.000</p></div></div></div><div class=\"well card\"><div class=\"col-md-3 image-card\"><img width=\"220\" height=\"155\" alt=\"Foto\" src=\"https://caelum-online-public.s3.amazonaws.com/1381-scraping/01/img-cars/toyota/toyota-3245397__340.jpg\"></div><div class=\"col-md-6 body-card\"><p class=\"txt-name inline\">TOYOTA</p><p class=\"txt-category badge badge-secondary inline\">USADO</p><p class=\"txt-opportunity badge badge-danger inline\">OPORTUNIDADE</p><p class=\"txt-motor\">Motor 4.0 Turbo</p><p class=\"txt-description\">Ano 1999 - 12.536 km</p><ul class=\"lst-items\"><li class=\"txt-items\">► Bancos de couro</li><li class=\"txt-items\">► Freios ABS</li><li class=\"txt-items\">► Piloto automático</li><li class=\"txt-items\">► Controle de estabilidade</li><li class=\"txt-items\">...</li></ul><p class=\"txt-location\">São Paulo - SP</p></div><div class=\"col-md-3 value-card\"><div class=\"value\"><p class=\"txt-value\">R$ 117.000</p></div></div></div></div><div class=\"type-select\">246 veículos encontrados</div><div class=\"container-pagination\" style=\"float: right\"><span class=\"info-pages\">Página 1 de 25</span></div></div></div></div></div></div><footer><nav class=\"navbar navbar-inverse\"><div class=\"container\" style=\"margin-bottom: 10px;\"><div class=\"navbar\"><a href=\"./index.php\" class=\"navbar-brand\" title=\"Alura Motors\"><img src=\"img/alura-logo.svg\" class=\"d-inline-block align-top\" alt=\"Alura\">Motors </a><p style=\"color: #fff; text-align: center; margin-top: 40px;\">Aplicação para treinamento de web scraping</p></div></div></nav></footer></div></body></html>'"
      ]
     },
     "execution_count": 15,
     "metadata": {},
     "output_type": "execute_result"
    }
   ],
   "source": [
    "html = trata_html(html)\n",
    "html"
   ]
  },
  {
   "cell_type": "markdown",
   "metadata": {
    "colab": {},
    "colab_type": "code",
    "id": "BsfhL3sZFRZu"
   },
   "source": [
    "---\n",
    "# <font color=green>3. INTRODUÇÃO AO BEAUTIFULSOUP"
   ]
  },
  {
   "cell_type": "markdown",
   "metadata": {
    "colab": {},
    "colab_type": "code",
    "id": "BsfhL3sZFRZu"
   },
   "source": [
    "# 3.1. HTML da nossa página"
   ]
  },
  {
   "cell_type": "markdown",
   "metadata": {},
   "source": [
    "**HTML** (*HyperText Markup Language*) é uma linguagem de marcação composta por **tags** que deteminam o papel que cada parte do documento vai assumir. As **tags** são formadas pelo seu nome e atributos. Os atributos servem para configurar e também modificar as características padrões de uma **tag**.\n",
    "\n",
    "## Estrutura básica\n",
    "\n",
    "```html\n",
    "<html>\n",
    "    <head>\n",
    "        <meta charset=\"utf-8\" />\n",
    "        <title>Alura Motors</title>\n",
    "    </head>\n",
    "    <body>\n",
    "        <div id=\"container\">\n",
    "            <h1>Alura</h1>\n",
    "            <h2 class=\"formato\">Cursos de Tecnologia</h2>\n",
    "            <p>Você vai estudar, praticar, discutir e aprender.</p>\n",
    "            <a href=\"https://www.alura.com.br/\">Clique aqui</a>\n",
    "        </div>\n",
    "    </body>\n",
    "</html>\n",
    "```\n",
    "\n",
    "```<html>``` - determina o início do documento.\n",
    "\n",
    "```<head>``` - cabeçalho. Contém informações e configurações do documento.\n",
    "\n",
    "```<body>``` - é o corpo do documento, onde todo o conteúdo é colocado. Esta é a parte visível em um navegador.\n",
    "\n",
    "## Tags mais comuns\n",
    "\n",
    "```<div>``` - define uma divisão da página. Pode ser formatada de diversas maneiras.\n",
    "\n",
    "```<h1>, <h2>, <h3>, <h4>, <h5>, <h6>``` - marcadores de títulos.\n",
    "\n",
    "```<p>``` - marcador de parágrafo.\n",
    "\n",
    "```<a>``` - hiperlink.\n",
    "\n",
    "```<img>``` - exibição de imagens.\n",
    "\n",
    "```<table>``` - definição de tabelas.\n",
    "\n",
    "```<ul>, <li>``` - definição de listas.\n"
   ]
  },
  {
   "cell_type": "markdown",
   "metadata": {},
   "source": [
    "<html>\n",
    "    <head>\n",
    "        <meta charset=\"utf-8\" />\n",
    "        <title>Alura Motors</title>\n",
    "    </head>\n",
    "    <body>\n",
    "        <div id=\"container\">\n",
    "            <h1>Alura</h1>\n",
    "            <h2 class=\"formato\">Cursos de Tecnologia</h2>\n",
    "            <p>Você vai estudar, praticar, discutir e aprender.</p>\n",
    "            <a href=\"https://www.alura.com.br/\">Clique aqui</a>\n",
    "        </div>\n",
    "    </body>\n",
    "</html>"
   ]
  },
  {
   "cell_type": "markdown",
   "metadata": {},
   "source": [
    "# 3.2. Criando um objeto BeautifulSoup"
   ]
  },
  {
   "cell_type": "markdown",
   "metadata": {},
   "source": [
    "## https://www.crummy.com/software/BeautifulSoup/\n",
    "\n",
    "### Sobre parser ver: https://www.crummy.com/software/BeautifulSoup/bs4/doc/#parser-installation"
   ]
  },
  {
   "cell_type": "code",
   "execution_count": 16,
   "metadata": {
    "colab": {
     "base_uri": "https://localhost:8080/",
     "height": 316
    },
    "colab_type": "code",
    "id": "5Oxx_d0BCWGa",
    "outputId": "4d2c4e2b-57fe-413d-9521-91711e0e5fdc",
    "scrolled": true
   },
   "outputs": [
    {
     "data": {
      "text/plain": [
       "<!DOCTYPE html>\n",
       "<html lang=\"pt-br\"><head><meta charset=\"utf-8\"/><meta content=\"width=device-width, initial-scale=1, shrink-to-fit=no\" name=\"viewport\"/><title>Alura Motors</title><style> /*Regra para a animacao*/ @keyframes spin { 0% { transform: rotate(0deg); } 100% { transform: rotate(360deg); } } /*Mudando o tamanho do icone de resposta*/ div.glyphicon { color:#6B8E23; font-size: 38px; } /*Classe que mostra a animacao 'spin'*/ .loader { border: 16px solid #f3f3f3; border-radius: 50%; border-top: 16px solid #3498db; width: 80px; height: 80px; -webkit-animation: spin 2s linear infinite; animation: spin 2s linear infinite; } </style><link crossorigin=\"anonymous\" href=\"https://maxcdn.bootstrapcdn.com/bootstrap/3.3.7/css/bootstrap.min.css\" integrity=\"sha384-BVYiiSIFeK1dGmJRAkycuHAHRg32OmUcww7on3RYdg4Va+PmSTsz/K68vbdEjh4u\" rel=\"stylesheet\"/><link href=\"css/styles.css\" media=\"all\" rel=\"stylesheet\"/><script src=\"https://code.jquery.com/jquery-1.12.4.js\"></script><script crossorigin=\"anonymous\" integrity=\"sha384-Tc5IQib027qvyjSMfHjOMaLkfuWVxZxUPnCJA7l2mCWNIpG9mGCD8wGNIcPD7Txa\" src=\"https://maxcdn.bootstrapcdn.com/bootstrap/3.3.7/js/bootstrap.min.js\"></script><script src=\"js/index.js\" type=\"text/javascript\"></script><script> requisitar(\"https://alura-scraping.herokuapp.com/produtos?_page=\"+1+\"&_limit=10\") </script></head><body cz-shortcut-listen=\"true\"><noscript>You need to enable JavaScript to run this app.</noscript><div aria-labelledby=\"loadingModal_label\" class=\"modal fade\" data-backdrop=\"static\" id=\"loadingModal\" role=\"dialog\" tabindex=\"-1\"><div class=\"modal-dialog\" role=\"document\"><div class=\"modal-content\"><div class=\"modal-header\"><h5 class=\"modal-title\" id=\"loadingModal_label\"><span class=\"glyphicon glyphicon-refresh\"></span>Aguarde... </h5></div><div class=\"modal-body\"><div class=\"alert\" role=\"alert\"><center><div class=\"loader\" id=\"loader\"></div><br/><h4><b id=\"loadingModal_content\"></b></h4></center></div></div></div></div></div><div id=\"root\"><header><nav class=\"navbar navbar-inverse\" style=\"margin-bottom: 0;\"><div class=\"container\" style=\"margin-bottom: -20px;\"><div class=\"navbar\"><a class=\"navbar-brand\" href=\"./index.php\" title=\"Alura Motors\"><img alt=\"Alura\" class=\"d-inline-block align-top\" src=\"img/alura-logo.svg\"/>Motors </a><ul class=\"nav navbar-nav\" style=\"margin-top: 35px;\"><li><a href=\"./hello-world.php\">Hello World</a></li><li><a href=\"./index.php\">Anúncios</a></li></ul></div></div></nav></header><div class=\"container\"><h1 class=\"sub-header\">Veículos de Luxo Novos e Usados - Todas as Marcas</h1><div class=\"row\"><div class=\"col-md-12\"><div class=\"container\" style=\"width: 100%\"><div class=\"type-select\">246 veículos encontrados</div><div class=\"container-pagination\" style=\"float: right\"><span class=\"info-pages\">Página 1 de 25</span></div></div><div id=\"container-cards\" style=\"height: 100%\"><div class=\"well card\"><div class=\"col-md-3 image-card\"><img alt=\"Foto\" height=\"155\" src=\"https://caelum-online-public.s3.amazonaws.com/1381-scraping/01/img-cars/lamborghini-aventador/lamborghini-aventador-2932196__340.jpg\" width=\"220\"/></div><div class=\"col-md-6 body-card\"><p class=\"txt-name inline\">LAMBORGHINI AVENTADOR</p><p class=\"txt-category badge badge-secondary inline\">USADO</p><p class=\"txt-motor\">Motor 1.8 16v</p><p class=\"txt-description\">Ano 1993 - 55.286 km</p><ul class=\"lst-items\"><li class=\"txt-items\">► 4 X 4</li><li class=\"txt-items\">► Câmera de estacionamento</li><li class=\"txt-items\">► Controle de tração</li><li class=\"txt-items\">► Sensor de estacionamento</li><li class=\"txt-items\">...</li></ul><p class=\"txt-location\">Belo Horizonte - MG</p></div><div class=\"col-md-3 value-card\"><div class=\"value\"><p class=\"txt-value\">R$ 338.000</p></div></div></div><div class=\"well card\"><div class=\"col-md-3 image-card\"><img alt=\"Foto\" height=\"155\" src=\"https://caelum-online-public.s3.amazonaws.com/1381-scraping/01/img-cars/bmw-m2/bmw-m2-2970882__340.jpg\" width=\"220\"/></div><div class=\"col-md-6 body-card\"><p class=\"txt-name inline\">BMW M2</p><p class=\"txt-category badge badge-secondary inline\">USADO</p><p class=\"txt-motor\">Motor 3.0 32v</p><p class=\"txt-description\">Ano 2018 - 83.447 km</p><ul class=\"lst-items\"><li class=\"txt-items\">► Câmera de estacionamento</li><li class=\"txt-items\">► Controle de estabilidade</li><li class=\"txt-items\">► Travas elétricas</li><li class=\"txt-items\">► Freios ABS</li><li class=\"txt-items\">...</li></ul><p class=\"txt-location\">Belo Horizonte - MG</p></div><div class=\"col-md-3 value-card\"><div class=\"value\"><p class=\"txt-value\">R$ 346.000</p></div></div></div><div class=\"well card\"><div class=\"col-md-3 image-card\"><img alt=\"Foto\" height=\"155\" src=\"https://caelum-online-public.s3.amazonaws.com/1381-scraping/01/img-cars/alfa/alfa-1823056__340.jpg\" width=\"220\"/></div><div class=\"col-md-6 body-card\"><p class=\"txt-name inline\">ALFA</p><p class=\"txt-category badge badge-secondary inline\">USADO</p><p class=\"txt-motor\">Motor 1.8 16v</p><p class=\"txt-description\">Ano 2004 - 19.722 km</p><ul class=\"lst-items\"><li class=\"txt-items\">► Central multimídia</li><li class=\"txt-items\">► Bancos de couro</li><li class=\"txt-items\">► Rodas de liga</li><li class=\"txt-items\">► Câmera de estacionamento</li><li class=\"txt-items\">...</li></ul><p class=\"txt-location\">Rio de Janeiro - RJ</p></div><div class=\"col-md-3 value-card\"><div class=\"value\"><p class=\"txt-value\">R$ 480.000</p></div></div></div><div class=\"well card\"><div class=\"col-md-3 image-card\"><img alt=\"Foto\" height=\"155\" src=\"https://caelum-online-public.s3.amazonaws.com/1381-scraping/01/img-cars/puech/puech-4055386__340.jpg\" width=\"220\"/></div><div class=\"col-md-6 body-card\"><p class=\"txt-name inline\">PUECH</p><p class=\"txt-category badge badge-secondary inline\">USADO</p><p class=\"txt-motor\">Motor Diesel V8</p><p class=\"txt-description\">Ano 1992 - 34.335 km</p><ul class=\"lst-items\"><li class=\"txt-items\">► Bancos de couro</li><li class=\"txt-items\">► Freios ABS</li><li class=\"txt-items\">► Rodas de liga</li><li class=\"txt-items\">► Câmbio automático</li><li class=\"txt-items\">...</li></ul><p class=\"txt-location\">São Paulo - SP</p></div><div class=\"col-md-3 value-card\"><div class=\"value\"><p class=\"txt-value\">R$ 133.000</p></div></div></div><div class=\"well card\"><div class=\"col-md-3 image-card\"><img alt=\"Foto\" height=\"155\" src=\"https://caelum-online-public.s3.amazonaws.com/1381-scraping/01/img-cars/lamborghini-murcielago/lamborghini-murcielago-2872974__340.jpg\" width=\"220\"/></div><div class=\"col-md-6 body-card\"><p class=\"txt-name inline\">LAMBORGHINI MURCIELAGO</p><p class=\"txt-category badge badge-secondary inline\">USADO</p><p class=\"txt-motor\">Motor 1.0 8v</p><p class=\"txt-description\">Ano 1991 - 464 km</p><ul class=\"lst-items\"><li class=\"txt-items\">► Central multimídia</li><li class=\"txt-items\">► Teto panorâmico</li><li class=\"txt-items\">► Sensor crepuscular</li><li class=\"txt-items\">► Piloto automático</li><li class=\"txt-items\">...</li></ul><p class=\"txt-location\">Belo Horizonte - MG</p></div><div class=\"col-md-3 value-card\"><div class=\"value\"><p class=\"txt-value\">R$ 175.000</p></div></div></div><div class=\"well card\"><div class=\"col-md-3 image-card\"><img alt=\"Foto\" height=\"155\" src=\"https://caelum-online-public.s3.amazonaws.com/1381-scraping/01/img-cars/aston-martin/aston-martin-2977916__340.jpg\" width=\"220\"/></div><div class=\"col-md-6 body-card\"><p class=\"txt-name inline\">ASTON MARTIN</p><p class=\"txt-category badge badge-secondary inline\">USADO</p><p class=\"txt-opportunity badge badge-danger inline\">OPORTUNIDADE</p><p class=\"txt-motor\">Motor Diesel V6</p><p class=\"txt-description\">Ano 2004 - 50.189 km</p><ul class=\"lst-items\"><li class=\"txt-items\">► Painel digital</li><li class=\"txt-items\">► Controle de tração</li><li class=\"txt-items\">► Teto panorâmico</li><li class=\"txt-items\">► Central multimídia</li><li class=\"txt-items\">...</li></ul><p class=\"txt-location\">Belo Horizonte - MG</p></div><div class=\"col-md-3 value-card\"><div class=\"value\"><p class=\"txt-value\">R$ 239.000</p></div></div></div><div class=\"well card\"><div class=\"col-md-3 image-card\"><img alt=\"Foto\" height=\"155\" src=\"https://caelum-online-public.s3.amazonaws.com/1381-scraping/01/img-cars/tvr/tvr-2943925__340.jpg\" width=\"220\"/></div><div class=\"col-md-6 body-card\"><p class=\"txt-name inline\">TVR</p><p class=\"txt-category badge badge-secondary inline\">USADO</p><p class=\"txt-motor\">Motor 4.0 Turbo</p><p class=\"txt-description\">Ano 2014 - 17.778 km</p><ul class=\"lst-items\"><li class=\"txt-items\">► 4 X 4</li><li class=\"txt-items\">► Teto panorâmico</li><li class=\"txt-items\">► Central multimídia</li><li class=\"txt-items\">► Controle de estabilidade</li><li class=\"txt-items\">...</li></ul><p class=\"txt-location\">Belo Horizonte - MG</p></div><div class=\"col-md-3 value-card\"><div class=\"value\"><p class=\"txt-value\">R$ 115.000</p></div></div></div><div class=\"well card\"><div class=\"col-md-3 image-card\"><img alt=\"Foto\" height=\"155\" src=\"https://caelum-online-public.s3.amazonaws.com/1381-scraping/01/img-cars/excalibur/excalibur-2916730__340.jpg\" width=\"220\"/></div><div class=\"col-md-6 body-card\"><p class=\"txt-name inline\">EXCALIBUR</p><p class=\"txt-category badge badge-secondary inline\">USADO</p><p class=\"txt-motor\">Motor 3.0 32v</p><p class=\"txt-description\">Ano 2009 - 81.251 km</p><ul class=\"lst-items\"><li class=\"txt-items\">► Painel digital</li><li class=\"txt-items\">► Câmbio automático</li><li class=\"txt-items\">► Sensor de chuva</li><li class=\"txt-items\">► Travas elétricas</li><li class=\"txt-items\">...</li></ul><p class=\"txt-location\">Rio de Janeiro - RJ</p></div><div class=\"col-md-3 value-card\"><div class=\"value\"><p class=\"txt-value\">R$ 114.000</p></div></div></div><div class=\"well card\"><div class=\"col-md-3 image-card\"><img alt=\"Foto\" height=\"155\" src=\"https://caelum-online-public.s3.amazonaws.com/1381-scraping/01/img-cars/mclaren/mclaren-2855240__340.jpg\" width=\"220\"/></div><div class=\"col-md-6 body-card\"><p class=\"txt-name inline\">MCLAREN</p><p class=\"txt-category badge badge-secondary inline\">NOVO</p><p class=\"txt-motor\">Motor Diesel</p><p class=\"txt-description\">Ano 2019 - 0 km</p><ul class=\"lst-items\"><li class=\"txt-items\">► Central multimídia</li><li class=\"txt-items\">► Câmera de estacionamento</li><li class=\"txt-items\">► Câmbio automático</li><li class=\"txt-items\">► Ar condicionado</li><li class=\"txt-items\">...</li></ul><p class=\"txt-location\">São Paulo - SP</p></div><div class=\"col-md-3 value-card\"><div class=\"value\"><p class=\"txt-value\">R$ 75.000</p></div></div></div><div class=\"well card\"><div class=\"col-md-3 image-card\"><img alt=\"Foto\" height=\"155\" src=\"https://caelum-online-public.s3.amazonaws.com/1381-scraping/01/img-cars/toyota/toyota-3245397__340.jpg\" width=\"220\"/></div><div class=\"col-md-6 body-card\"><p class=\"txt-name inline\">TOYOTA</p><p class=\"txt-category badge badge-secondary inline\">USADO</p><p class=\"txt-opportunity badge badge-danger inline\">OPORTUNIDADE</p><p class=\"txt-motor\">Motor 4.0 Turbo</p><p class=\"txt-description\">Ano 1999 - 12.536 km</p><ul class=\"lst-items\"><li class=\"txt-items\">► Bancos de couro</li><li class=\"txt-items\">► Freios ABS</li><li class=\"txt-items\">► Piloto automático</li><li class=\"txt-items\">► Controle de estabilidade</li><li class=\"txt-items\">...</li></ul><p class=\"txt-location\">São Paulo - SP</p></div><div class=\"col-md-3 value-card\"><div class=\"value\"><p class=\"txt-value\">R$ 117.000</p></div></div></div></div><div class=\"type-select\">246 veículos encontrados</div><div class=\"container-pagination\" style=\"float: right\"><span class=\"info-pages\">Página 1 de 25</span></div></div></div></div></div></body></html><footer><nav class=\"navbar navbar-inverse\"><div class=\"container\" style=\"margin-bottom: 10px;\"><div class=\"navbar\"><a class=\"navbar-brand\" href=\"./index.php\" title=\"Alura Motors\"><img alt=\"Alura\" class=\"d-inline-block align-top\" src=\"img/alura-logo.svg\"/>Motors </a><p style=\"color: #fff; text-align: center; margin-top: 40px;\">Aplicação para treinamento de web scraping</p></div></div></nav></footer>"
      ]
     },
     "execution_count": 16,
     "metadata": {},
     "output_type": "execute_result"
    }
   ],
   "source": [
    "from bs4 import BeautifulSoup\n",
    "\n",
    "soup = BeautifulSoup(html, 'html.parser')\n",
    "\n",
    "soup"
   ]
  },
  {
   "cell_type": "code",
   "execution_count": 17,
   "metadata": {
    "scrolled": true
   },
   "outputs": [
    {
     "name": "stdout",
     "output_type": "stream",
     "text": [
      "<!DOCTYPE html>\n",
      "<html lang=\"pt-br\">\n",
      " <head>\n",
      "  <meta charset=\"utf-8\"/>\n",
      "  <meta content=\"width=device-width, initial-scale=1, shrink-to-fit=no\" name=\"viewport\"/>\n",
      "  <title>\n",
      "   Alura Motors\n",
      "  </title>\n",
      "  <style>\n",
      "   /*Regra para a animacao*/ @keyframes spin { 0% { transform: rotate(0deg); } 100% { transform: rotate(360deg); } } /*Mudando o tamanho do icone de resposta*/ div.glyphicon { color:#6B8E23; font-size: 38px; } /*Classe que mostra a animacao 'spin'*/ .loader { border: 16px solid #f3f3f3; border-radius: 50%; border-top: 16px solid #3498db; width: 80px; height: 80px; -webkit-animation: spin 2s linear infinite; animation: spin 2s linear infinite; }\n",
      "  </style>\n",
      "  <link crossorigin=\"anonymous\" href=\"https://maxcdn.bootstrapcdn.com/bootstrap/3.3.7/css/bootstrap.min.css\" integrity=\"sha384-BVYiiSIFeK1dGmJRAkycuHAHRg32OmUcww7on3RYdg4Va+PmSTsz/K68vbdEjh4u\" rel=\"stylesheet\"/>\n",
      "  <link href=\"css/styles.css\" media=\"all\" rel=\"stylesheet\"/>\n",
      "  <script src=\"https://code.jquery.com/jquery-1.12.4.js\">\n",
      "  </script>\n",
      "  <script crossorigin=\"anonymous\" integrity=\"sha384-Tc5IQib027qvyjSMfHjOMaLkfuWVxZxUPnCJA7l2mCWNIpG9mGCD8wGNIcPD7Txa\" src=\"https://maxcdn.bootstrapcdn.com/bootstrap/3.3.7/js/bootstrap.min.js\">\n",
      "  </script>\n",
      "  <script src=\"js/index.js\" type=\"text/javascript\">\n",
      "  </script>\n",
      "  <script>\n",
      "   requisitar(\"https://alura-scraping.herokuapp.com/produtos?_page=\"+1+\"&_limit=10\")\n",
      "  </script>\n",
      " </head>\n",
      " <body cz-shortcut-listen=\"true\">\n",
      "  <noscript>\n",
      "   You need to enable JavaScript to run this app.\n",
      "  </noscript>\n",
      "  <div aria-labelledby=\"loadingModal_label\" class=\"modal fade\" data-backdrop=\"static\" id=\"loadingModal\" role=\"dialog\" tabindex=\"-1\">\n",
      "   <div class=\"modal-dialog\" role=\"document\">\n",
      "    <div class=\"modal-content\">\n",
      "     <div class=\"modal-header\">\n",
      "      <h5 class=\"modal-title\" id=\"loadingModal_label\">\n",
      "       <span class=\"glyphicon glyphicon-refresh\">\n",
      "       </span>\n",
      "       Aguarde...\n",
      "      </h5>\n",
      "     </div>\n",
      "     <div class=\"modal-body\">\n",
      "      <div class=\"alert\" role=\"alert\">\n",
      "       <center>\n",
      "        <div class=\"loader\" id=\"loader\">\n",
      "        </div>\n",
      "        <br/>\n",
      "        <h4>\n",
      "         <b id=\"loadingModal_content\">\n",
      "         </b>\n",
      "        </h4>\n",
      "       </center>\n",
      "      </div>\n",
      "     </div>\n",
      "    </div>\n",
      "   </div>\n",
      "  </div>\n",
      "  <div id=\"root\">\n",
      "   <header>\n",
      "    <nav class=\"navbar navbar-inverse\" style=\"margin-bottom: 0;\">\n",
      "     <div class=\"container\" style=\"margin-bottom: -20px;\">\n",
      "      <div class=\"navbar\">\n",
      "       <a class=\"navbar-brand\" href=\"./index.php\" title=\"Alura Motors\">\n",
      "        <img alt=\"Alura\" class=\"d-inline-block align-top\" src=\"img/alura-logo.svg\"/>\n",
      "        Motors\n",
      "       </a>\n",
      "       <ul class=\"nav navbar-nav\" style=\"margin-top: 35px;\">\n",
      "        <li>\n",
      "         <a href=\"./hello-world.php\">\n",
      "          Hello World\n",
      "         </a>\n",
      "        </li>\n",
      "        <li>\n",
      "         <a href=\"./index.php\">\n",
      "          Anúncios\n",
      "         </a>\n",
      "        </li>\n",
      "       </ul>\n",
      "      </div>\n",
      "     </div>\n",
      "    </nav>\n",
      "   </header>\n",
      "   <div class=\"container\">\n",
      "    <h1 class=\"sub-header\">\n",
      "     Veículos de Luxo Novos e Usados - Todas as Marcas\n",
      "    </h1>\n",
      "    <div class=\"row\">\n",
      "     <div class=\"col-md-12\">\n",
      "      <div class=\"container\" style=\"width: 100%\">\n",
      "       <div class=\"type-select\">\n",
      "        246 veículos encontrados\n",
      "       </div>\n",
      "       <div class=\"container-pagination\" style=\"float: right\">\n",
      "        <span class=\"info-pages\">\n",
      "         Página 1 de 25\n",
      "        </span>\n",
      "       </div>\n",
      "      </div>\n",
      "      <div id=\"container-cards\" style=\"height: 100%\">\n",
      "       <div class=\"well card\">\n",
      "        <div class=\"col-md-3 image-card\">\n",
      "         <img alt=\"Foto\" height=\"155\" src=\"https://caelum-online-public.s3.amazonaws.com/1381-scraping/01/img-cars/lamborghini-aventador/lamborghini-aventador-2932196__340.jpg\" width=\"220\"/>\n",
      "        </div>\n",
      "        <div class=\"col-md-6 body-card\">\n",
      "         <p class=\"txt-name inline\">\n",
      "          LAMBORGHINI AVENTADOR\n",
      "         </p>\n",
      "         <p class=\"txt-category badge badge-secondary inline\">\n",
      "          USADO\n",
      "         </p>\n",
      "         <p class=\"txt-motor\">\n",
      "          Motor 1.8 16v\n",
      "         </p>\n",
      "         <p class=\"txt-description\">\n",
      "          Ano 1993 - 55.286 km\n",
      "         </p>\n",
      "         <ul class=\"lst-items\">\n",
      "          <li class=\"txt-items\">\n",
      "           ► 4 X 4\n",
      "          </li>\n",
      "          <li class=\"txt-items\">\n",
      "           ► Câmera de estacionamento\n",
      "          </li>\n",
      "          <li class=\"txt-items\">\n",
      "           ► Controle de tração\n",
      "          </li>\n",
      "          <li class=\"txt-items\">\n",
      "           ► Sensor de estacionamento\n",
      "          </li>\n",
      "          <li class=\"txt-items\">\n",
      "           ...\n",
      "          </li>\n",
      "         </ul>\n",
      "         <p class=\"txt-location\">\n",
      "          Belo Horizonte - MG\n",
      "         </p>\n",
      "        </div>\n",
      "        <div class=\"col-md-3 value-card\">\n",
      "         <div class=\"value\">\n",
      "          <p class=\"txt-value\">\n",
      "           R$ 338.000\n",
      "          </p>\n",
      "         </div>\n",
      "        </div>\n",
      "       </div>\n",
      "       <div class=\"well card\">\n",
      "        <div class=\"col-md-3 image-card\">\n",
      "         <img alt=\"Foto\" height=\"155\" src=\"https://caelum-online-public.s3.amazonaws.com/1381-scraping/01/img-cars/bmw-m2/bmw-m2-2970882__340.jpg\" width=\"220\"/>\n",
      "        </div>\n",
      "        <div class=\"col-md-6 body-card\">\n",
      "         <p class=\"txt-name inline\">\n",
      "          BMW M2\n",
      "         </p>\n",
      "         <p class=\"txt-category badge badge-secondary inline\">\n",
      "          USADO\n",
      "         </p>\n",
      "         <p class=\"txt-motor\">\n",
      "          Motor 3.0 32v\n",
      "         </p>\n",
      "         <p class=\"txt-description\">\n",
      "          Ano 2018 - 83.447 km\n",
      "         </p>\n",
      "         <ul class=\"lst-items\">\n",
      "          <li class=\"txt-items\">\n",
      "           ► Câmera de estacionamento\n",
      "          </li>\n",
      "          <li class=\"txt-items\">\n",
      "           ► Controle de estabilidade\n",
      "          </li>\n",
      "          <li class=\"txt-items\">\n",
      "           ► Travas elétricas\n",
      "          </li>\n",
      "          <li class=\"txt-items\">\n",
      "           ► Freios ABS\n",
      "          </li>\n",
      "          <li class=\"txt-items\">\n",
      "           ...\n",
      "          </li>\n",
      "         </ul>\n",
      "         <p class=\"txt-location\">\n",
      "          Belo Horizonte - MG\n",
      "         </p>\n",
      "        </div>\n",
      "        <div class=\"col-md-3 value-card\">\n",
      "         <div class=\"value\">\n",
      "          <p class=\"txt-value\">\n",
      "           R$ 346.000\n",
      "          </p>\n",
      "         </div>\n",
      "        </div>\n",
      "       </div>\n",
      "       <div class=\"well card\">\n",
      "        <div class=\"col-md-3 image-card\">\n",
      "         <img alt=\"Foto\" height=\"155\" src=\"https://caelum-online-public.s3.amazonaws.com/1381-scraping/01/img-cars/alfa/alfa-1823056__340.jpg\" width=\"220\"/>\n",
      "        </div>\n",
      "        <div class=\"col-md-6 body-card\">\n",
      "         <p class=\"txt-name inline\">\n",
      "          ALFA\n",
      "         </p>\n",
      "         <p class=\"txt-category badge badge-secondary inline\">\n",
      "          USADO\n",
      "         </p>\n",
      "         <p class=\"txt-motor\">\n",
      "          Motor 1.8 16v\n",
      "         </p>\n",
      "         <p class=\"txt-description\">\n",
      "          Ano 2004 - 19.722 km\n",
      "         </p>\n",
      "         <ul class=\"lst-items\">\n",
      "          <li class=\"txt-items\">\n",
      "           ► Central multimídia\n",
      "          </li>\n",
      "          <li class=\"txt-items\">\n",
      "           ► Bancos de couro\n",
      "          </li>\n",
      "          <li class=\"txt-items\">\n",
      "           ► Rodas de liga\n",
      "          </li>\n",
      "          <li class=\"txt-items\">\n",
      "           ► Câmera de estacionamento\n",
      "          </li>\n",
      "          <li class=\"txt-items\">\n",
      "           ...\n",
      "          </li>\n",
      "         </ul>\n",
      "         <p class=\"txt-location\">\n",
      "          Rio de Janeiro - RJ\n",
      "         </p>\n",
      "        </div>\n",
      "        <div class=\"col-md-3 value-card\">\n",
      "         <div class=\"value\">\n",
      "          <p class=\"txt-value\">\n",
      "           R$ 480.000\n",
      "          </p>\n",
      "         </div>\n",
      "        </div>\n",
      "       </div>\n",
      "       <div class=\"well card\">\n",
      "        <div class=\"col-md-3 image-card\">\n",
      "         <img alt=\"Foto\" height=\"155\" src=\"https://caelum-online-public.s3.amazonaws.com/1381-scraping/01/img-cars/puech/puech-4055386__340.jpg\" width=\"220\"/>\n",
      "        </div>\n",
      "        <div class=\"col-md-6 body-card\">\n",
      "         <p class=\"txt-name inline\">\n",
      "          PUECH\n",
      "         </p>\n",
      "         <p class=\"txt-category badge badge-secondary inline\">\n",
      "          USADO\n",
      "         </p>\n",
      "         <p class=\"txt-motor\">\n",
      "          Motor Diesel V8\n",
      "         </p>\n",
      "         <p class=\"txt-description\">\n",
      "          Ano 1992 - 34.335 km\n",
      "         </p>\n",
      "         <ul class=\"lst-items\">\n",
      "          <li class=\"txt-items\">\n",
      "           ► Bancos de couro\n",
      "          </li>\n",
      "          <li class=\"txt-items\">\n",
      "           ► Freios ABS\n",
      "          </li>\n",
      "          <li class=\"txt-items\">\n",
      "           ► Rodas de liga\n",
      "          </li>\n",
      "          <li class=\"txt-items\">\n",
      "           ► Câmbio automático\n",
      "          </li>\n",
      "          <li class=\"txt-items\">\n",
      "           ...\n",
      "          </li>\n",
      "         </ul>\n",
      "         <p class=\"txt-location\">\n",
      "          São Paulo - SP\n",
      "         </p>\n",
      "        </div>\n",
      "        <div class=\"col-md-3 value-card\">\n",
      "         <div class=\"value\">\n",
      "          <p class=\"txt-value\">\n",
      "           R$ 133.000\n",
      "          </p>\n",
      "         </div>\n",
      "        </div>\n",
      "       </div>\n",
      "       <div class=\"well card\">\n",
      "        <div class=\"col-md-3 image-card\">\n",
      "         <img alt=\"Foto\" height=\"155\" src=\"https://caelum-online-public.s3.amazonaws.com/1381-scraping/01/img-cars/lamborghini-murcielago/lamborghini-murcielago-2872974__340.jpg\" width=\"220\"/>\n",
      "        </div>\n",
      "        <div class=\"col-md-6 body-card\">\n",
      "         <p class=\"txt-name inline\">\n",
      "          LAMBORGHINI MURCIELAGO\n",
      "         </p>\n",
      "         <p class=\"txt-category badge badge-secondary inline\">\n",
      "          USADO\n",
      "         </p>\n",
      "         <p class=\"txt-motor\">\n",
      "          Motor 1.0 8v\n",
      "         </p>\n",
      "         <p class=\"txt-description\">\n",
      "          Ano 1991 - 464 km\n",
      "         </p>\n",
      "         <ul class=\"lst-items\">\n",
      "          <li class=\"txt-items\">\n",
      "           ► Central multimídia\n",
      "          </li>\n",
      "          <li class=\"txt-items\">\n",
      "           ► Teto panorâmico\n",
      "          </li>\n",
      "          <li class=\"txt-items\">\n",
      "           ► Sensor crepuscular\n",
      "          </li>\n",
      "          <li class=\"txt-items\">\n",
      "           ► Piloto automático\n",
      "          </li>\n",
      "          <li class=\"txt-items\">\n",
      "           ...\n",
      "          </li>\n",
      "         </ul>\n",
      "         <p class=\"txt-location\">\n",
      "          Belo Horizonte - MG\n",
      "         </p>\n",
      "        </div>\n",
      "        <div class=\"col-md-3 value-card\">\n",
      "         <div class=\"value\">\n",
      "          <p class=\"txt-value\">\n",
      "           R$ 175.000\n",
      "          </p>\n",
      "         </div>\n",
      "        </div>\n",
      "       </div>\n",
      "       <div class=\"well card\">\n",
      "        <div class=\"col-md-3 image-card\">\n",
      "         <img alt=\"Foto\" height=\"155\" src=\"https://caelum-online-public.s3.amazonaws.com/1381-scraping/01/img-cars/aston-martin/aston-martin-2977916__340.jpg\" width=\"220\"/>\n",
      "        </div>\n",
      "        <div class=\"col-md-6 body-card\">\n",
      "         <p class=\"txt-name inline\">\n",
      "          ASTON MARTIN\n",
      "         </p>\n",
      "         <p class=\"txt-category badge badge-secondary inline\">\n",
      "          USADO\n",
      "         </p>\n",
      "         <p class=\"txt-opportunity badge badge-danger inline\">\n",
      "          OPORTUNIDADE\n",
      "         </p>\n",
      "         <p class=\"txt-motor\">\n",
      "          Motor Diesel V6\n",
      "         </p>\n",
      "         <p class=\"txt-description\">\n",
      "          Ano 2004 - 50.189 km\n",
      "         </p>\n",
      "         <ul class=\"lst-items\">\n",
      "          <li class=\"txt-items\">\n",
      "           ► Painel digital\n",
      "          </li>\n",
      "          <li class=\"txt-items\">\n",
      "           ► Controle de tração\n",
      "          </li>\n",
      "          <li class=\"txt-items\">\n",
      "           ► Teto panorâmico\n",
      "          </li>\n",
      "          <li class=\"txt-items\">\n",
      "           ► Central multimídia\n",
      "          </li>\n",
      "          <li class=\"txt-items\">\n",
      "           ...\n",
      "          </li>\n",
      "         </ul>\n",
      "         <p class=\"txt-location\">\n",
      "          Belo Horizonte - MG\n",
      "         </p>\n",
      "        </div>\n",
      "        <div class=\"col-md-3 value-card\">\n",
      "         <div class=\"value\">\n",
      "          <p class=\"txt-value\">\n",
      "           R$ 239.000\n",
      "          </p>\n",
      "         </div>\n",
      "        </div>\n",
      "       </div>\n",
      "       <div class=\"well card\">\n",
      "        <div class=\"col-md-3 image-card\">\n",
      "         <img alt=\"Foto\" height=\"155\" src=\"https://caelum-online-public.s3.amazonaws.com/1381-scraping/01/img-cars/tvr/tvr-2943925__340.jpg\" width=\"220\"/>\n",
      "        </div>\n",
      "        <div class=\"col-md-6 body-card\">\n",
      "         <p class=\"txt-name inline\">\n",
      "          TVR\n",
      "         </p>\n",
      "         <p class=\"txt-category badge badge-secondary inline\">\n",
      "          USADO\n",
      "         </p>\n",
      "         <p class=\"txt-motor\">\n",
      "          Motor 4.0 Turbo\n",
      "         </p>\n",
      "         <p class=\"txt-description\">\n",
      "          Ano 2014 - 17.778 km\n",
      "         </p>\n",
      "         <ul class=\"lst-items\">\n",
      "          <li class=\"txt-items\">\n",
      "           ► 4 X 4\n",
      "          </li>\n",
      "          <li class=\"txt-items\">\n",
      "           ► Teto panorâmico\n",
      "          </li>\n",
      "          <li class=\"txt-items\">\n",
      "           ► Central multimídia\n",
      "          </li>\n",
      "          <li class=\"txt-items\">\n",
      "           ► Controle de estabilidade\n",
      "          </li>\n",
      "          <li class=\"txt-items\">\n",
      "           ...\n",
      "          </li>\n",
      "         </ul>\n",
      "         <p class=\"txt-location\">\n",
      "          Belo Horizonte - MG\n",
      "         </p>\n",
      "        </div>\n",
      "        <div class=\"col-md-3 value-card\">\n",
      "         <div class=\"value\">\n",
      "          <p class=\"txt-value\">\n",
      "           R$ 115.000\n",
      "          </p>\n",
      "         </div>\n",
      "        </div>\n",
      "       </div>\n",
      "       <div class=\"well card\">\n",
      "        <div class=\"col-md-3 image-card\">\n",
      "         <img alt=\"Foto\" height=\"155\" src=\"https://caelum-online-public.s3.amazonaws.com/1381-scraping/01/img-cars/excalibur/excalibur-2916730__340.jpg\" width=\"220\"/>\n",
      "        </div>\n",
      "        <div class=\"col-md-6 body-card\">\n",
      "         <p class=\"txt-name inline\">\n",
      "          EXCALIBUR\n",
      "         </p>\n",
      "         <p class=\"txt-category badge badge-secondary inline\">\n",
      "          USADO\n",
      "         </p>\n",
      "         <p class=\"txt-motor\">\n",
      "          Motor 3.0 32v\n",
      "         </p>\n",
      "         <p class=\"txt-description\">\n",
      "          Ano 2009 - 81.251 km\n",
      "         </p>\n",
      "         <ul class=\"lst-items\">\n",
      "          <li class=\"txt-items\">\n",
      "           ► Painel digital\n",
      "          </li>\n",
      "          <li class=\"txt-items\">\n",
      "           ► Câmbio automático\n",
      "          </li>\n",
      "          <li class=\"txt-items\">\n",
      "           ► Sensor de chuva\n",
      "          </li>\n",
      "          <li class=\"txt-items\">\n",
      "           ► Travas elétricas\n",
      "          </li>\n",
      "          <li class=\"txt-items\">\n",
      "           ...\n",
      "          </li>\n",
      "         </ul>\n",
      "         <p class=\"txt-location\">\n",
      "          Rio de Janeiro - RJ\n",
      "         </p>\n",
      "        </div>\n",
      "        <div class=\"col-md-3 value-card\">\n",
      "         <div class=\"value\">\n",
      "          <p class=\"txt-value\">\n",
      "           R$ 114.000\n",
      "          </p>\n",
      "         </div>\n",
      "        </div>\n",
      "       </div>\n",
      "       <div class=\"well card\">\n",
      "        <div class=\"col-md-3 image-card\">\n",
      "         <img alt=\"Foto\" height=\"155\" src=\"https://caelum-online-public.s3.amazonaws.com/1381-scraping/01/img-cars/mclaren/mclaren-2855240__340.jpg\" width=\"220\"/>\n",
      "        </div>\n",
      "        <div class=\"col-md-6 body-card\">\n",
      "         <p class=\"txt-name inline\">\n",
      "          MCLAREN\n",
      "         </p>\n",
      "         <p class=\"txt-category badge badge-secondary inline\">\n",
      "          NOVO\n",
      "         </p>\n",
      "         <p class=\"txt-motor\">\n",
      "          Motor Diesel\n",
      "         </p>\n",
      "         <p class=\"txt-description\">\n",
      "          Ano 2019 - 0 km\n",
      "         </p>\n",
      "         <ul class=\"lst-items\">\n",
      "          <li class=\"txt-items\">\n",
      "           ► Central multimídia\n",
      "          </li>\n",
      "          <li class=\"txt-items\">\n",
      "           ► Câmera de estacionamento\n",
      "          </li>\n",
      "          <li class=\"txt-items\">\n",
      "           ► Câmbio automático\n",
      "          </li>\n",
      "          <li class=\"txt-items\">\n",
      "           ► Ar condicionado\n",
      "          </li>\n",
      "          <li class=\"txt-items\">\n",
      "           ...\n",
      "          </li>\n",
      "         </ul>\n",
      "         <p class=\"txt-location\">\n",
      "          São Paulo - SP\n",
      "         </p>\n",
      "        </div>\n",
      "        <div class=\"col-md-3 value-card\">\n",
      "         <div class=\"value\">\n",
      "          <p class=\"txt-value\">\n",
      "           R$ 75.000\n",
      "          </p>\n",
      "         </div>\n",
      "        </div>\n",
      "       </div>\n",
      "       <div class=\"well card\">\n",
      "        <div class=\"col-md-3 image-card\">\n",
      "         <img alt=\"Foto\" height=\"155\" src=\"https://caelum-online-public.s3.amazonaws.com/1381-scraping/01/img-cars/toyota/toyota-3245397__340.jpg\" width=\"220\"/>\n",
      "        </div>\n",
      "        <div class=\"col-md-6 body-card\">\n",
      "         <p class=\"txt-name inline\">\n",
      "          TOYOTA\n",
      "         </p>\n",
      "         <p class=\"txt-category badge badge-secondary inline\">\n",
      "          USADO\n",
      "         </p>\n",
      "         <p class=\"txt-opportunity badge badge-danger inline\">\n",
      "          OPORTUNIDADE\n",
      "         </p>\n",
      "         <p class=\"txt-motor\">\n",
      "          Motor 4.0 Turbo\n",
      "         </p>\n",
      "         <p class=\"txt-description\">\n",
      "          Ano 1999 - 12.536 km\n",
      "         </p>\n",
      "         <ul class=\"lst-items\">\n",
      "          <li class=\"txt-items\">\n",
      "           ► Bancos de couro\n",
      "          </li>\n",
      "          <li class=\"txt-items\">\n",
      "           ► Freios ABS\n",
      "          </li>\n",
      "          <li class=\"txt-items\">\n",
      "           ► Piloto automático\n",
      "          </li>\n",
      "          <li class=\"txt-items\">\n",
      "           ► Controle de estabilidade\n",
      "          </li>\n",
      "          <li class=\"txt-items\">\n",
      "           ...\n",
      "          </li>\n",
      "         </ul>\n",
      "         <p class=\"txt-location\">\n",
      "          São Paulo - SP\n",
      "         </p>\n",
      "        </div>\n",
      "        <div class=\"col-md-3 value-card\">\n",
      "         <div class=\"value\">\n",
      "          <p class=\"txt-value\">\n",
      "           R$ 117.000\n",
      "          </p>\n",
      "         </div>\n",
      "        </div>\n",
      "       </div>\n",
      "      </div>\n",
      "      <div class=\"type-select\">\n",
      "       246 veículos encontrados\n",
      "      </div>\n",
      "      <div class=\"container-pagination\" style=\"float: right\">\n",
      "       <span class=\"info-pages\">\n",
      "        Página 1 de 25\n",
      "       </span>\n",
      "      </div>\n",
      "     </div>\n",
      "    </div>\n",
      "   </div>\n",
      "  </div>\n",
      " </body>\n",
      "</html>\n",
      "<footer>\n",
      " <nav class=\"navbar navbar-inverse\">\n",
      "  <div class=\"container\" style=\"margin-bottom: 10px;\">\n",
      "   <div class=\"navbar\">\n",
      "    <a class=\"navbar-brand\" href=\"./index.php\" title=\"Alura Motors\">\n",
      "     <img alt=\"Alura\" class=\"d-inline-block align-top\" src=\"img/alura-logo.svg\"/>\n",
      "     Motors\n",
      "    </a>\n",
      "    <p style=\"color: #fff; text-align: center; margin-top: 40px;\">\n",
      "     Aplicação para treinamento de web scraping\n",
      "    </p>\n",
      "   </div>\n",
      "  </div>\n",
      " </nav>\n",
      "</footer>\n"
     ]
    }
   ],
   "source": [
    "print(soup.prettify())"
   ]
  },
  {
   "cell_type": "markdown",
   "metadata": {},
   "source": [
    "# 3.3. Acessando tags"
   ]
  },
  {
   "cell_type": "code",
   "execution_count": 18,
   "metadata": {
    "scrolled": true
   },
   "outputs": [
    {
     "data": {
      "text/plain": [
       "<html lang=\"pt-br\"><head><meta charset=\"utf-8\"/><meta content=\"width=device-width, initial-scale=1, shrink-to-fit=no\" name=\"viewport\"/><title>Alura Motors</title><style> /*Regra para a animacao*/ @keyframes spin { 0% { transform: rotate(0deg); } 100% { transform: rotate(360deg); } } /*Mudando o tamanho do icone de resposta*/ div.glyphicon { color:#6B8E23; font-size: 38px; } /*Classe que mostra a animacao 'spin'*/ .loader { border: 16px solid #f3f3f3; border-radius: 50%; border-top: 16px solid #3498db; width: 80px; height: 80px; -webkit-animation: spin 2s linear infinite; animation: spin 2s linear infinite; } </style><link crossorigin=\"anonymous\" href=\"https://maxcdn.bootstrapcdn.com/bootstrap/3.3.7/css/bootstrap.min.css\" integrity=\"sha384-BVYiiSIFeK1dGmJRAkycuHAHRg32OmUcww7on3RYdg4Va+PmSTsz/K68vbdEjh4u\" rel=\"stylesheet\"/><link href=\"css/styles.css\" media=\"all\" rel=\"stylesheet\"/><script src=\"https://code.jquery.com/jquery-1.12.4.js\"></script><script crossorigin=\"anonymous\" integrity=\"sha384-Tc5IQib027qvyjSMfHjOMaLkfuWVxZxUPnCJA7l2mCWNIpG9mGCD8wGNIcPD7Txa\" src=\"https://maxcdn.bootstrapcdn.com/bootstrap/3.3.7/js/bootstrap.min.js\"></script><script src=\"js/index.js\" type=\"text/javascript\"></script><script> requisitar(\"https://alura-scraping.herokuapp.com/produtos?_page=\"+1+\"&_limit=10\") </script></head><body cz-shortcut-listen=\"true\"><noscript>You need to enable JavaScript to run this app.</noscript><div aria-labelledby=\"loadingModal_label\" class=\"modal fade\" data-backdrop=\"static\" id=\"loadingModal\" role=\"dialog\" tabindex=\"-1\"><div class=\"modal-dialog\" role=\"document\"><div class=\"modal-content\"><div class=\"modal-header\"><h5 class=\"modal-title\" id=\"loadingModal_label\"><span class=\"glyphicon glyphicon-refresh\"></span>Aguarde... </h5></div><div class=\"modal-body\"><div class=\"alert\" role=\"alert\"><center><div class=\"loader\" id=\"loader\"></div><br/><h4><b id=\"loadingModal_content\"></b></h4></center></div></div></div></div></div><div id=\"root\"><header><nav class=\"navbar navbar-inverse\" style=\"margin-bottom: 0;\"><div class=\"container\" style=\"margin-bottom: -20px;\"><div class=\"navbar\"><a class=\"navbar-brand\" href=\"./index.php\" title=\"Alura Motors\"><img alt=\"Alura\" class=\"d-inline-block align-top\" src=\"img/alura-logo.svg\"/>Motors </a><ul class=\"nav navbar-nav\" style=\"margin-top: 35px;\"><li><a href=\"./hello-world.php\">Hello World</a></li><li><a href=\"./index.php\">Anúncios</a></li></ul></div></div></nav></header><div class=\"container\"><h1 class=\"sub-header\">Veículos de Luxo Novos e Usados - Todas as Marcas</h1><div class=\"row\"><div class=\"col-md-12\"><div class=\"container\" style=\"width: 100%\"><div class=\"type-select\">246 veículos encontrados</div><div class=\"container-pagination\" style=\"float: right\"><span class=\"info-pages\">Página 1 de 25</span></div></div><div id=\"container-cards\" style=\"height: 100%\"><div class=\"well card\"><div class=\"col-md-3 image-card\"><img alt=\"Foto\" height=\"155\" src=\"https://caelum-online-public.s3.amazonaws.com/1381-scraping/01/img-cars/lamborghini-aventador/lamborghini-aventador-2932196__340.jpg\" width=\"220\"/></div><div class=\"col-md-6 body-card\"><p class=\"txt-name inline\">LAMBORGHINI AVENTADOR</p><p class=\"txt-category badge badge-secondary inline\">USADO</p><p class=\"txt-motor\">Motor 1.8 16v</p><p class=\"txt-description\">Ano 1993 - 55.286 km</p><ul class=\"lst-items\"><li class=\"txt-items\">► 4 X 4</li><li class=\"txt-items\">► Câmera de estacionamento</li><li class=\"txt-items\">► Controle de tração</li><li class=\"txt-items\">► Sensor de estacionamento</li><li class=\"txt-items\">...</li></ul><p class=\"txt-location\">Belo Horizonte - MG</p></div><div class=\"col-md-3 value-card\"><div class=\"value\"><p class=\"txt-value\">R$ 338.000</p></div></div></div><div class=\"well card\"><div class=\"col-md-3 image-card\"><img alt=\"Foto\" height=\"155\" src=\"https://caelum-online-public.s3.amazonaws.com/1381-scraping/01/img-cars/bmw-m2/bmw-m2-2970882__340.jpg\" width=\"220\"/></div><div class=\"col-md-6 body-card\"><p class=\"txt-name inline\">BMW M2</p><p class=\"txt-category badge badge-secondary inline\">USADO</p><p class=\"txt-motor\">Motor 3.0 32v</p><p class=\"txt-description\">Ano 2018 - 83.447 km</p><ul class=\"lst-items\"><li class=\"txt-items\">► Câmera de estacionamento</li><li class=\"txt-items\">► Controle de estabilidade</li><li class=\"txt-items\">► Travas elétricas</li><li class=\"txt-items\">► Freios ABS</li><li class=\"txt-items\">...</li></ul><p class=\"txt-location\">Belo Horizonte - MG</p></div><div class=\"col-md-3 value-card\"><div class=\"value\"><p class=\"txt-value\">R$ 346.000</p></div></div></div><div class=\"well card\"><div class=\"col-md-3 image-card\"><img alt=\"Foto\" height=\"155\" src=\"https://caelum-online-public.s3.amazonaws.com/1381-scraping/01/img-cars/alfa/alfa-1823056__340.jpg\" width=\"220\"/></div><div class=\"col-md-6 body-card\"><p class=\"txt-name inline\">ALFA</p><p class=\"txt-category badge badge-secondary inline\">USADO</p><p class=\"txt-motor\">Motor 1.8 16v</p><p class=\"txt-description\">Ano 2004 - 19.722 km</p><ul class=\"lst-items\"><li class=\"txt-items\">► Central multimídia</li><li class=\"txt-items\">► Bancos de couro</li><li class=\"txt-items\">► Rodas de liga</li><li class=\"txt-items\">► Câmera de estacionamento</li><li class=\"txt-items\">...</li></ul><p class=\"txt-location\">Rio de Janeiro - RJ</p></div><div class=\"col-md-3 value-card\"><div class=\"value\"><p class=\"txt-value\">R$ 480.000</p></div></div></div><div class=\"well card\"><div class=\"col-md-3 image-card\"><img alt=\"Foto\" height=\"155\" src=\"https://caelum-online-public.s3.amazonaws.com/1381-scraping/01/img-cars/puech/puech-4055386__340.jpg\" width=\"220\"/></div><div class=\"col-md-6 body-card\"><p class=\"txt-name inline\">PUECH</p><p class=\"txt-category badge badge-secondary inline\">USADO</p><p class=\"txt-motor\">Motor Diesel V8</p><p class=\"txt-description\">Ano 1992 - 34.335 km</p><ul class=\"lst-items\"><li class=\"txt-items\">► Bancos de couro</li><li class=\"txt-items\">► Freios ABS</li><li class=\"txt-items\">► Rodas de liga</li><li class=\"txt-items\">► Câmbio automático</li><li class=\"txt-items\">...</li></ul><p class=\"txt-location\">São Paulo - SP</p></div><div class=\"col-md-3 value-card\"><div class=\"value\"><p class=\"txt-value\">R$ 133.000</p></div></div></div><div class=\"well card\"><div class=\"col-md-3 image-card\"><img alt=\"Foto\" height=\"155\" src=\"https://caelum-online-public.s3.amazonaws.com/1381-scraping/01/img-cars/lamborghini-murcielago/lamborghini-murcielago-2872974__340.jpg\" width=\"220\"/></div><div class=\"col-md-6 body-card\"><p class=\"txt-name inline\">LAMBORGHINI MURCIELAGO</p><p class=\"txt-category badge badge-secondary inline\">USADO</p><p class=\"txt-motor\">Motor 1.0 8v</p><p class=\"txt-description\">Ano 1991 - 464 km</p><ul class=\"lst-items\"><li class=\"txt-items\">► Central multimídia</li><li class=\"txt-items\">► Teto panorâmico</li><li class=\"txt-items\">► Sensor crepuscular</li><li class=\"txt-items\">► Piloto automático</li><li class=\"txt-items\">...</li></ul><p class=\"txt-location\">Belo Horizonte - MG</p></div><div class=\"col-md-3 value-card\"><div class=\"value\"><p class=\"txt-value\">R$ 175.000</p></div></div></div><div class=\"well card\"><div class=\"col-md-3 image-card\"><img alt=\"Foto\" height=\"155\" src=\"https://caelum-online-public.s3.amazonaws.com/1381-scraping/01/img-cars/aston-martin/aston-martin-2977916__340.jpg\" width=\"220\"/></div><div class=\"col-md-6 body-card\"><p class=\"txt-name inline\">ASTON MARTIN</p><p class=\"txt-category badge badge-secondary inline\">USADO</p><p class=\"txt-opportunity badge badge-danger inline\">OPORTUNIDADE</p><p class=\"txt-motor\">Motor Diesel V6</p><p class=\"txt-description\">Ano 2004 - 50.189 km</p><ul class=\"lst-items\"><li class=\"txt-items\">► Painel digital</li><li class=\"txt-items\">► Controle de tração</li><li class=\"txt-items\">► Teto panorâmico</li><li class=\"txt-items\">► Central multimídia</li><li class=\"txt-items\">...</li></ul><p class=\"txt-location\">Belo Horizonte - MG</p></div><div class=\"col-md-3 value-card\"><div class=\"value\"><p class=\"txt-value\">R$ 239.000</p></div></div></div><div class=\"well card\"><div class=\"col-md-3 image-card\"><img alt=\"Foto\" height=\"155\" src=\"https://caelum-online-public.s3.amazonaws.com/1381-scraping/01/img-cars/tvr/tvr-2943925__340.jpg\" width=\"220\"/></div><div class=\"col-md-6 body-card\"><p class=\"txt-name inline\">TVR</p><p class=\"txt-category badge badge-secondary inline\">USADO</p><p class=\"txt-motor\">Motor 4.0 Turbo</p><p class=\"txt-description\">Ano 2014 - 17.778 km</p><ul class=\"lst-items\"><li class=\"txt-items\">► 4 X 4</li><li class=\"txt-items\">► Teto panorâmico</li><li class=\"txt-items\">► Central multimídia</li><li class=\"txt-items\">► Controle de estabilidade</li><li class=\"txt-items\">...</li></ul><p class=\"txt-location\">Belo Horizonte - MG</p></div><div class=\"col-md-3 value-card\"><div class=\"value\"><p class=\"txt-value\">R$ 115.000</p></div></div></div><div class=\"well card\"><div class=\"col-md-3 image-card\"><img alt=\"Foto\" height=\"155\" src=\"https://caelum-online-public.s3.amazonaws.com/1381-scraping/01/img-cars/excalibur/excalibur-2916730__340.jpg\" width=\"220\"/></div><div class=\"col-md-6 body-card\"><p class=\"txt-name inline\">EXCALIBUR</p><p class=\"txt-category badge badge-secondary inline\">USADO</p><p class=\"txt-motor\">Motor 3.0 32v</p><p class=\"txt-description\">Ano 2009 - 81.251 km</p><ul class=\"lst-items\"><li class=\"txt-items\">► Painel digital</li><li class=\"txt-items\">► Câmbio automático</li><li class=\"txt-items\">► Sensor de chuva</li><li class=\"txt-items\">► Travas elétricas</li><li class=\"txt-items\">...</li></ul><p class=\"txt-location\">Rio de Janeiro - RJ</p></div><div class=\"col-md-3 value-card\"><div class=\"value\"><p class=\"txt-value\">R$ 114.000</p></div></div></div><div class=\"well card\"><div class=\"col-md-3 image-card\"><img alt=\"Foto\" height=\"155\" src=\"https://caelum-online-public.s3.amazonaws.com/1381-scraping/01/img-cars/mclaren/mclaren-2855240__340.jpg\" width=\"220\"/></div><div class=\"col-md-6 body-card\"><p class=\"txt-name inline\">MCLAREN</p><p class=\"txt-category badge badge-secondary inline\">NOVO</p><p class=\"txt-motor\">Motor Diesel</p><p class=\"txt-description\">Ano 2019 - 0 km</p><ul class=\"lst-items\"><li class=\"txt-items\">► Central multimídia</li><li class=\"txt-items\">► Câmera de estacionamento</li><li class=\"txt-items\">► Câmbio automático</li><li class=\"txt-items\">► Ar condicionado</li><li class=\"txt-items\">...</li></ul><p class=\"txt-location\">São Paulo - SP</p></div><div class=\"col-md-3 value-card\"><div class=\"value\"><p class=\"txt-value\">R$ 75.000</p></div></div></div><div class=\"well card\"><div class=\"col-md-3 image-card\"><img alt=\"Foto\" height=\"155\" src=\"https://caelum-online-public.s3.amazonaws.com/1381-scraping/01/img-cars/toyota/toyota-3245397__340.jpg\" width=\"220\"/></div><div class=\"col-md-6 body-card\"><p class=\"txt-name inline\">TOYOTA</p><p class=\"txt-category badge badge-secondary inline\">USADO</p><p class=\"txt-opportunity badge badge-danger inline\">OPORTUNIDADE</p><p class=\"txt-motor\">Motor 4.0 Turbo</p><p class=\"txt-description\">Ano 1999 - 12.536 km</p><ul class=\"lst-items\"><li class=\"txt-items\">► Bancos de couro</li><li class=\"txt-items\">► Freios ABS</li><li class=\"txt-items\">► Piloto automático</li><li class=\"txt-items\">► Controle de estabilidade</li><li class=\"txt-items\">...</li></ul><p class=\"txt-location\">São Paulo - SP</p></div><div class=\"col-md-3 value-card\"><div class=\"value\"><p class=\"txt-value\">R$ 117.000</p></div></div></div></div><div class=\"type-select\">246 veículos encontrados</div><div class=\"container-pagination\" style=\"float: right\"><span class=\"info-pages\">Página 1 de 25</span></div></div></div></div></div></body></html>"
      ]
     },
     "execution_count": 18,
     "metadata": {},
     "output_type": "execute_result"
    }
   ],
   "source": [
    "soup.html"
   ]
  },
  {
   "cell_type": "code",
   "execution_count": 19,
   "metadata": {
    "scrolled": true
   },
   "outputs": [
    {
     "data": {
      "text/plain": [
       "<title>Alura Motors</title>"
      ]
     },
     "execution_count": 19,
     "metadata": {},
     "output_type": "execute_result"
    }
   ],
   "source": [
    "soup.html.head.title"
   ]
  },
  {
   "cell_type": "code",
   "execution_count": 20,
   "metadata": {},
   "outputs": [
    {
     "data": {
      "text/plain": [
       "<title>Alura Motors</title>"
      ]
     },
     "execution_count": 20,
     "metadata": {},
     "output_type": "execute_result"
    }
   ],
   "source": [
    "soup.title"
   ]
  },
  {
   "cell_type": "code",
   "execution_count": 21,
   "metadata": {},
   "outputs": [
    {
     "data": {
      "text/plain": [
       "<h5 class=\"modal-title\" id=\"loadingModal_label\"><span class=\"glyphicon glyphicon-refresh\"></span>Aguarde... </h5>"
      ]
     },
     "execution_count": 21,
     "metadata": {},
     "output_type": "execute_result"
    }
   ],
   "source": [
    "soup.div.div.div.div.h5"
   ]
  },
  {
   "cell_type": "code",
   "execution_count": 22,
   "metadata": {},
   "outputs": [
    {
     "data": {
      "text/plain": [
       "<h5 class=\"modal-title\" id=\"loadingModal_label\"><span class=\"glyphicon glyphicon-refresh\"></span>Aguarde... </h5>"
      ]
     },
     "execution_count": 22,
     "metadata": {},
     "output_type": "execute_result"
    }
   ],
   "source": [
    "soup.h5"
   ]
  },
  {
   "cell_type": "markdown",
   "metadata": {},
   "source": [
    "# 3.4. Acessando o conteúdo das tags"
   ]
  },
  {
   "cell_type": "code",
   "execution_count": 23,
   "metadata": {},
   "outputs": [
    {
     "data": {
      "text/plain": [
       "<title>Alura Motors</title>"
      ]
     },
     "execution_count": 23,
     "metadata": {},
     "output_type": "execute_result"
    }
   ],
   "source": [
    "soup.html.head.title"
   ]
  },
  {
   "cell_type": "code",
   "execution_count": 24,
   "metadata": {},
   "outputs": [
    {
     "data": {
      "text/plain": [
       "<title>Alura Motors</title>"
      ]
     },
     "execution_count": 24,
     "metadata": {},
     "output_type": "execute_result"
    }
   ],
   "source": [
    "soup.title"
   ]
  },
  {
   "cell_type": "code",
   "execution_count": 25,
   "metadata": {},
   "outputs": [
    {
     "data": {
      "text/plain": [
       "'Alura Motors'"
      ]
     },
     "execution_count": 25,
     "metadata": {},
     "output_type": "execute_result"
    }
   ],
   "source": [
    "soup.title.get_text()"
   ]
  },
  {
   "cell_type": "code",
   "execution_count": 26,
   "metadata": {},
   "outputs": [
    {
     "data": {
      "text/plain": [
       "'Aguarde... '"
      ]
     },
     "execution_count": 26,
     "metadata": {},
     "output_type": "execute_result"
    }
   ],
   "source": [
    "soup.h5.getText()"
   ]
  },
  {
   "cell_type": "code",
   "execution_count": 27,
   "metadata": {},
   "outputs": [
    {
     "data": {
      "text/plain": [
       "'Alura Motors /*Regra para a animacao*/ @keyframes spin { 0% { transform: rotate(0deg); } 100% { transform: rotate(360deg); } } /*Mudando o tamanho do icone de resposta*/ div.glyphicon { color:#6B8E23; font-size: 38px; } /*Classe que mostra a animacao \\'spin\\'*/ .loader { border: 16px solid #f3f3f3; border-radius: 50%; border-top: 16px solid #3498db; width: 80px; height: 80px; -webkit-animation: spin 2s linear infinite; animation: spin 2s linear infinite; }  requisitar(\"https://alura-scraping.herokuapp.com/produtos?_page=\"+1+\"&_limit=10\") You need to enable JavaScript to run this app.Aguarde... Motors Hello WorldAnúnciosVeículos de Luxo Novos e Usados - Todas as Marcas246 veículos encontradosPágina 1 de 25LAMBORGHINI AVENTADORUSADOMotor 1.8 16vAno 1993 - 55.286 km► 4 X 4► Câmera de estacionamento► Controle de tração► Sensor de estacionamento...Belo Horizonte - MGR$ 338.000BMW M2USADOMotor 3.0 32vAno 2018 - 83.447 km► Câmera de estacionamento► Controle de estabilidade► Travas elétricas► Freios ABS...Belo Horizonte - MGR$ 346.000ALFAUSADOMotor 1.8 16vAno 2004 - 19.722 km► Central multimídia► Bancos de couro► Rodas de liga► Câmera de estacionamento...Rio de Janeiro - RJR$ 480.000PUECHUSADOMotor Diesel V8Ano 1992 - 34.335 km► Bancos de couro► Freios ABS► Rodas de liga► Câmbio automático...São Paulo - SPR$ 133.000LAMBORGHINI MURCIELAGOUSADOMotor 1.0 8vAno 1991 - 464 km► Central multimídia► Teto panorâmico► Sensor crepuscular► Piloto automático...Belo Horizonte - MGR$ 175.000ASTON MARTINUSADOOPORTUNIDADEMotor Diesel V6Ano 2004 - 50.189 km► Painel digital► Controle de tração► Teto panorâmico► Central multimídia...Belo Horizonte - MGR$ 239.000TVRUSADOMotor 4.0 TurboAno 2014 - 17.778 km► 4 X 4► Teto panorâmico► Central multimídia► Controle de estabilidade...Belo Horizonte - MGR$ 115.000EXCALIBURUSADOMotor 3.0 32vAno 2009 - 81.251 km► Painel digital► Câmbio automático► Sensor de chuva► Travas elétricas...Rio de Janeiro - RJR$ 114.000MCLARENNOVOMotor DieselAno 2019 - 0 km► Central multimídia► Câmera de estacionamento► Câmbio automático► Ar condicionado...São Paulo - SPR$ 75.000TOYOTAUSADOOPORTUNIDADEMotor 4.0 TurboAno 1999 - 12.536 km► Bancos de couro► Freios ABS► Piloto automático► Controle de estabilidade...São Paulo - SPR$ 117.000246 veículos encontradosPágina 1 de 25Motors Aplicação para treinamento de web scraping'"
      ]
     },
     "execution_count": 27,
     "metadata": {},
     "output_type": "execute_result"
    }
   ],
   "source": [
    "soup.get_text()"
   ]
  },
  {
   "cell_type": "markdown",
   "metadata": {},
   "source": [
    "# 3.5. Acessando os atributos de uma tag"
   ]
  },
  {
   "cell_type": "code",
   "execution_count": 28,
   "metadata": {},
   "outputs": [
    {
     "data": {
      "text/plain": [
       "<img alt=\"Alura\" class=\"d-inline-block align-top\" src=\"img/alura-logo.svg\"/>"
      ]
     },
     "execution_count": 28,
     "metadata": {},
     "output_type": "execute_result"
    }
   ],
   "source": [
    "soup.img"
   ]
  },
  {
   "cell_type": "code",
   "execution_count": 29,
   "metadata": {},
   "outputs": [
    {
     "data": {
      "text/plain": [
       "{'src': 'img/alura-logo.svg',\n",
       " 'class': ['d-inline-block', 'align-top'],\n",
       " 'alt': 'Alura'}"
      ]
     },
     "execution_count": 29,
     "metadata": {},
     "output_type": "execute_result"
    }
   ],
   "source": [
    "soup.img.attrs"
   ]
  },
  {
   "cell_type": "code",
   "execution_count": 30,
   "metadata": {},
   "outputs": [
    {
     "data": {
      "text/plain": [
       "dict_keys(['src', 'class', 'alt'])"
      ]
     },
     "execution_count": 30,
     "metadata": {},
     "output_type": "execute_result"
    }
   ],
   "source": [
    "soup.img.attrs.keys()"
   ]
  },
  {
   "cell_type": "code",
   "execution_count": 31,
   "metadata": {},
   "outputs": [
    {
     "data": {
      "text/plain": [
       "dict_values(['img/alura-logo.svg', ['d-inline-block', 'align-top'], 'Alura'])"
      ]
     },
     "execution_count": 31,
     "metadata": {},
     "output_type": "execute_result"
    }
   ],
   "source": [
    "soup.img.attrs.values()"
   ]
  },
  {
   "cell_type": "code",
   "execution_count": 32,
   "metadata": {},
   "outputs": [
    {
     "data": {
      "text/plain": [
       "['d-inline-block', 'align-top']"
      ]
     },
     "execution_count": 32,
     "metadata": {},
     "output_type": "execute_result"
    }
   ],
   "source": [
    "soup.img['class']"
   ]
  },
  {
   "cell_type": "code",
   "execution_count": 33,
   "metadata": {},
   "outputs": [
    {
     "data": {
      "text/plain": [
       "'img/alura-logo.svg'"
      ]
     },
     "execution_count": 33,
     "metadata": {},
     "output_type": "execute_result"
    }
   ],
   "source": [
    "soup.img.get('src')"
   ]
  },
  {
   "cell_type": "markdown",
   "metadata": {},
   "source": [
    "---\n",
    "# <font color=green>4. PESQUISANDO COM O BEAUTIFULSOUP"
   ]
  },
  {
   "cell_type": "markdown",
   "metadata": {},
   "source": [
    "# 4.1. Os métodos *find()* e *findAll()*"
   ]
  },
  {
   "cell_type": "markdown",
   "metadata": {},
   "source": [
    "- ### *find(tag, attributes, recursive, text, **kwargs)*\n",
    "\n",
    "- ### *findAll(tag, attributes, recursive, text, limit, **kwargs)*\n",
    "\n",
    "#### https://www.crummy.com/software/BeautifulSoup/bs4/doc/#find\n",
    "#### https://www.crummy.com/software/BeautifulSoup/bs4/doc/#find-all\n",
    "\n",
    "> **Observação:**\n",
    "> - *findAll()* também pode ser utilizado como *find_all()*"
   ]
  },
  {
   "cell_type": "markdown",
   "metadata": {},
   "source": [
    "### Método *find()*"
   ]
  },
  {
   "cell_type": "code",
   "execution_count": null,
   "metadata": {},
   "outputs": [],
   "source": []
  },
  {
   "cell_type": "code",
   "execution_count": null,
   "metadata": {},
   "outputs": [],
   "source": []
  },
  {
   "cell_type": "markdown",
   "metadata": {},
   "source": [
    "### Método *findAll()*"
   ]
  },
  {
   "cell_type": "code",
   "execution_count": null,
   "metadata": {},
   "outputs": [],
   "source": []
  },
  {
   "cell_type": "markdown",
   "metadata": {},
   "source": [
    "### Comando equivalente ao método *find()*"
   ]
  },
  {
   "cell_type": "code",
   "execution_count": null,
   "metadata": {},
   "outputs": [],
   "source": []
  },
  {
   "cell_type": "markdown",
   "metadata": {},
   "source": [
    "### Atalho para o método *findAll()*"
   ]
  },
  {
   "cell_type": "code",
   "execution_count": null,
   "metadata": {},
   "outputs": [],
   "source": []
  },
  {
   "cell_type": "markdown",
   "metadata": {},
   "source": [
    "### Passando listas de TAGs"
   ]
  },
  {
   "cell_type": "code",
   "execution_count": null,
   "metadata": {},
   "outputs": [],
   "source": []
  },
  {
   "cell_type": "markdown",
   "metadata": {},
   "source": [
    "### Utilizando o argumento *attributes*"
   ]
  },
  {
   "cell_type": "code",
   "execution_count": null,
   "metadata": {
    "scrolled": true
   },
   "outputs": [],
   "source": []
  },
  {
   "cell_type": "markdown",
   "metadata": {},
   "source": [
    "### Buscando por conteúdo de uma TAG"
   ]
  },
  {
   "cell_type": "code",
   "execution_count": null,
   "metadata": {},
   "outputs": [],
   "source": []
  },
  {
   "cell_type": "markdown",
   "metadata": {},
   "source": [
    "### Utilizando diretamente os atributos"
   ]
  },
  {
   "cell_type": "code",
   "execution_count": null,
   "metadata": {},
   "outputs": [],
   "source": []
  },
  {
   "cell_type": "code",
   "execution_count": null,
   "metadata": {},
   "outputs": [],
   "source": []
  },
  {
   "cell_type": "markdown",
   "metadata": {},
   "source": [
    "### Cuidado com o atributo \"class\""
   ]
  },
  {
   "cell_type": "code",
   "execution_count": null,
   "metadata": {},
   "outputs": [],
   "source": []
  },
  {
   "cell_type": "markdown",
   "metadata": {},
   "source": [
    "### Obtendo todo o conteúdo de texto de uma página"
   ]
  },
  {
   "cell_type": "code",
   "execution_count": null,
   "metadata": {},
   "outputs": [],
   "source": []
  },
  {
   "cell_type": "markdown",
   "metadata": {},
   "source": [
    "# 4.2. Outros métodos de pesquisa"
   ]
  },
  {
   "cell_type": "markdown",
   "metadata": {},
   "source": [
    "- ### *findParent(tag, attributes, text, **kwargs)*\n",
    "\n",
    "- ### *findParents(tag, attributes, text, limit, **kwargs)*\n",
    "\n",
    "#### https://www.crummy.com/software/BeautifulSoup/bs4/doc/#find-parents-and-find-parent\n",
    "\n",
    "> **Observação:**\n",
    "> - *findParent()* e *findParents()* também podem ser utilizados como *find_parent()* e *find_parents()*, respectivamente.\n",
    "---\n",
    "- ### *findNextSibling(tag, attributes, text, **kwargs)*\n",
    "\n",
    "- ### *findNextSiblings(tag, attributes, text, limit, **kwargs)*\n",
    "\n",
    "- ### *findPreviousSibling(tag, attributes, text, **kwargs)*\n",
    "\n",
    "- ### *findPreviousSiblings(tag, attributes, text, limit, **kwargs)*\n",
    "\n",
    "#### https://www.crummy.com/software/BeautifulSoup/bs4/doc/#find-next-siblings-and-find-next-sibling\n",
    "#### https://www.crummy.com/software/BeautifulSoup/bs4/doc/#find-previous-siblings-and-find-previous-sibling\n",
    "\n",
    "> **Observação:**\n",
    "> - *findNextSibling()*, *findNextSiblings()*, *findPreviousSibling()* e *findPreviousSiblings()* também podem ser utilizados como *find_next_sibling()*, *find_next_siblings()*, *find_previous_sibling()* e *find_previous_siblings()*, respectivamente.\n",
    "---\n",
    "- ### *findNext(tag, attributes, text, **kwargs)*\n",
    "\n",
    "- ### *findAllNext(tag, attributes, text, limit, **kwargs)*\n",
    "\n",
    "- ### *findPrevious(tag, attributes, text, **kwargs)*\n",
    "\n",
    "- ### *findAllPrevious(tag, attributes, text, limit, **kwargs)*\n",
    "\n",
    "#### https://www.crummy.com/software/BeautifulSoup/bs4/doc/#find-all-next-and-find-next\n",
    "#### https://www.crummy.com/software/BeautifulSoup/bs4/doc/#find-all-previous-and-find-previous\n",
    "\n",
    "> **Observação:**\n",
    "> - *findNext()*, *findAllNext()*, *findPrevious* e *findAllPrevious* também podem ser utilizados como *find_next()*, *find_all_next()*, *find_previous()* e *find_all_previous()*, respectivamente."
   ]
  },
  {
   "cell_type": "markdown",
   "metadata": {},
   "source": [
    "## HTML de exemplo para ilustrar a utilização dos métodos de pesquisa do BeautifulSoup"
   ]
  },
  {
   "cell_type": "markdown",
   "metadata": {},
   "source": [
    "<img src=\"https://caelum-online-public.s3.amazonaws.com/1381-scraping/01/BeautifulSoup-method.png\" width=80%>"
   ]
  },
  {
   "cell_type": "markdown",
   "metadata": {},
   "source": [
    "---\n",
    "## Resultado"
   ]
  },
  {
   "cell_type": "markdown",
   "metadata": {},
   "source": [
    "<html>\n",
    "    <body>\n",
    "        <div id=“container-a”>\n",
    "            <h1>Título A</h1>\n",
    "            <h2 class=\"ref-a\">Sub título A</h2>\n",
    "            <p>Texto de conteúdo A</p>\n",
    "        </div>\n",
    "        <div id=“container-b”>\n",
    "            <h1>Título B</h1>\n",
    "            <h2 class=\"ref-b\">Sub título B</h2>\n",
    "            <p>Texto de conteúdo B</p>\n",
    "        </div>\n",
    "    </body>\n",
    "</html>"
   ]
  },
  {
   "cell_type": "code",
   "execution_count": null,
   "metadata": {},
   "outputs": [],
   "source": []
  },
  {
   "cell_type": "markdown",
   "metadata": {},
   "source": [
    "### Tratamentos para a string HTML"
   ]
  },
  {
   "cell_type": "code",
   "execution_count": null,
   "metadata": {},
   "outputs": [],
   "source": []
  },
  {
   "cell_type": "code",
   "execution_count": null,
   "metadata": {},
   "outputs": [],
   "source": []
  },
  {
   "cell_type": "markdown",
   "metadata": {},
   "source": [
    "### Criando o objeto BeautifulSoup"
   ]
  },
  {
   "cell_type": "code",
   "execution_count": null,
   "metadata": {
    "scrolled": true
   },
   "outputs": [],
   "source": []
  },
  {
   "cell_type": "markdown",
   "metadata": {},
   "source": [
    "### Parents"
   ]
  },
  {
   "cell_type": "code",
   "execution_count": null,
   "metadata": {},
   "outputs": [],
   "source": []
  },
  {
   "cell_type": "code",
   "execution_count": null,
   "metadata": {},
   "outputs": [],
   "source": []
  },
  {
   "cell_type": "code",
   "execution_count": null,
   "metadata": {},
   "outputs": [],
   "source": []
  },
  {
   "cell_type": "code",
   "execution_count": null,
   "metadata": {},
   "outputs": [],
   "source": []
  },
  {
   "cell_type": "code",
   "execution_count": null,
   "metadata": {},
   "outputs": [],
   "source": []
  },
  {
   "cell_type": "markdown",
   "metadata": {},
   "source": [
    "## Siblings"
   ]
  },
  {
   "cell_type": "code",
   "execution_count": null,
   "metadata": {},
   "outputs": [],
   "source": []
  },
  {
   "cell_type": "code",
   "execution_count": null,
   "metadata": {},
   "outputs": [],
   "source": []
  },
  {
   "cell_type": "code",
   "execution_count": null,
   "metadata": {},
   "outputs": [],
   "source": []
  },
  {
   "cell_type": "markdown",
   "metadata": {},
   "source": [
    "## Next e Previous"
   ]
  },
  {
   "cell_type": "code",
   "execution_count": null,
   "metadata": {},
   "outputs": [],
   "source": []
  },
  {
   "cell_type": "code",
   "execution_count": null,
   "metadata": {},
   "outputs": [],
   "source": []
  },
  {
   "cell_type": "code",
   "execution_count": null,
   "metadata": {},
   "outputs": [],
   "source": []
  },
  {
   "cell_type": "markdown",
   "metadata": {},
   "source": [
    "# <font color=green>5. WEB SCRAPING DO SITE ALURA MOTORS - OBTENDO OS DADOS DE UM ANÚNCIO"
   ]
  },
  {
   "cell_type": "markdown",
   "metadata": {},
   "source": [
    "# 5.1. Identificando e selecionando os dados no HTML"
   ]
  },
  {
   "cell_type": "markdown",
   "metadata": {},
   "source": [
    "### Obtendo o HTML e criando o objeto BeautifulSoup"
   ]
  },
  {
   "cell_type": "code",
   "execution_count": null,
   "metadata": {},
   "outputs": [],
   "source": []
  },
  {
   "cell_type": "markdown",
   "metadata": {},
   "source": [
    "### Criando variávels para armazenar informações"
   ]
  },
  {
   "cell_type": "code",
   "execution_count": null,
   "metadata": {},
   "outputs": [],
   "source": []
  },
  {
   "cell_type": "markdown",
   "metadata": {},
   "source": [
    "### Obtendo os dados do primeiro CARD"
   ]
  },
  {
   "cell_type": "code",
   "execution_count": null,
   "metadata": {
    "scrolled": false
   },
   "outputs": [],
   "source": []
  },
  {
   "cell_type": "markdown",
   "metadata": {},
   "source": [
    "# 5.2. Obtendo o VALOR do veículo anunciado"
   ]
  },
  {
   "cell_type": "code",
   "execution_count": null,
   "metadata": {},
   "outputs": [],
   "source": []
  },
  {
   "cell_type": "code",
   "execution_count": null,
   "metadata": {},
   "outputs": [],
   "source": []
  },
  {
   "cell_type": "code",
   "execution_count": null,
   "metadata": {},
   "outputs": [],
   "source": []
  },
  {
   "cell_type": "code",
   "execution_count": null,
   "metadata": {},
   "outputs": [],
   "source": []
  },
  {
   "cell_type": "code",
   "execution_count": null,
   "metadata": {},
   "outputs": [],
   "source": []
  },
  {
   "cell_type": "markdown",
   "metadata": {},
   "source": [
    "### <font color=red>Resumo"
   ]
  },
  {
   "cell_type": "code",
   "execution_count": null,
   "metadata": {},
   "outputs": [],
   "source": [
    "# Valor\n"
   ]
  },
  {
   "cell_type": "markdown",
   "metadata": {},
   "source": [
    "# 5.3. Obtendo as INFORMAÇÕES sobre o veículo anunciado"
   ]
  },
  {
   "cell_type": "code",
   "execution_count": null,
   "metadata": {},
   "outputs": [],
   "source": []
  },
  {
   "cell_type": "code",
   "execution_count": null,
   "metadata": {},
   "outputs": [],
   "source": []
  },
  {
   "cell_type": "code",
   "execution_count": null,
   "metadata": {},
   "outputs": [],
   "source": []
  },
  {
   "cell_type": "code",
   "execution_count": null,
   "metadata": {},
   "outputs": [],
   "source": []
  },
  {
   "cell_type": "code",
   "execution_count": null,
   "metadata": {},
   "outputs": [],
   "source": []
  },
  {
   "cell_type": "code",
   "execution_count": null,
   "metadata": {},
   "outputs": [],
   "source": []
  },
  {
   "cell_type": "code",
   "execution_count": null,
   "metadata": {},
   "outputs": [],
   "source": []
  },
  {
   "cell_type": "code",
   "execution_count": null,
   "metadata": {},
   "outputs": [],
   "source": []
  },
  {
   "cell_type": "markdown",
   "metadata": {},
   "source": [
    "### <font color=red>Resumo"
   ]
  },
  {
   "cell_type": "code",
   "execution_count": null,
   "metadata": {},
   "outputs": [],
   "source": [
    "# Informações\n"
   ]
  },
  {
   "cell_type": "markdown",
   "metadata": {},
   "source": [
    "# 5.4. Obtendo os ACESSÓRIOS do veículo anunciado"
   ]
  },
  {
   "cell_type": "code",
   "execution_count": null,
   "metadata": {},
   "outputs": [],
   "source": []
  },
  {
   "cell_type": "code",
   "execution_count": null,
   "metadata": {},
   "outputs": [],
   "source": []
  },
  {
   "cell_type": "code",
   "execution_count": null,
   "metadata": {},
   "outputs": [],
   "source": []
  },
  {
   "cell_type": "code",
   "execution_count": null,
   "metadata": {},
   "outputs": [],
   "source": []
  },
  {
   "cell_type": "code",
   "execution_count": null,
   "metadata": {},
   "outputs": [],
   "source": []
  },
  {
   "cell_type": "code",
   "execution_count": null,
   "metadata": {},
   "outputs": [],
   "source": []
  },
  {
   "cell_type": "code",
   "execution_count": null,
   "metadata": {},
   "outputs": [],
   "source": []
  },
  {
   "cell_type": "code",
   "execution_count": null,
   "metadata": {},
   "outputs": [],
   "source": []
  },
  {
   "cell_type": "markdown",
   "metadata": {},
   "source": [
    "### <font color=red>Resumo"
   ]
  },
  {
   "cell_type": "code",
   "execution_count": 101,
   "metadata": {},
   "outputs": [],
   "source": [
    "# Acessórios\n"
   ]
  },
  {
   "cell_type": "markdown",
   "metadata": {},
   "source": [
    "# 5.5 Criando um DataFrame com os dados coletados do Alura Motors"
   ]
  },
  {
   "cell_type": "code",
   "execution_count": null,
   "metadata": {},
   "outputs": [],
   "source": []
  },
  {
   "cell_type": "code",
   "execution_count": null,
   "metadata": {},
   "outputs": [],
   "source": []
  },
  {
   "cell_type": "code",
   "execution_count": null,
   "metadata": {},
   "outputs": [],
   "source": []
  },
  {
   "cell_type": "code",
   "execution_count": null,
   "metadata": {},
   "outputs": [],
   "source": []
  },
  {
   "cell_type": "code",
   "execution_count": null,
   "metadata": {},
   "outputs": [],
   "source": []
  },
  {
   "cell_type": "code",
   "execution_count": null,
   "metadata": {},
   "outputs": [],
   "source": []
  },
  {
   "cell_type": "code",
   "execution_count": null,
   "metadata": {},
   "outputs": [],
   "source": []
  },
  {
   "cell_type": "code",
   "execution_count": null,
   "metadata": {},
   "outputs": [],
   "source": []
  },
  {
   "cell_type": "markdown",
   "metadata": {},
   "source": [
    "# 5.6. Obtendo a FOTO do anúncio"
   ]
  },
  {
   "cell_type": "code",
   "execution_count": null,
   "metadata": {},
   "outputs": [],
   "source": []
  },
  {
   "cell_type": "code",
   "execution_count": null,
   "metadata": {},
   "outputs": [],
   "source": []
  },
  {
   "cell_type": "code",
   "execution_count": null,
   "metadata": {},
   "outputs": [],
   "source": []
  },
  {
   "cell_type": "markdown",
   "metadata": {},
   "source": [
    "### Visualizando a FOTO no notebook (extra)"
   ]
  },
  {
   "cell_type": "code",
   "execution_count": null,
   "metadata": {},
   "outputs": [],
   "source": []
  },
  {
   "cell_type": "code",
   "execution_count": null,
   "metadata": {},
   "outputs": [],
   "source": []
  },
  {
   "cell_type": "markdown",
   "metadata": {},
   "source": [
    "### Rotina para acessar e salvar a FOTO do anúncio"
   ]
  },
  {
   "cell_type": "markdown",
   "metadata": {},
   "source": [
    "## https://docs.python.org/3/library/urllib.request.html#urllib.request.urlretrieve"
   ]
  },
  {
   "cell_type": "code",
   "execution_count": null,
   "metadata": {},
   "outputs": [],
   "source": []
  },
  {
   "cell_type": "code",
   "execution_count": null,
   "metadata": {},
   "outputs": [],
   "source": []
  },
  {
   "cell_type": "markdown",
   "metadata": {},
   "source": [
    "### <font color=red>Resumo"
   ]
  },
  {
   "cell_type": "code",
   "execution_count": null,
   "metadata": {},
   "outputs": [],
   "source": []
  },
  {
   "cell_type": "markdown",
   "metadata": {},
   "source": [
    "# <font color=green>6. WEB SCRAPING DO SITE ALURA MOTORS - OBTENDO OS DADOS DE TODOS OS ANÚNCIOS DE UMA PÁGINA"
   ]
  },
  {
   "cell_type": "markdown",
   "metadata": {},
   "source": [
    "# 6.1. Identificando as informações no HTML"
   ]
  },
  {
   "cell_type": "code",
   "execution_count": null,
   "metadata": {
    "scrolled": true
   },
   "outputs": [],
   "source": []
  },
  {
   "cell_type": "code",
   "execution_count": null,
   "metadata": {
    "scrolled": true
   },
   "outputs": [],
   "source": []
  },
  {
   "cell_type": "code",
   "execution_count": null,
   "metadata": {
    "scrolled": true
   },
   "outputs": [],
   "source": []
  },
  {
   "cell_type": "markdown",
   "metadata": {},
   "source": [
    "# 6.2. Criando uma rotina de scraping"
   ]
  },
  {
   "cell_type": "code",
   "execution_count": null,
   "metadata": {},
   "outputs": [],
   "source": []
  },
  {
   "cell_type": "code",
   "execution_count": null,
   "metadata": {},
   "outputs": [],
   "source": []
  },
  {
   "cell_type": "markdown",
   "metadata": {},
   "source": [
    "# <font color=green>7. WEB SCRAPING DO SITE ALURA MOTORS - OBTENDO OS DADOS DE TODOS OS ANÚNCIOS DO SITE"
   ]
  },
  {
   "cell_type": "markdown",
   "metadata": {},
   "source": [
    "# 7.1. Identificando as informações no HTML"
   ]
  },
  {
   "cell_type": "code",
   "execution_count": null,
   "metadata": {},
   "outputs": [],
   "source": []
  },
  {
   "cell_type": "code",
   "execution_count": null,
   "metadata": {
    "scrolled": true
   },
   "outputs": [],
   "source": []
  },
  {
   "cell_type": "code",
   "execution_count": null,
   "metadata": {},
   "outputs": [],
   "source": []
  },
  {
   "cell_type": "code",
   "execution_count": null,
   "metadata": {},
   "outputs": [],
   "source": []
  },
  {
   "cell_type": "code",
   "execution_count": null,
   "metadata": {},
   "outputs": [],
   "source": []
  },
  {
   "cell_type": "markdown",
   "metadata": {},
   "source": [
    "# 7.2. Criando uma rotina de scraping"
   ]
  },
  {
   "cell_type": "code",
   "execution_count": null,
   "metadata": {
    "scrolled": true
   },
   "outputs": [],
   "source": []
  },
  {
   "cell_type": "code",
   "execution_count": null,
   "metadata": {},
   "outputs": [],
   "source": []
  },
  {
   "cell_type": "code",
   "execution_count": null,
   "metadata": {},
   "outputs": [],
   "source": []
  },
  {
   "cell_type": "code",
   "execution_count": null,
   "metadata": {},
   "outputs": [],
   "source": []
  }
 ],
 "metadata": {
  "colab": {
   "name": "Untitled12.ipynb",
   "provenance": [],
   "version": "0.3.2"
  },
  "kernelspec": {
   "display_name": "Python 3",
   "language": "python",
   "name": "python3"
  },
  "language_info": {
   "codemirror_mode": {
    "name": "ipython",
    "version": 3
   },
   "file_extension": ".py",
   "mimetype": "text/x-python",
   "name": "python",
   "nbconvert_exporter": "python",
   "pygments_lexer": "ipython3",
   "version": "3.7.3"
  }
 },
 "nbformat": 4,
 "nbformat_minor": 1
}
